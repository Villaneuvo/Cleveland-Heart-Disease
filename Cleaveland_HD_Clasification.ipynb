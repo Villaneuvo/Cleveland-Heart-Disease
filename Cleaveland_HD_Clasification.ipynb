{
  "nbformat": 4,
  "nbformat_minor": 0,
  "metadata": {
    "colab": {
      "provenance": [],
      "toc_visible": true
    },
    "kernelspec": {
      "name": "python3",
      "display_name": "Python 3"
    },
    "language_info": {
      "name": "python"
    }
  },
  "cells": [
    {
      "cell_type": "markdown",
      "source": [
        "### 1) Persiapan Dataset\n",
        "Link : https://archive.ics.uci.edu/dataset/45/heart+disease\n",
        "\n",
        "Menggunakan cleveland.data"
      ],
      "metadata": {
        "id": "vFo1uzEtf1ck"
      }
    },
    {
      "cell_type": "code",
      "execution_count": 1,
      "metadata": {
        "id": "ZFAM-Q79fjuo"
      },
      "outputs": [],
      "source": [
        "import pandas as pd\n",
        "import seaborn as sns\n",
        "import matplotlib.pyplot as plt\n",
        "import numpy as np\n",
        "import itertools"
      ]
    },
    {
      "cell_type": "code",
      "source": [
        "# Online Drive Importir Cause Of Repository Can Be Found In Google Drive\n",
        "from google.colab import drive\n",
        "\n",
        "drive.mount(\"/content/drive\")\n",
        "dir = \"/content/drive/My Drive/BK/data\""
      ],
      "metadata": {
        "colab": {
          "base_uri": "https://localhost:8080/"
        },
        "id": "vZ7CDWJVgHEg",
        "outputId": "ffc12ef4-d87f-4ed1-e651-ef9d35b28e19"
      },
      "execution_count": 3,
      "outputs": [
        {
          "output_type": "stream",
          "name": "stdout",
          "text": [
            "Drive already mounted at /content/drive; to attempt to forcibly remount, call drive.mount(\"/content/drive\", force_remount=True).\n"
          ]
        }
      ]
    },
    {
      "cell_type": "code",
      "source": [
        "# Dataset Directory\n",
        "data = dir + \"/cleveland.data\""
      ],
      "metadata": {
        "id": "9FQXRhd-hGkT"
      },
      "execution_count": 4,
      "outputs": []
    },
    {
      "cell_type": "markdown",
      "source": [
        "### 2) Menelaah Data\n",
        "Pada dataset yang digunakan ditemukan index yang sangat berantakan pada bagian akhir raw data sehingga pada proses kali ini akan dilakukan pengecekan serta menghapus sekiranya index yang sangat berantakan sebelumnya saat hendak memasukkan kedalam dataframe"
      ],
      "metadata": {
        "id": "XipwQoYGkUCh"
      }
    },
    {
      "cell_type": "code",
      "source": [
        "# Read Dataset\n",
        "with open(data, encoding=\"Latin1\") as file:\n",
        "  lines = [line.strip() for line in file]\n",
        "\n",
        "lines[0:10]"
      ],
      "metadata": {
        "colab": {
          "base_uri": "https://localhost:8080/"
        },
        "id": "QVuPRTWhkX7C",
        "outputId": "47e5c9bd-fc17-4088-bc31-f47fa8044beb"
      },
      "execution_count": 13,
      "outputs": [
        {
          "output_type": "execute_result",
          "data": {
            "text/plain": [
              "['1 0 63 1 -9 -9 -9',\n",
              " '-9 1 145 1 233 -9 50 20',\n",
              " '1 -9 1 2 2 3 81 0',\n",
              " '0 0 0 0 1 10.5 6 13',\n",
              " '150 60 190 90 145 85 0 0',\n",
              " '2.3 3 -9 172 0 -9 -9 -9',\n",
              " '-9 -9 -9 6 -9 -9 -9 2',\n",
              " '16 81 0 1 1 1 -9 1',\n",
              " '-9 1 -9 1 1 1 1 1',\n",
              " '1 1 -9 -9 name']"
            ]
          },
          "metadata": {},
          "execution_count": 13
        }
      ]
    },
    {
      "cell_type": "code",
      "source": [
        "raw_data = itertools.takewhile(\n",
        "    lambda x: len(x) == 76,\n",
        "    (' '.join(lines[i:(i+10)]).split() for i in range(0, len(lines), 10))\n",
        ")\n",
        "\n",
        "# Inserting data into  dataframe\n",
        "df = pd.DataFrame.from_records(raw_data)\n",
        "\n",
        "df.tail()"
      ],
      "metadata": {
        "colab": {
          "base_uri": "https://localhost:8080/",
          "height": 236
        },
        "id": "OA5dQbC0leHg",
        "outputId": "2e0a66bd-e5f1-48d1-e285-8f5886384ee7"
      },
      "execution_count": 18,
      "outputs": [
        {
          "output_type": "execute_result",
          "data": {
            "text/plain": [
              "      0  1   2  3   4   5   6   7  8    9   ... 66 67 68 69 70 71 72  73  74  \\\n",
              "277  294  0  39  0  -9  -9  -9  -9  3  138  ...  1  1  1  1  1  1  2  -9  -9   \n",
              "278  295  0  57  1  -9  -9  -9  -9  2  154  ...  1  1  1  1  1  1  1  -9  -9   \n",
              "279  296  0  58  0  -9  -9  -9  -9  4  130  ...  1  1  1  1  1  1  1  -9  -9   \n",
              "280  297  0  57  1  -9  -9  -9  -9  4  110  ...  1  2  1  1  1  1  1  -9  -9   \n",
              "281  298  0  47  1  -9  -9  -9  -9  3  130  ...  1  1  1  1  1  1  1  -9  -9   \n",
              "\n",
              "       75  \n",
              "277  name  \n",
              "278  name  \n",
              "279  name  \n",
              "280  name  \n",
              "281  name  \n",
              "\n",
              "[5 rows x 76 columns]"
            ],
            "text/html": [
              "\n",
              "  <div id=\"df-5949d564-2112-436f-8b7c-37394096bc07\" class=\"colab-df-container\">\n",
              "    <div>\n",
              "<style scoped>\n",
              "    .dataframe tbody tr th:only-of-type {\n",
              "        vertical-align: middle;\n",
              "    }\n",
              "\n",
              "    .dataframe tbody tr th {\n",
              "        vertical-align: top;\n",
              "    }\n",
              "\n",
              "    .dataframe thead th {\n",
              "        text-align: right;\n",
              "    }\n",
              "</style>\n",
              "<table border=\"1\" class=\"dataframe\">\n",
              "  <thead>\n",
              "    <tr style=\"text-align: right;\">\n",
              "      <th></th>\n",
              "      <th>0</th>\n",
              "      <th>1</th>\n",
              "      <th>2</th>\n",
              "      <th>3</th>\n",
              "      <th>4</th>\n",
              "      <th>5</th>\n",
              "      <th>6</th>\n",
              "      <th>7</th>\n",
              "      <th>8</th>\n",
              "      <th>9</th>\n",
              "      <th>...</th>\n",
              "      <th>66</th>\n",
              "      <th>67</th>\n",
              "      <th>68</th>\n",
              "      <th>69</th>\n",
              "      <th>70</th>\n",
              "      <th>71</th>\n",
              "      <th>72</th>\n",
              "      <th>73</th>\n",
              "      <th>74</th>\n",
              "      <th>75</th>\n",
              "    </tr>\n",
              "  </thead>\n",
              "  <tbody>\n",
              "    <tr>\n",
              "      <th>277</th>\n",
              "      <td>294</td>\n",
              "      <td>0</td>\n",
              "      <td>39</td>\n",
              "      <td>0</td>\n",
              "      <td>-9</td>\n",
              "      <td>-9</td>\n",
              "      <td>-9</td>\n",
              "      <td>-9</td>\n",
              "      <td>3</td>\n",
              "      <td>138</td>\n",
              "      <td>...</td>\n",
              "      <td>1</td>\n",
              "      <td>1</td>\n",
              "      <td>1</td>\n",
              "      <td>1</td>\n",
              "      <td>1</td>\n",
              "      <td>1</td>\n",
              "      <td>2</td>\n",
              "      <td>-9</td>\n",
              "      <td>-9</td>\n",
              "      <td>name</td>\n",
              "    </tr>\n",
              "    <tr>\n",
              "      <th>278</th>\n",
              "      <td>295</td>\n",
              "      <td>0</td>\n",
              "      <td>57</td>\n",
              "      <td>1</td>\n",
              "      <td>-9</td>\n",
              "      <td>-9</td>\n",
              "      <td>-9</td>\n",
              "      <td>-9</td>\n",
              "      <td>2</td>\n",
              "      <td>154</td>\n",
              "      <td>...</td>\n",
              "      <td>1</td>\n",
              "      <td>1</td>\n",
              "      <td>1</td>\n",
              "      <td>1</td>\n",
              "      <td>1</td>\n",
              "      <td>1</td>\n",
              "      <td>1</td>\n",
              "      <td>-9</td>\n",
              "      <td>-9</td>\n",
              "      <td>name</td>\n",
              "    </tr>\n",
              "    <tr>\n",
              "      <th>279</th>\n",
              "      <td>296</td>\n",
              "      <td>0</td>\n",
              "      <td>58</td>\n",
              "      <td>0</td>\n",
              "      <td>-9</td>\n",
              "      <td>-9</td>\n",
              "      <td>-9</td>\n",
              "      <td>-9</td>\n",
              "      <td>4</td>\n",
              "      <td>130</td>\n",
              "      <td>...</td>\n",
              "      <td>1</td>\n",
              "      <td>1</td>\n",
              "      <td>1</td>\n",
              "      <td>1</td>\n",
              "      <td>1</td>\n",
              "      <td>1</td>\n",
              "      <td>1</td>\n",
              "      <td>-9</td>\n",
              "      <td>-9</td>\n",
              "      <td>name</td>\n",
              "    </tr>\n",
              "    <tr>\n",
              "      <th>280</th>\n",
              "      <td>297</td>\n",
              "      <td>0</td>\n",
              "      <td>57</td>\n",
              "      <td>1</td>\n",
              "      <td>-9</td>\n",
              "      <td>-9</td>\n",
              "      <td>-9</td>\n",
              "      <td>-9</td>\n",
              "      <td>4</td>\n",
              "      <td>110</td>\n",
              "      <td>...</td>\n",
              "      <td>1</td>\n",
              "      <td>2</td>\n",
              "      <td>1</td>\n",
              "      <td>1</td>\n",
              "      <td>1</td>\n",
              "      <td>1</td>\n",
              "      <td>1</td>\n",
              "      <td>-9</td>\n",
              "      <td>-9</td>\n",
              "      <td>name</td>\n",
              "    </tr>\n",
              "    <tr>\n",
              "      <th>281</th>\n",
              "      <td>298</td>\n",
              "      <td>0</td>\n",
              "      <td>47</td>\n",
              "      <td>1</td>\n",
              "      <td>-9</td>\n",
              "      <td>-9</td>\n",
              "      <td>-9</td>\n",
              "      <td>-9</td>\n",
              "      <td>3</td>\n",
              "      <td>130</td>\n",
              "      <td>...</td>\n",
              "      <td>1</td>\n",
              "      <td>1</td>\n",
              "      <td>1</td>\n",
              "      <td>1</td>\n",
              "      <td>1</td>\n",
              "      <td>1</td>\n",
              "      <td>1</td>\n",
              "      <td>-9</td>\n",
              "      <td>-9</td>\n",
              "      <td>name</td>\n",
              "    </tr>\n",
              "  </tbody>\n",
              "</table>\n",
              "<p>5 rows × 76 columns</p>\n",
              "</div>\n",
              "    <div class=\"colab-df-buttons\">\n",
              "\n",
              "  <div class=\"colab-df-container\">\n",
              "    <button class=\"colab-df-convert\" onclick=\"convertToInteractive('df-5949d564-2112-436f-8b7c-37394096bc07')\"\n",
              "            title=\"Convert this dataframe to an interactive table.\"\n",
              "            style=\"display:none;\">\n",
              "\n",
              "  <svg xmlns=\"http://www.w3.org/2000/svg\" height=\"24px\" viewBox=\"0 -960 960 960\">\n",
              "    <path d=\"M120-120v-720h720v720H120Zm60-500h600v-160H180v160Zm220 220h160v-160H400v160Zm0 220h160v-160H400v160ZM180-400h160v-160H180v160Zm440 0h160v-160H620v160ZM180-180h160v-160H180v160Zm440 0h160v-160H620v160Z\"/>\n",
              "  </svg>\n",
              "    </button>\n",
              "\n",
              "  <style>\n",
              "    .colab-df-container {\n",
              "      display:flex;\n",
              "      gap: 12px;\n",
              "    }\n",
              "\n",
              "    .colab-df-convert {\n",
              "      background-color: #E8F0FE;\n",
              "      border: none;\n",
              "      border-radius: 50%;\n",
              "      cursor: pointer;\n",
              "      display: none;\n",
              "      fill: #1967D2;\n",
              "      height: 32px;\n",
              "      padding: 0 0 0 0;\n",
              "      width: 32px;\n",
              "    }\n",
              "\n",
              "    .colab-df-convert:hover {\n",
              "      background-color: #E2EBFA;\n",
              "      box-shadow: 0px 1px 2px rgba(60, 64, 67, 0.3), 0px 1px 3px 1px rgba(60, 64, 67, 0.15);\n",
              "      fill: #174EA6;\n",
              "    }\n",
              "\n",
              "    .colab-df-buttons div {\n",
              "      margin-bottom: 4px;\n",
              "    }\n",
              "\n",
              "    [theme=dark] .colab-df-convert {\n",
              "      background-color: #3B4455;\n",
              "      fill: #D2E3FC;\n",
              "    }\n",
              "\n",
              "    [theme=dark] .colab-df-convert:hover {\n",
              "      background-color: #434B5C;\n",
              "      box-shadow: 0px 1px 3px 1px rgba(0, 0, 0, 0.15);\n",
              "      filter: drop-shadow(0px 1px 2px rgba(0, 0, 0, 0.3));\n",
              "      fill: #FFFFFF;\n",
              "    }\n",
              "  </style>\n",
              "\n",
              "    <script>\n",
              "      const buttonEl =\n",
              "        document.querySelector('#df-5949d564-2112-436f-8b7c-37394096bc07 button.colab-df-convert');\n",
              "      buttonEl.style.display =\n",
              "        google.colab.kernel.accessAllowed ? 'block' : 'none';\n",
              "\n",
              "      async function convertToInteractive(key) {\n",
              "        const element = document.querySelector('#df-5949d564-2112-436f-8b7c-37394096bc07');\n",
              "        const dataTable =\n",
              "          await google.colab.kernel.invokeFunction('convertToInteractive',\n",
              "                                                    [key], {});\n",
              "        if (!dataTable) return;\n",
              "\n",
              "        const docLinkHtml = 'Like what you see? Visit the ' +\n",
              "          '<a target=\"_blank\" href=https://colab.research.google.com/notebooks/data_table.ipynb>data table notebook</a>'\n",
              "          + ' to learn more about interactive tables.';\n",
              "        element.innerHTML = '';\n",
              "        dataTable['output_type'] = 'display_data';\n",
              "        await google.colab.output.renderOutput(dataTable, element);\n",
              "        const docLink = document.createElement('div');\n",
              "        docLink.innerHTML = docLinkHtml;\n",
              "        element.appendChild(docLink);\n",
              "      }\n",
              "    </script>\n",
              "  </div>\n",
              "\n",
              "\n",
              "<div id=\"df-267ea614-ba03-48f7-8dd9-48ef2a5c7274\">\n",
              "  <button class=\"colab-df-quickchart\" onclick=\"quickchart('df-267ea614-ba03-48f7-8dd9-48ef2a5c7274')\"\n",
              "            title=\"Suggest charts\"\n",
              "            style=\"display:none;\">\n",
              "\n",
              "<svg xmlns=\"http://www.w3.org/2000/svg\" height=\"24px\"viewBox=\"0 0 24 24\"\n",
              "     width=\"24px\">\n",
              "    <g>\n",
              "        <path d=\"M19 3H5c-1.1 0-2 .9-2 2v14c0 1.1.9 2 2 2h14c1.1 0 2-.9 2-2V5c0-1.1-.9-2-2-2zM9 17H7v-7h2v7zm4 0h-2V7h2v10zm4 0h-2v-4h2v4z\"/>\n",
              "    </g>\n",
              "</svg>\n",
              "  </button>\n",
              "\n",
              "<style>\n",
              "  .colab-df-quickchart {\n",
              "      --bg-color: #E8F0FE;\n",
              "      --fill-color: #1967D2;\n",
              "      --hover-bg-color: #E2EBFA;\n",
              "      --hover-fill-color: #174EA6;\n",
              "      --disabled-fill-color: #AAA;\n",
              "      --disabled-bg-color: #DDD;\n",
              "  }\n",
              "\n",
              "  [theme=dark] .colab-df-quickchart {\n",
              "      --bg-color: #3B4455;\n",
              "      --fill-color: #D2E3FC;\n",
              "      --hover-bg-color: #434B5C;\n",
              "      --hover-fill-color: #FFFFFF;\n",
              "      --disabled-bg-color: #3B4455;\n",
              "      --disabled-fill-color: #666;\n",
              "  }\n",
              "\n",
              "  .colab-df-quickchart {\n",
              "    background-color: var(--bg-color);\n",
              "    border: none;\n",
              "    border-radius: 50%;\n",
              "    cursor: pointer;\n",
              "    display: none;\n",
              "    fill: var(--fill-color);\n",
              "    height: 32px;\n",
              "    padding: 0;\n",
              "    width: 32px;\n",
              "  }\n",
              "\n",
              "  .colab-df-quickchart:hover {\n",
              "    background-color: var(--hover-bg-color);\n",
              "    box-shadow: 0 1px 2px rgba(60, 64, 67, 0.3), 0 1px 3px 1px rgba(60, 64, 67, 0.15);\n",
              "    fill: var(--button-hover-fill-color);\n",
              "  }\n",
              "\n",
              "  .colab-df-quickchart-complete:disabled,\n",
              "  .colab-df-quickchart-complete:disabled:hover {\n",
              "    background-color: var(--disabled-bg-color);\n",
              "    fill: var(--disabled-fill-color);\n",
              "    box-shadow: none;\n",
              "  }\n",
              "\n",
              "  .colab-df-spinner {\n",
              "    border: 2px solid var(--fill-color);\n",
              "    border-color: transparent;\n",
              "    border-bottom-color: var(--fill-color);\n",
              "    animation:\n",
              "      spin 1s steps(1) infinite;\n",
              "  }\n",
              "\n",
              "  @keyframes spin {\n",
              "    0% {\n",
              "      border-color: transparent;\n",
              "      border-bottom-color: var(--fill-color);\n",
              "      border-left-color: var(--fill-color);\n",
              "    }\n",
              "    20% {\n",
              "      border-color: transparent;\n",
              "      border-left-color: var(--fill-color);\n",
              "      border-top-color: var(--fill-color);\n",
              "    }\n",
              "    30% {\n",
              "      border-color: transparent;\n",
              "      border-left-color: var(--fill-color);\n",
              "      border-top-color: var(--fill-color);\n",
              "      border-right-color: var(--fill-color);\n",
              "    }\n",
              "    40% {\n",
              "      border-color: transparent;\n",
              "      border-right-color: var(--fill-color);\n",
              "      border-top-color: var(--fill-color);\n",
              "    }\n",
              "    60% {\n",
              "      border-color: transparent;\n",
              "      border-right-color: var(--fill-color);\n",
              "    }\n",
              "    80% {\n",
              "      border-color: transparent;\n",
              "      border-right-color: var(--fill-color);\n",
              "      border-bottom-color: var(--fill-color);\n",
              "    }\n",
              "    90% {\n",
              "      border-color: transparent;\n",
              "      border-bottom-color: var(--fill-color);\n",
              "    }\n",
              "  }\n",
              "</style>\n",
              "\n",
              "  <script>\n",
              "    async function quickchart(key) {\n",
              "      const quickchartButtonEl =\n",
              "        document.querySelector('#' + key + ' button');\n",
              "      quickchartButtonEl.disabled = true;  // To prevent multiple clicks.\n",
              "      quickchartButtonEl.classList.add('colab-df-spinner');\n",
              "      try {\n",
              "        const charts = await google.colab.kernel.invokeFunction(\n",
              "            'suggestCharts', [key], {});\n",
              "      } catch (error) {\n",
              "        console.error('Error during call to suggestCharts:', error);\n",
              "      }\n",
              "      quickchartButtonEl.classList.remove('colab-df-spinner');\n",
              "      quickchartButtonEl.classList.add('colab-df-quickchart-complete');\n",
              "    }\n",
              "    (() => {\n",
              "      let quickchartButtonEl =\n",
              "        document.querySelector('#df-267ea614-ba03-48f7-8dd9-48ef2a5c7274 button');\n",
              "      quickchartButtonEl.style.display =\n",
              "        google.colab.kernel.accessAllowed ? 'block' : 'none';\n",
              "    })();\n",
              "  </script>\n",
              "</div>\n",
              "    </div>\n",
              "  </div>\n"
            ]
          },
          "metadata": {},
          "execution_count": 18
        }
      ]
    },
    {
      "cell_type": "code",
      "source": [
        "df.info()"
      ],
      "metadata": {
        "colab": {
          "base_uri": "https://localhost:8080/"
        },
        "id": "TRN1oC_hmsM7",
        "outputId": "1e6217d9-743f-4b59-cba1-49a8d286d94e"
      },
      "execution_count": 16,
      "outputs": [
        {
          "output_type": "stream",
          "name": "stdout",
          "text": [
            "<class 'pandas.core.frame.DataFrame'>\n",
            "RangeIndex: 282 entries, 0 to 281\n",
            "Data columns (total 76 columns):\n",
            " #   Column  Non-Null Count  Dtype \n",
            "---  ------  --------------  ----- \n",
            " 0   0       282 non-null    object\n",
            " 1   1       282 non-null    object\n",
            " 2   2       282 non-null    object\n",
            " 3   3       282 non-null    object\n",
            " 4   4       282 non-null    object\n",
            " 5   5       282 non-null    object\n",
            " 6   6       282 non-null    object\n",
            " 7   7       282 non-null    object\n",
            " 8   8       282 non-null    object\n",
            " 9   9       282 non-null    object\n",
            " 10  10      282 non-null    object\n",
            " 11  11      282 non-null    object\n",
            " 12  12      282 non-null    object\n",
            " 13  13      282 non-null    object\n",
            " 14  14      282 non-null    object\n",
            " 15  15      282 non-null    object\n",
            " 16  16      282 non-null    object\n",
            " 17  17      282 non-null    object\n",
            " 18  18      282 non-null    object\n",
            " 19  19      282 non-null    object\n",
            " 20  20      282 non-null    object\n",
            " 21  21      282 non-null    object\n",
            " 22  22      282 non-null    object\n",
            " 23  23      282 non-null    object\n",
            " 24  24      282 non-null    object\n",
            " 25  25      282 non-null    object\n",
            " 26  26      282 non-null    object\n",
            " 27  27      282 non-null    object\n",
            " 28  28      282 non-null    object\n",
            " 29  29      282 non-null    object\n",
            " 30  30      282 non-null    object\n",
            " 31  31      282 non-null    object\n",
            " 32  32      282 non-null    object\n",
            " 33  33      282 non-null    object\n",
            " 34  34      282 non-null    object\n",
            " 35  35      282 non-null    object\n",
            " 36  36      282 non-null    object\n",
            " 37  37      282 non-null    object\n",
            " 38  38      282 non-null    object\n",
            " 39  39      282 non-null    object\n",
            " 40  40      282 non-null    object\n",
            " 41  41      282 non-null    object\n",
            " 42  42      282 non-null    object\n",
            " 43  43      282 non-null    object\n",
            " 44  44      282 non-null    object\n",
            " 45  45      282 non-null    object\n",
            " 46  46      282 non-null    object\n",
            " 47  47      282 non-null    object\n",
            " 48  48      282 non-null    object\n",
            " 49  49      282 non-null    object\n",
            " 50  50      282 non-null    object\n",
            " 51  51      282 non-null    object\n",
            " 52  52      282 non-null    object\n",
            " 53  53      282 non-null    object\n",
            " 54  54      282 non-null    object\n",
            " 55  55      282 non-null    object\n",
            " 56  56      282 non-null    object\n",
            " 57  57      282 non-null    object\n",
            " 58  58      282 non-null    object\n",
            " 59  59      282 non-null    object\n",
            " 60  60      282 non-null    object\n",
            " 61  61      282 non-null    object\n",
            " 62  62      282 non-null    object\n",
            " 63  63      282 non-null    object\n",
            " 64  64      282 non-null    object\n",
            " 65  65      282 non-null    object\n",
            " 66  66      282 non-null    object\n",
            " 67  67      282 non-null    object\n",
            " 68  68      282 non-null    object\n",
            " 69  69      282 non-null    object\n",
            " 70  70      282 non-null    object\n",
            " 71  71      282 non-null    object\n",
            " 72  72      282 non-null    object\n",
            " 73  73      282 non-null    object\n",
            " 74  74      282 non-null    object\n",
            " 75  75      282 non-null    object\n",
            "dtypes: object(76)\n",
            "memory usage: 167.6+ KB\n"
          ]
        }
      ]
    },
    {
      "cell_type": "code",
      "source": [
        "# Removing first index and last index due to irrelevant data\n",
        "df = df.iloc[:, :-1]\n",
        "df = df.drop(df.columns[0], axis=1)"
      ],
      "metadata": {
        "id": "2BXSkrWnm0SG"
      },
      "execution_count": 19,
      "outputs": []
    },
    {
      "cell_type": "code",
      "source": [
        "df = df.astype(float)\n",
        "df.info()"
      ],
      "metadata": {
        "colab": {
          "base_uri": "https://localhost:8080/"
        },
        "id": "Qh7jQ3oHnBme",
        "outputId": "baf2a019-41c5-4d75-fea4-b9fac122124f"
      },
      "execution_count": 20,
      "outputs": [
        {
          "output_type": "stream",
          "name": "stdout",
          "text": [
            "<class 'pandas.core.frame.DataFrame'>\n",
            "RangeIndex: 282 entries, 0 to 281\n",
            "Data columns (total 74 columns):\n",
            " #   Column  Non-Null Count  Dtype  \n",
            "---  ------  --------------  -----  \n",
            " 0   1       282 non-null    float64\n",
            " 1   2       282 non-null    float64\n",
            " 2   3       282 non-null    float64\n",
            " 3   4       282 non-null    float64\n",
            " 4   5       282 non-null    float64\n",
            " 5   6       282 non-null    float64\n",
            " 6   7       282 non-null    float64\n",
            " 7   8       282 non-null    float64\n",
            " 8   9       282 non-null    float64\n",
            " 9   10      282 non-null    float64\n",
            " 10  11      282 non-null    float64\n",
            " 11  12      282 non-null    float64\n",
            " 12  13      282 non-null    float64\n",
            " 13  14      282 non-null    float64\n",
            " 14  15      282 non-null    float64\n",
            " 15  16      282 non-null    float64\n",
            " 16  17      282 non-null    float64\n",
            " 17  18      282 non-null    float64\n",
            " 18  19      282 non-null    float64\n",
            " 19  20      282 non-null    float64\n",
            " 20  21      282 non-null    float64\n",
            " 21  22      282 non-null    float64\n",
            " 22  23      282 non-null    float64\n",
            " 23  24      282 non-null    float64\n",
            " 24  25      282 non-null    float64\n",
            " 25  26      282 non-null    float64\n",
            " 26  27      282 non-null    float64\n",
            " 27  28      282 non-null    float64\n",
            " 28  29      282 non-null    float64\n",
            " 29  30      282 non-null    float64\n",
            " 30  31      282 non-null    float64\n",
            " 31  32      282 non-null    float64\n",
            " 32  33      282 non-null    float64\n",
            " 33  34      282 non-null    float64\n",
            " 34  35      282 non-null    float64\n",
            " 35  36      282 non-null    float64\n",
            " 36  37      282 non-null    float64\n",
            " 37  38      282 non-null    float64\n",
            " 38  39      282 non-null    float64\n",
            " 39  40      282 non-null    float64\n",
            " 40  41      282 non-null    float64\n",
            " 41  42      282 non-null    float64\n",
            " 42  43      282 non-null    float64\n",
            " 43  44      282 non-null    float64\n",
            " 44  45      282 non-null    float64\n",
            " 45  46      282 non-null    float64\n",
            " 46  47      282 non-null    float64\n",
            " 47  48      282 non-null    float64\n",
            " 48  49      282 non-null    float64\n",
            " 49  50      282 non-null    float64\n",
            " 50  51      282 non-null    float64\n",
            " 51  52      282 non-null    float64\n",
            " 52  53      282 non-null    float64\n",
            " 53  54      282 non-null    float64\n",
            " 54  55      282 non-null    float64\n",
            " 55  56      282 non-null    float64\n",
            " 56  57      282 non-null    float64\n",
            " 57  58      282 non-null    float64\n",
            " 58  59      282 non-null    float64\n",
            " 59  60      282 non-null    float64\n",
            " 60  61      282 non-null    float64\n",
            " 61  62      282 non-null    float64\n",
            " 62  63      282 non-null    float64\n",
            " 63  64      282 non-null    float64\n",
            " 64  65      282 non-null    float64\n",
            " 65  66      282 non-null    float64\n",
            " 66  67      282 non-null    float64\n",
            " 67  68      282 non-null    float64\n",
            " 68  69      282 non-null    float64\n",
            " 69  70      282 non-null    float64\n",
            " 70  71      282 non-null    float64\n",
            " 71  72      282 non-null    float64\n",
            " 72  73      282 non-null    float64\n",
            " 73  74      282 non-null    float64\n",
            "dtypes: float64(74)\n",
            "memory usage: 163.2 KB\n"
          ]
        }
      ]
    },
    {
      "cell_type": "markdown",
      "source": [
        "### 3) Validasi Data\n",
        "Dikarenakan terdapat null values pada dataset sehingga perlu dilakukan perubahan data dan memvalidasinya menggunakan method info dan isnull.sum"
      ],
      "metadata": {
        "id": "SKXQKOsHnaEH"
      }
    },
    {
      "cell_type": "code",
      "source": [
        "# Replacing Nan Value (-9.0) to 0\n",
        "df.replace(-9.0, np.nan, inplace=True)"
      ],
      "metadata": {
        "id": "RkXKq675nR4o"
      },
      "execution_count": 22,
      "outputs": []
    },
    {
      "cell_type": "code",
      "source": [
        "# Checking Null Value\n",
        "# method 1\n",
        "# df.isnull().sum()\n",
        "# method 2\n",
        "df.info()"
      ],
      "metadata": {
        "colab": {
          "base_uri": "https://localhost:8080/"
        },
        "id": "HhfKxJS2nnM-",
        "outputId": "ec2cda5c-f6e6-4b26-db29-edd64ed63b04"
      },
      "execution_count": 24,
      "outputs": [
        {
          "output_type": "stream",
          "name": "stdout",
          "text": [
            "<class 'pandas.core.frame.DataFrame'>\n",
            "RangeIndex: 282 entries, 0 to 281\n",
            "Data columns (total 74 columns):\n",
            " #   Column  Non-Null Count  Dtype  \n",
            "---  ------  --------------  -----  \n",
            " 0   1       282 non-null    float64\n",
            " 1   2       282 non-null    float64\n",
            " 2   3       282 non-null    float64\n",
            " 3   4       0 non-null      float64\n",
            " 4   5       0 non-null      float64\n",
            " 5   6       0 non-null      float64\n",
            " 6   7       0 non-null      float64\n",
            " 7   8       282 non-null    float64\n",
            " 8   9       282 non-null    float64\n",
            " 9   10      282 non-null    float64\n",
            " 10  11      282 non-null    float64\n",
            " 11  12      0 non-null      float64\n",
            " 12  13      277 non-null    float64\n",
            " 13  14      277 non-null    float64\n",
            " 14  15      282 non-null    float64\n",
            " 15  16      23 non-null     float64\n",
            " 16  17      282 non-null    float64\n",
            " 17  18      282 non-null    float64\n",
            " 18  19      282 non-null    float64\n",
            " 19  20      282 non-null    float64\n",
            " 20  21      282 non-null    float64\n",
            " 21  22      280 non-null    float64\n",
            " 22  23      280 non-null    float64\n",
            " 23  24      280 non-null    float64\n",
            " 24  25      280 non-null    float64\n",
            " 25  26      280 non-null    float64\n",
            " 26  27      282 non-null    float64\n",
            " 27  28      282 non-null    float64\n",
            " 28  29      213 non-null    float64\n",
            " 29  30      282 non-null    float64\n",
            " 30  31      282 non-null    float64\n",
            " 31  32      282 non-null    float64\n",
            " 32  33      282 non-null    float64\n",
            " 33  34      282 non-null    float64\n",
            " 34  35      282 non-null    float64\n",
            " 35  36      282 non-null    float64\n",
            " 36  37      282 non-null    float64\n",
            " 37  38      282 non-null    float64\n",
            " 38  39      282 non-null    float64\n",
            " 39  40      282 non-null    float64\n",
            " 40  41      0 non-null      float64\n",
            " 41  42      282 non-null    float64\n",
            " 42  43      280 non-null    float64\n",
            " 43  44      0 non-null      float64\n",
            " 44  45      0 non-null      float64\n",
            " 45  46      0 non-null      float64\n",
            " 46  47      0 non-null      float64\n",
            " 47  48      0 non-null      float64\n",
            " 48  49      0 non-null      float64\n",
            " 49  50      280 non-null    float64\n",
            " 50  51      0 non-null      float64\n",
            " 51  52      0 non-null      float64\n",
            " 52  53      0 non-null      float64\n",
            " 53  54      282 non-null    float64\n",
            " 54  55      282 non-null    float64\n",
            " 55  56      282 non-null    float64\n",
            " 56  57      282 non-null    float64\n",
            " 57  58      282 non-null    float64\n",
            " 58  59      282 non-null    float64\n",
            " 59  60      282 non-null    float64\n",
            " 60  61      0 non-null      float64\n",
            " 61  62      282 non-null    float64\n",
            " 62  63      0 non-null      float64\n",
            " 63  64      282 non-null    float64\n",
            " 64  65      0 non-null      float64\n",
            " 65  66      282 non-null    float64\n",
            " 66  67      282 non-null    float64\n",
            " 67  68      282 non-null    float64\n",
            " 68  69      282 non-null    float64\n",
            " 69  70      282 non-null    float64\n",
            " 70  71      282 non-null    float64\n",
            " 71  72      282 non-null    float64\n",
            " 72  73      0 non-null      float64\n",
            " 73  74      0 non-null      float64\n",
            "dtypes: float64(74)\n",
            "memory usage: 163.2 KB\n"
          ]
        }
      ]
    },
    {
      "cell_type": "markdown",
      "source": [
        "### 4 Menentukan Object Data\n",
        "Object daat yang digunakan berdasarkan saran dari repository author"
      ],
      "metadata": {
        "id": "iDcuiSn3n2f3"
      }
    },
    {
      "cell_type": "code",
      "source": [
        "# Based on repository we can use 14 main attribute the others are optional\n",
        "df_new = df.iloc[:, [1,2,7,8,10,14,17,30,36,38,39,42,49,56]]"
      ],
      "metadata": {
        "id": "fQb_b_tBns4t"
      },
      "execution_count": 26,
      "outputs": []
    },
    {
      "cell_type": "code",
      "source": [
        "df_new.head()"
      ],
      "metadata": {
        "colab": {
          "base_uri": "https://localhost:8080/",
          "height": 206
        },
        "id": "D6FtQNxCoF0m",
        "outputId": "4ce2990c-6e53-4574-c114-542ada95787f"
      },
      "execution_count": 27,
      "outputs": [
        {
          "output_type": "execute_result",
          "data": {
            "text/plain": [
              "     2    3    8      9      11   15   18     31   37   39   40   43   50   57\n",
              "0  63.0  1.0  1.0  145.0  233.0  1.0  2.0  150.0  0.0  2.3  3.0  0.0  6.0  0.0\n",
              "1  67.0  1.0  4.0  160.0  286.0  0.0  2.0  108.0  1.0  1.5  2.0  3.0  3.0  2.0\n",
              "2  67.0  1.0  4.0  120.0  229.0  0.0  2.0  129.0  1.0  2.6  2.0  2.0  7.0  1.0\n",
              "3  37.0  1.0  3.0  130.0  250.0  0.0  0.0  187.0  0.0  3.5  3.0  0.0  3.0  0.0\n",
              "4  41.0  0.0  2.0  130.0  204.0  0.0  2.0  172.0  0.0  1.4  1.0  0.0  3.0  0.0"
            ],
            "text/html": [
              "\n",
              "  <div id=\"df-63254873-195d-43b5-84db-ccd04e6ed1c5\" class=\"colab-df-container\">\n",
              "    <div>\n",
              "<style scoped>\n",
              "    .dataframe tbody tr th:only-of-type {\n",
              "        vertical-align: middle;\n",
              "    }\n",
              "\n",
              "    .dataframe tbody tr th {\n",
              "        vertical-align: top;\n",
              "    }\n",
              "\n",
              "    .dataframe thead th {\n",
              "        text-align: right;\n",
              "    }\n",
              "</style>\n",
              "<table border=\"1\" class=\"dataframe\">\n",
              "  <thead>\n",
              "    <tr style=\"text-align: right;\">\n",
              "      <th></th>\n",
              "      <th>2</th>\n",
              "      <th>3</th>\n",
              "      <th>8</th>\n",
              "      <th>9</th>\n",
              "      <th>11</th>\n",
              "      <th>15</th>\n",
              "      <th>18</th>\n",
              "      <th>31</th>\n",
              "      <th>37</th>\n",
              "      <th>39</th>\n",
              "      <th>40</th>\n",
              "      <th>43</th>\n",
              "      <th>50</th>\n",
              "      <th>57</th>\n",
              "    </tr>\n",
              "  </thead>\n",
              "  <tbody>\n",
              "    <tr>\n",
              "      <th>0</th>\n",
              "      <td>63.0</td>\n",
              "      <td>1.0</td>\n",
              "      <td>1.0</td>\n",
              "      <td>145.0</td>\n",
              "      <td>233.0</td>\n",
              "      <td>1.0</td>\n",
              "      <td>2.0</td>\n",
              "      <td>150.0</td>\n",
              "      <td>0.0</td>\n",
              "      <td>2.3</td>\n",
              "      <td>3.0</td>\n",
              "      <td>0.0</td>\n",
              "      <td>6.0</td>\n",
              "      <td>0.0</td>\n",
              "    </tr>\n",
              "    <tr>\n",
              "      <th>1</th>\n",
              "      <td>67.0</td>\n",
              "      <td>1.0</td>\n",
              "      <td>4.0</td>\n",
              "      <td>160.0</td>\n",
              "      <td>286.0</td>\n",
              "      <td>0.0</td>\n",
              "      <td>2.0</td>\n",
              "      <td>108.0</td>\n",
              "      <td>1.0</td>\n",
              "      <td>1.5</td>\n",
              "      <td>2.0</td>\n",
              "      <td>3.0</td>\n",
              "      <td>3.0</td>\n",
              "      <td>2.0</td>\n",
              "    </tr>\n",
              "    <tr>\n",
              "      <th>2</th>\n",
              "      <td>67.0</td>\n",
              "      <td>1.0</td>\n",
              "      <td>4.0</td>\n",
              "      <td>120.0</td>\n",
              "      <td>229.0</td>\n",
              "      <td>0.0</td>\n",
              "      <td>2.0</td>\n",
              "      <td>129.0</td>\n",
              "      <td>1.0</td>\n",
              "      <td>2.6</td>\n",
              "      <td>2.0</td>\n",
              "      <td>2.0</td>\n",
              "      <td>7.0</td>\n",
              "      <td>1.0</td>\n",
              "    </tr>\n",
              "    <tr>\n",
              "      <th>3</th>\n",
              "      <td>37.0</td>\n",
              "      <td>1.0</td>\n",
              "      <td>3.0</td>\n",
              "      <td>130.0</td>\n",
              "      <td>250.0</td>\n",
              "      <td>0.0</td>\n",
              "      <td>0.0</td>\n",
              "      <td>187.0</td>\n",
              "      <td>0.0</td>\n",
              "      <td>3.5</td>\n",
              "      <td>3.0</td>\n",
              "      <td>0.0</td>\n",
              "      <td>3.0</td>\n",
              "      <td>0.0</td>\n",
              "    </tr>\n",
              "    <tr>\n",
              "      <th>4</th>\n",
              "      <td>41.0</td>\n",
              "      <td>0.0</td>\n",
              "      <td>2.0</td>\n",
              "      <td>130.0</td>\n",
              "      <td>204.0</td>\n",
              "      <td>0.0</td>\n",
              "      <td>2.0</td>\n",
              "      <td>172.0</td>\n",
              "      <td>0.0</td>\n",
              "      <td>1.4</td>\n",
              "      <td>1.0</td>\n",
              "      <td>0.0</td>\n",
              "      <td>3.0</td>\n",
              "      <td>0.0</td>\n",
              "    </tr>\n",
              "  </tbody>\n",
              "</table>\n",
              "</div>\n",
              "    <div class=\"colab-df-buttons\">\n",
              "\n",
              "  <div class=\"colab-df-container\">\n",
              "    <button class=\"colab-df-convert\" onclick=\"convertToInteractive('df-63254873-195d-43b5-84db-ccd04e6ed1c5')\"\n",
              "            title=\"Convert this dataframe to an interactive table.\"\n",
              "            style=\"display:none;\">\n",
              "\n",
              "  <svg xmlns=\"http://www.w3.org/2000/svg\" height=\"24px\" viewBox=\"0 -960 960 960\">\n",
              "    <path d=\"M120-120v-720h720v720H120Zm60-500h600v-160H180v160Zm220 220h160v-160H400v160Zm0 220h160v-160H400v160ZM180-400h160v-160H180v160Zm440 0h160v-160H620v160ZM180-180h160v-160H180v160Zm440 0h160v-160H620v160Z\"/>\n",
              "  </svg>\n",
              "    </button>\n",
              "\n",
              "  <style>\n",
              "    .colab-df-container {\n",
              "      display:flex;\n",
              "      gap: 12px;\n",
              "    }\n",
              "\n",
              "    .colab-df-convert {\n",
              "      background-color: #E8F0FE;\n",
              "      border: none;\n",
              "      border-radius: 50%;\n",
              "      cursor: pointer;\n",
              "      display: none;\n",
              "      fill: #1967D2;\n",
              "      height: 32px;\n",
              "      padding: 0 0 0 0;\n",
              "      width: 32px;\n",
              "    }\n",
              "\n",
              "    .colab-df-convert:hover {\n",
              "      background-color: #E2EBFA;\n",
              "      box-shadow: 0px 1px 2px rgba(60, 64, 67, 0.3), 0px 1px 3px 1px rgba(60, 64, 67, 0.15);\n",
              "      fill: #174EA6;\n",
              "    }\n",
              "\n",
              "    .colab-df-buttons div {\n",
              "      margin-bottom: 4px;\n",
              "    }\n",
              "\n",
              "    [theme=dark] .colab-df-convert {\n",
              "      background-color: #3B4455;\n",
              "      fill: #D2E3FC;\n",
              "    }\n",
              "\n",
              "    [theme=dark] .colab-df-convert:hover {\n",
              "      background-color: #434B5C;\n",
              "      box-shadow: 0px 1px 3px 1px rgba(0, 0, 0, 0.15);\n",
              "      filter: drop-shadow(0px 1px 2px rgba(0, 0, 0, 0.3));\n",
              "      fill: #FFFFFF;\n",
              "    }\n",
              "  </style>\n",
              "\n",
              "    <script>\n",
              "      const buttonEl =\n",
              "        document.querySelector('#df-63254873-195d-43b5-84db-ccd04e6ed1c5 button.colab-df-convert');\n",
              "      buttonEl.style.display =\n",
              "        google.colab.kernel.accessAllowed ? 'block' : 'none';\n",
              "\n",
              "      async function convertToInteractive(key) {\n",
              "        const element = document.querySelector('#df-63254873-195d-43b5-84db-ccd04e6ed1c5');\n",
              "        const dataTable =\n",
              "          await google.colab.kernel.invokeFunction('convertToInteractive',\n",
              "                                                    [key], {});\n",
              "        if (!dataTable) return;\n",
              "\n",
              "        const docLinkHtml = 'Like what you see? Visit the ' +\n",
              "          '<a target=\"_blank\" href=https://colab.research.google.com/notebooks/data_table.ipynb>data table notebook</a>'\n",
              "          + ' to learn more about interactive tables.';\n",
              "        element.innerHTML = '';\n",
              "        dataTable['output_type'] = 'display_data';\n",
              "        await google.colab.output.renderOutput(dataTable, element);\n",
              "        const docLink = document.createElement('div');\n",
              "        docLink.innerHTML = docLinkHtml;\n",
              "        element.appendChild(docLink);\n",
              "      }\n",
              "    </script>\n",
              "  </div>\n",
              "\n",
              "\n",
              "<div id=\"df-aebd450b-472a-4435-94eb-b73f7b803578\">\n",
              "  <button class=\"colab-df-quickchart\" onclick=\"quickchart('df-aebd450b-472a-4435-94eb-b73f7b803578')\"\n",
              "            title=\"Suggest charts\"\n",
              "            style=\"display:none;\">\n",
              "\n",
              "<svg xmlns=\"http://www.w3.org/2000/svg\" height=\"24px\"viewBox=\"0 0 24 24\"\n",
              "     width=\"24px\">\n",
              "    <g>\n",
              "        <path d=\"M19 3H5c-1.1 0-2 .9-2 2v14c0 1.1.9 2 2 2h14c1.1 0 2-.9 2-2V5c0-1.1-.9-2-2-2zM9 17H7v-7h2v7zm4 0h-2V7h2v10zm4 0h-2v-4h2v4z\"/>\n",
              "    </g>\n",
              "</svg>\n",
              "  </button>\n",
              "\n",
              "<style>\n",
              "  .colab-df-quickchart {\n",
              "      --bg-color: #E8F0FE;\n",
              "      --fill-color: #1967D2;\n",
              "      --hover-bg-color: #E2EBFA;\n",
              "      --hover-fill-color: #174EA6;\n",
              "      --disabled-fill-color: #AAA;\n",
              "      --disabled-bg-color: #DDD;\n",
              "  }\n",
              "\n",
              "  [theme=dark] .colab-df-quickchart {\n",
              "      --bg-color: #3B4455;\n",
              "      --fill-color: #D2E3FC;\n",
              "      --hover-bg-color: #434B5C;\n",
              "      --hover-fill-color: #FFFFFF;\n",
              "      --disabled-bg-color: #3B4455;\n",
              "      --disabled-fill-color: #666;\n",
              "  }\n",
              "\n",
              "  .colab-df-quickchart {\n",
              "    background-color: var(--bg-color);\n",
              "    border: none;\n",
              "    border-radius: 50%;\n",
              "    cursor: pointer;\n",
              "    display: none;\n",
              "    fill: var(--fill-color);\n",
              "    height: 32px;\n",
              "    padding: 0;\n",
              "    width: 32px;\n",
              "  }\n",
              "\n",
              "  .colab-df-quickchart:hover {\n",
              "    background-color: var(--hover-bg-color);\n",
              "    box-shadow: 0 1px 2px rgba(60, 64, 67, 0.3), 0 1px 3px 1px rgba(60, 64, 67, 0.15);\n",
              "    fill: var(--button-hover-fill-color);\n",
              "  }\n",
              "\n",
              "  .colab-df-quickchart-complete:disabled,\n",
              "  .colab-df-quickchart-complete:disabled:hover {\n",
              "    background-color: var(--disabled-bg-color);\n",
              "    fill: var(--disabled-fill-color);\n",
              "    box-shadow: none;\n",
              "  }\n",
              "\n",
              "  .colab-df-spinner {\n",
              "    border: 2px solid var(--fill-color);\n",
              "    border-color: transparent;\n",
              "    border-bottom-color: var(--fill-color);\n",
              "    animation:\n",
              "      spin 1s steps(1) infinite;\n",
              "  }\n",
              "\n",
              "  @keyframes spin {\n",
              "    0% {\n",
              "      border-color: transparent;\n",
              "      border-bottom-color: var(--fill-color);\n",
              "      border-left-color: var(--fill-color);\n",
              "    }\n",
              "    20% {\n",
              "      border-color: transparent;\n",
              "      border-left-color: var(--fill-color);\n",
              "      border-top-color: var(--fill-color);\n",
              "    }\n",
              "    30% {\n",
              "      border-color: transparent;\n",
              "      border-left-color: var(--fill-color);\n",
              "      border-top-color: var(--fill-color);\n",
              "      border-right-color: var(--fill-color);\n",
              "    }\n",
              "    40% {\n",
              "      border-color: transparent;\n",
              "      border-right-color: var(--fill-color);\n",
              "      border-top-color: var(--fill-color);\n",
              "    }\n",
              "    60% {\n",
              "      border-color: transparent;\n",
              "      border-right-color: var(--fill-color);\n",
              "    }\n",
              "    80% {\n",
              "      border-color: transparent;\n",
              "      border-right-color: var(--fill-color);\n",
              "      border-bottom-color: var(--fill-color);\n",
              "    }\n",
              "    90% {\n",
              "      border-color: transparent;\n",
              "      border-bottom-color: var(--fill-color);\n",
              "    }\n",
              "  }\n",
              "</style>\n",
              "\n",
              "  <script>\n",
              "    async function quickchart(key) {\n",
              "      const quickchartButtonEl =\n",
              "        document.querySelector('#' + key + ' button');\n",
              "      quickchartButtonEl.disabled = true;  // To prevent multiple clicks.\n",
              "      quickchartButtonEl.classList.add('colab-df-spinner');\n",
              "      try {\n",
              "        const charts = await google.colab.kernel.invokeFunction(\n",
              "            'suggestCharts', [key], {});\n",
              "      } catch (error) {\n",
              "        console.error('Error during call to suggestCharts:', error);\n",
              "      }\n",
              "      quickchartButtonEl.classList.remove('colab-df-spinner');\n",
              "      quickchartButtonEl.classList.add('colab-df-quickchart-complete');\n",
              "    }\n",
              "    (() => {\n",
              "      let quickchartButtonEl =\n",
              "        document.querySelector('#df-aebd450b-472a-4435-94eb-b73f7b803578 button');\n",
              "      quickchartButtonEl.style.display =\n",
              "        google.colab.kernel.accessAllowed ? 'block' : 'none';\n",
              "    })();\n",
              "  </script>\n",
              "</div>\n",
              "    </div>\n",
              "  </div>\n"
            ]
          },
          "metadata": {},
          "execution_count": 27
        }
      ]
    },
    {
      "cell_type": "code",
      "source": [
        "# Checking Null Value\n",
        "df_new.isnull().sum()"
      ],
      "metadata": {
        "colab": {
          "base_uri": "https://localhost:8080/"
        },
        "id": "MB_ChYAAoWZJ",
        "outputId": "8adbee76-c590-4f86-ec4c-3efb663ca04f"
      },
      "execution_count": 28,
      "outputs": [
        {
          "output_type": "execute_result",
          "data": {
            "text/plain": [
              "2     0\n",
              "3     0\n",
              "8     0\n",
              "9     0\n",
              "11    0\n",
              "15    0\n",
              "18    0\n",
              "31    0\n",
              "37    0\n",
              "39    0\n",
              "40    0\n",
              "43    2\n",
              "50    2\n",
              "57    0\n",
              "dtype: int64"
            ]
          },
          "metadata": {},
          "execution_count": 28
        }
      ]
    },
    {
      "cell_type": "code",
      "source": [
        "# Renaming Attribute Based on Actual Title\n",
        "column_mapping = {\n",
        "    2:'age',\n",
        "    3:'sex',\n",
        "    8:'cp',\n",
        "    9:'trestbps',\n",
        "    11:'chol',\n",
        "    15:'fbs',\n",
        "    18:'restecg',\n",
        "    31:'thalach',\n",
        "    37:'exang',\n",
        "    39:'oldpeak',\n",
        "    40:'slope',\n",
        "    43:'ca',\n",
        "    50:'thal',\n",
        "    57:'target',\n",
        "}\n",
        "\n",
        "df_new.rename(columns=column_mapping, inplace=True)"
      ],
      "metadata": {
        "colab": {
          "base_uri": "https://localhost:8080/"
        },
        "id": "avpTrYrqofov",
        "outputId": "147bc4ef-dd3b-4af7-d5ac-442e7493705e"
      },
      "execution_count": 29,
      "outputs": [
        {
          "output_type": "stream",
          "name": "stderr",
          "text": [
            "<ipython-input-29-a386a22ecd93>:19: SettingWithCopyWarning: \n",
            "A value is trying to be set on a copy of a slice from a DataFrame\n",
            "\n",
            "See the caveats in the documentation: https://pandas.pydata.org/pandas-docs/stable/user_guide/indexing.html#returning-a-view-versus-a-copy\n",
            "  df_new.rename(columns=column_mapping, inplace=True)\n"
          ]
        }
      ]
    },
    {
      "cell_type": "code",
      "source": [
        "# df_new.info()\n",
        "df_new.isnull().sum()"
      ],
      "metadata": {
        "colab": {
          "base_uri": "https://localhost:8080/"
        },
        "id": "VKqDqKrWoqNy",
        "outputId": "be6154f5-ac73-4add-d391-554b8ec8faea"
      },
      "execution_count": 32,
      "outputs": [
        {
          "output_type": "execute_result",
          "data": {
            "text/plain": [
              "age         0\n",
              "sex         0\n",
              "cp          0\n",
              "trestbps    0\n",
              "chol        0\n",
              "fbs         0\n",
              "restecg     0\n",
              "thalach     0\n",
              "exang       0\n",
              "oldpeak     0\n",
              "slope       0\n",
              "ca          2\n",
              "thal        2\n",
              "target      0\n",
              "dtype: int64"
            ]
          },
          "metadata": {},
          "execution_count": 32
        }
      ]
    },
    {
      "cell_type": "markdown",
      "source": [
        "### 5) Membersihkan Data\n",
        "dikarenakan ada 2 attribute yang missing value maka diperlukan perbaikan data melalui metode mean"
      ],
      "metadata": {
        "id": "yZkEsyUUo79e"
      }
    },
    {
      "cell_type": "code",
      "source": [
        "# Dropping Null Values also Change it Into Float\n",
        "meanCA = df_new['ca'].dropna().astype(float)\n",
        "meanThal = df_new['thal'].dropna().astype(float)\n",
        "\n",
        "# Calculate mean values\n",
        "meanCA = round(meanCA.mean())\n",
        "meanThal = round(meanThal.mean())"
      ],
      "metadata": {
        "id": "TLEo2WUKo60J"
      },
      "execution_count": 33,
      "outputs": []
    },
    {
      "cell_type": "code",
      "source": [
        "# Fill new values into nan value on attribute\n",
        "fill_values = {'ca':meanCA, 'thal':meanThal}\n",
        "\n",
        "df_clean = df_new.fillna(value=fill_values)"
      ],
      "metadata": {
        "id": "Mh6AwBsep6SV"
      },
      "execution_count": 35,
      "outputs": []
    },
    {
      "cell_type": "code",
      "source": [
        "df_clean.isnull().sum()"
      ],
      "metadata": {
        "colab": {
          "base_uri": "https://localhost:8080/"
        },
        "id": "Kc-OjmRCqRGF",
        "outputId": "e61a159f-b1a3-4229-e042-904460c6e9ae"
      },
      "execution_count": 36,
      "outputs": [
        {
          "output_type": "execute_result",
          "data": {
            "text/plain": [
              "age         0\n",
              "sex         0\n",
              "cp          0\n",
              "trestbps    0\n",
              "chol        0\n",
              "fbs         0\n",
              "restecg     0\n",
              "thalach     0\n",
              "exang       0\n",
              "oldpeak     0\n",
              "slope       0\n",
              "ca          0\n",
              "thal        0\n",
              "target      0\n",
              "dtype: int64"
            ]
          },
          "metadata": {},
          "execution_count": 36
        }
      ]
    },
    {
      "cell_type": "code",
      "source": [
        "# Check if its had duplicate values or not\n",
        "check_duplicated = df_clean.duplicated()\n",
        "df_clean[check_duplicated]"
      ],
      "metadata": {
        "colab": {
          "base_uri": "https://localhost:8080/",
          "height": 53
        },
        "id": "u6jEB-8tqbc3",
        "outputId": "32f4d45a-45cb-4489-b6de-279709c8fb63"
      },
      "execution_count": 37,
      "outputs": [
        {
          "output_type": "execute_result",
          "data": {
            "text/plain": [
              "Empty DataFrame\n",
              "Columns: [age, sex, cp, trestbps, chol, fbs, restecg, thalach, exang, oldpeak, slope, ca, thal, target]\n",
              "Index: []"
            ],
            "text/html": [
              "\n",
              "  <div id=\"df-2a371730-f671-4bfe-bc39-31b4f4d86533\" class=\"colab-df-container\">\n",
              "    <div>\n",
              "<style scoped>\n",
              "    .dataframe tbody tr th:only-of-type {\n",
              "        vertical-align: middle;\n",
              "    }\n",
              "\n",
              "    .dataframe tbody tr th {\n",
              "        vertical-align: top;\n",
              "    }\n",
              "\n",
              "    .dataframe thead th {\n",
              "        text-align: right;\n",
              "    }\n",
              "</style>\n",
              "<table border=\"1\" class=\"dataframe\">\n",
              "  <thead>\n",
              "    <tr style=\"text-align: right;\">\n",
              "      <th></th>\n",
              "      <th>age</th>\n",
              "      <th>sex</th>\n",
              "      <th>cp</th>\n",
              "      <th>trestbps</th>\n",
              "      <th>chol</th>\n",
              "      <th>fbs</th>\n",
              "      <th>restecg</th>\n",
              "      <th>thalach</th>\n",
              "      <th>exang</th>\n",
              "      <th>oldpeak</th>\n",
              "      <th>slope</th>\n",
              "      <th>ca</th>\n",
              "      <th>thal</th>\n",
              "      <th>target</th>\n",
              "    </tr>\n",
              "  </thead>\n",
              "  <tbody>\n",
              "  </tbody>\n",
              "</table>\n",
              "</div>\n",
              "    <div class=\"colab-df-buttons\">\n",
              "\n",
              "  <div class=\"colab-df-container\">\n",
              "    <button class=\"colab-df-convert\" onclick=\"convertToInteractive('df-2a371730-f671-4bfe-bc39-31b4f4d86533')\"\n",
              "            title=\"Convert this dataframe to an interactive table.\"\n",
              "            style=\"display:none;\">\n",
              "\n",
              "  <svg xmlns=\"http://www.w3.org/2000/svg\" height=\"24px\" viewBox=\"0 -960 960 960\">\n",
              "    <path d=\"M120-120v-720h720v720H120Zm60-500h600v-160H180v160Zm220 220h160v-160H400v160Zm0 220h160v-160H400v160ZM180-400h160v-160H180v160Zm440 0h160v-160H620v160ZM180-180h160v-160H180v160Zm440 0h160v-160H620v160Z\"/>\n",
              "  </svg>\n",
              "    </button>\n",
              "\n",
              "  <style>\n",
              "    .colab-df-container {\n",
              "      display:flex;\n",
              "      gap: 12px;\n",
              "    }\n",
              "\n",
              "    .colab-df-convert {\n",
              "      background-color: #E8F0FE;\n",
              "      border: none;\n",
              "      border-radius: 50%;\n",
              "      cursor: pointer;\n",
              "      display: none;\n",
              "      fill: #1967D2;\n",
              "      height: 32px;\n",
              "      padding: 0 0 0 0;\n",
              "      width: 32px;\n",
              "    }\n",
              "\n",
              "    .colab-df-convert:hover {\n",
              "      background-color: #E2EBFA;\n",
              "      box-shadow: 0px 1px 2px rgba(60, 64, 67, 0.3), 0px 1px 3px 1px rgba(60, 64, 67, 0.15);\n",
              "      fill: #174EA6;\n",
              "    }\n",
              "\n",
              "    .colab-df-buttons div {\n",
              "      margin-bottom: 4px;\n",
              "    }\n",
              "\n",
              "    [theme=dark] .colab-df-convert {\n",
              "      background-color: #3B4455;\n",
              "      fill: #D2E3FC;\n",
              "    }\n",
              "\n",
              "    [theme=dark] .colab-df-convert:hover {\n",
              "      background-color: #434B5C;\n",
              "      box-shadow: 0px 1px 3px 1px rgba(0, 0, 0, 0.15);\n",
              "      filter: drop-shadow(0px 1px 2px rgba(0, 0, 0, 0.3));\n",
              "      fill: #FFFFFF;\n",
              "    }\n",
              "  </style>\n",
              "\n",
              "    <script>\n",
              "      const buttonEl =\n",
              "        document.querySelector('#df-2a371730-f671-4bfe-bc39-31b4f4d86533 button.colab-df-convert');\n",
              "      buttonEl.style.display =\n",
              "        google.colab.kernel.accessAllowed ? 'block' : 'none';\n",
              "\n",
              "      async function convertToInteractive(key) {\n",
              "        const element = document.querySelector('#df-2a371730-f671-4bfe-bc39-31b4f4d86533');\n",
              "        const dataTable =\n",
              "          await google.colab.kernel.invokeFunction('convertToInteractive',\n",
              "                                                    [key], {});\n",
              "        if (!dataTable) return;\n",
              "\n",
              "        const docLinkHtml = 'Like what you see? Visit the ' +\n",
              "          '<a target=\"_blank\" href=https://colab.research.google.com/notebooks/data_table.ipynb>data table notebook</a>'\n",
              "          + ' to learn more about interactive tables.';\n",
              "        element.innerHTML = '';\n",
              "        dataTable['output_type'] = 'display_data';\n",
              "        await google.colab.output.renderOutput(dataTable, element);\n",
              "        const docLink = document.createElement('div');\n",
              "        docLink.innerHTML = docLinkHtml;\n",
              "        element.appendChild(docLink);\n",
              "      }\n",
              "    </script>\n",
              "  </div>\n",
              "\n",
              "    </div>\n",
              "  </div>\n"
            ]
          },
          "metadata": {},
          "execution_count": 37
        }
      ]
    },
    {
      "cell_type": "code",
      "source": [
        "df_clean.corr()"
      ],
      "metadata": {
        "colab": {
          "base_uri": "https://localhost:8080/",
          "height": 509
        },
        "id": "fK1BNBeCqzcK",
        "outputId": "ea97c915-e797-48f6-a0ac-24c1dd8e6f0e"
      },
      "execution_count": 38,
      "outputs": [
        {
          "output_type": "execute_result",
          "data": {
            "text/plain": [
              "               age       sex        cp  trestbps      chol       fbs  \\\n",
              "age       1.000000 -0.091125  0.077383  0.274466  0.218295  0.104400   \n",
              "sex      -0.091125  1.000000  0.022619 -0.058920 -0.189397  0.054396   \n",
              "cp        0.077383  0.022619  1.000000 -0.070886  0.098889 -0.071550   \n",
              "trestbps  0.274466 -0.058920 -0.070886  1.000000  0.157118  0.142902   \n",
              "chol      0.218295 -0.189397  0.098889  0.157118  1.000000  0.019506   \n",
              "fbs       0.104400  0.054396 -0.071550  0.142902  0.019506  1.000000   \n",
              "restecg   0.134438  0.032665  0.061007  0.128652  0.166490  0.054025   \n",
              "thalach  -0.393266 -0.054792 -0.318512 -0.029739 -0.018392  0.019948   \n",
              "exang     0.087174  0.189095  0.364757  0.061072  0.088988  0.027573   \n",
              "oldpeak   0.195740  0.103771  0.173221  0.197026  0.044771 -0.024812   \n",
              "slope     0.156108  0.040438  0.147143  0.137713  0.000546  0.056060   \n",
              "ca        0.353728  0.095005  0.208906  0.080754  0.129764  0.117625   \n",
              "thal      0.103751  0.389126  0.259609  0.122973  0.040570  0.064050   \n",
              "target    0.210747  0.239516  0.383891  0.151776  0.098895  0.039690   \n",
              "\n",
              "           restecg   thalach     exang   oldpeak     slope        ca  \\\n",
              "age       0.134438 -0.393266  0.087174  0.195740  0.156108  0.353728   \n",
              "sex       0.032665 -0.054792  0.189095  0.103771  0.040438  0.095005   \n",
              "cp        0.061007 -0.318512  0.364757  0.173221  0.147143  0.208906   \n",
              "trestbps  0.128652 -0.029739  0.061072  0.197026  0.137713  0.080754   \n",
              "chol      0.166490 -0.018392  0.088988  0.044771  0.000546  0.129764   \n",
              "fbs       0.054025  0.019948  0.027573 -0.024812  0.056060  0.117625   \n",
              "restecg   1.000000 -0.082132  0.088781  0.107675  0.155901  0.112083   \n",
              "thalach  -0.082132  1.000000 -0.374316 -0.344748 -0.384825 -0.254544   \n",
              "exang     0.088781 -0.374316  1.000000  0.285568  0.263093  0.151577   \n",
              "oldpeak   0.107675 -0.344748  0.285568  1.000000  0.600446  0.253958   \n",
              "slope     0.155901 -0.384825  0.263093  0.600446  1.000000  0.100084   \n",
              "ca        0.112083 -0.254544  0.151577  0.253958  0.100084  1.000000   \n",
              "thal      0.020806 -0.256681  0.334712  0.331229  0.288944  0.246705   \n",
              "target    0.187365 -0.396194  0.398880  0.487529  0.367932  0.499212   \n",
              "\n",
              "              thal    target  \n",
              "age       0.103751  0.210747  \n",
              "sex       0.389126  0.239516  \n",
              "cp        0.259609  0.383891  \n",
              "trestbps  0.122973  0.151776  \n",
              "chol      0.040570  0.098895  \n",
              "fbs       0.064050  0.039690  \n",
              "restecg   0.020806  0.187365  \n",
              "thalach  -0.256681 -0.396194  \n",
              "exang     0.334712  0.398880  \n",
              "oldpeak   0.331229  0.487529  \n",
              "slope     0.288944  0.367932  \n",
              "ca        0.246705  0.499212  \n",
              "thal      1.000000  0.503224  \n",
              "target    0.503224  1.000000  "
            ],
            "text/html": [
              "\n",
              "  <div id=\"df-c4c210ed-0151-4c3e-95e5-6ba1ad764816\" class=\"colab-df-container\">\n",
              "    <div>\n",
              "<style scoped>\n",
              "    .dataframe tbody tr th:only-of-type {\n",
              "        vertical-align: middle;\n",
              "    }\n",
              "\n",
              "    .dataframe tbody tr th {\n",
              "        vertical-align: top;\n",
              "    }\n",
              "\n",
              "    .dataframe thead th {\n",
              "        text-align: right;\n",
              "    }\n",
              "</style>\n",
              "<table border=\"1\" class=\"dataframe\">\n",
              "  <thead>\n",
              "    <tr style=\"text-align: right;\">\n",
              "      <th></th>\n",
              "      <th>age</th>\n",
              "      <th>sex</th>\n",
              "      <th>cp</th>\n",
              "      <th>trestbps</th>\n",
              "      <th>chol</th>\n",
              "      <th>fbs</th>\n",
              "      <th>restecg</th>\n",
              "      <th>thalach</th>\n",
              "      <th>exang</th>\n",
              "      <th>oldpeak</th>\n",
              "      <th>slope</th>\n",
              "      <th>ca</th>\n",
              "      <th>thal</th>\n",
              "      <th>target</th>\n",
              "    </tr>\n",
              "  </thead>\n",
              "  <tbody>\n",
              "    <tr>\n",
              "      <th>age</th>\n",
              "      <td>1.000000</td>\n",
              "      <td>-0.091125</td>\n",
              "      <td>0.077383</td>\n",
              "      <td>0.274466</td>\n",
              "      <td>0.218295</td>\n",
              "      <td>0.104400</td>\n",
              "      <td>0.134438</td>\n",
              "      <td>-0.393266</td>\n",
              "      <td>0.087174</td>\n",
              "      <td>0.195740</td>\n",
              "      <td>0.156108</td>\n",
              "      <td>0.353728</td>\n",
              "      <td>0.103751</td>\n",
              "      <td>0.210747</td>\n",
              "    </tr>\n",
              "    <tr>\n",
              "      <th>sex</th>\n",
              "      <td>-0.091125</td>\n",
              "      <td>1.000000</td>\n",
              "      <td>0.022619</td>\n",
              "      <td>-0.058920</td>\n",
              "      <td>-0.189397</td>\n",
              "      <td>0.054396</td>\n",
              "      <td>0.032665</td>\n",
              "      <td>-0.054792</td>\n",
              "      <td>0.189095</td>\n",
              "      <td>0.103771</td>\n",
              "      <td>0.040438</td>\n",
              "      <td>0.095005</td>\n",
              "      <td>0.389126</td>\n",
              "      <td>0.239516</td>\n",
              "    </tr>\n",
              "    <tr>\n",
              "      <th>cp</th>\n",
              "      <td>0.077383</td>\n",
              "      <td>0.022619</td>\n",
              "      <td>1.000000</td>\n",
              "      <td>-0.070886</td>\n",
              "      <td>0.098889</td>\n",
              "      <td>-0.071550</td>\n",
              "      <td>0.061007</td>\n",
              "      <td>-0.318512</td>\n",
              "      <td>0.364757</td>\n",
              "      <td>0.173221</td>\n",
              "      <td>0.147143</td>\n",
              "      <td>0.208906</td>\n",
              "      <td>0.259609</td>\n",
              "      <td>0.383891</td>\n",
              "    </tr>\n",
              "    <tr>\n",
              "      <th>trestbps</th>\n",
              "      <td>0.274466</td>\n",
              "      <td>-0.058920</td>\n",
              "      <td>-0.070886</td>\n",
              "      <td>1.000000</td>\n",
              "      <td>0.157118</td>\n",
              "      <td>0.142902</td>\n",
              "      <td>0.128652</td>\n",
              "      <td>-0.029739</td>\n",
              "      <td>0.061072</td>\n",
              "      <td>0.197026</td>\n",
              "      <td>0.137713</td>\n",
              "      <td>0.080754</td>\n",
              "      <td>0.122973</td>\n",
              "      <td>0.151776</td>\n",
              "    </tr>\n",
              "    <tr>\n",
              "      <th>chol</th>\n",
              "      <td>0.218295</td>\n",
              "      <td>-0.189397</td>\n",
              "      <td>0.098889</td>\n",
              "      <td>0.157118</td>\n",
              "      <td>1.000000</td>\n",
              "      <td>0.019506</td>\n",
              "      <td>0.166490</td>\n",
              "      <td>-0.018392</td>\n",
              "      <td>0.088988</td>\n",
              "      <td>0.044771</td>\n",
              "      <td>0.000546</td>\n",
              "      <td>0.129764</td>\n",
              "      <td>0.040570</td>\n",
              "      <td>0.098895</td>\n",
              "    </tr>\n",
              "    <tr>\n",
              "      <th>fbs</th>\n",
              "      <td>0.104400</td>\n",
              "      <td>0.054396</td>\n",
              "      <td>-0.071550</td>\n",
              "      <td>0.142902</td>\n",
              "      <td>0.019506</td>\n",
              "      <td>1.000000</td>\n",
              "      <td>0.054025</td>\n",
              "      <td>0.019948</td>\n",
              "      <td>0.027573</td>\n",
              "      <td>-0.024812</td>\n",
              "      <td>0.056060</td>\n",
              "      <td>0.117625</td>\n",
              "      <td>0.064050</td>\n",
              "      <td>0.039690</td>\n",
              "    </tr>\n",
              "    <tr>\n",
              "      <th>restecg</th>\n",
              "      <td>0.134438</td>\n",
              "      <td>0.032665</td>\n",
              "      <td>0.061007</td>\n",
              "      <td>0.128652</td>\n",
              "      <td>0.166490</td>\n",
              "      <td>0.054025</td>\n",
              "      <td>1.000000</td>\n",
              "      <td>-0.082132</td>\n",
              "      <td>0.088781</td>\n",
              "      <td>0.107675</td>\n",
              "      <td>0.155901</td>\n",
              "      <td>0.112083</td>\n",
              "      <td>0.020806</td>\n",
              "      <td>0.187365</td>\n",
              "    </tr>\n",
              "    <tr>\n",
              "      <th>thalach</th>\n",
              "      <td>-0.393266</td>\n",
              "      <td>-0.054792</td>\n",
              "      <td>-0.318512</td>\n",
              "      <td>-0.029739</td>\n",
              "      <td>-0.018392</td>\n",
              "      <td>0.019948</td>\n",
              "      <td>-0.082132</td>\n",
              "      <td>1.000000</td>\n",
              "      <td>-0.374316</td>\n",
              "      <td>-0.344748</td>\n",
              "      <td>-0.384825</td>\n",
              "      <td>-0.254544</td>\n",
              "      <td>-0.256681</td>\n",
              "      <td>-0.396194</td>\n",
              "    </tr>\n",
              "    <tr>\n",
              "      <th>exang</th>\n",
              "      <td>0.087174</td>\n",
              "      <td>0.189095</td>\n",
              "      <td>0.364757</td>\n",
              "      <td>0.061072</td>\n",
              "      <td>0.088988</td>\n",
              "      <td>0.027573</td>\n",
              "      <td>0.088781</td>\n",
              "      <td>-0.374316</td>\n",
              "      <td>1.000000</td>\n",
              "      <td>0.285568</td>\n",
              "      <td>0.263093</td>\n",
              "      <td>0.151577</td>\n",
              "      <td>0.334712</td>\n",
              "      <td>0.398880</td>\n",
              "    </tr>\n",
              "    <tr>\n",
              "      <th>oldpeak</th>\n",
              "      <td>0.195740</td>\n",
              "      <td>0.103771</td>\n",
              "      <td>0.173221</td>\n",
              "      <td>0.197026</td>\n",
              "      <td>0.044771</td>\n",
              "      <td>-0.024812</td>\n",
              "      <td>0.107675</td>\n",
              "      <td>-0.344748</td>\n",
              "      <td>0.285568</td>\n",
              "      <td>1.000000</td>\n",
              "      <td>0.600446</td>\n",
              "      <td>0.253958</td>\n",
              "      <td>0.331229</td>\n",
              "      <td>0.487529</td>\n",
              "    </tr>\n",
              "    <tr>\n",
              "      <th>slope</th>\n",
              "      <td>0.156108</td>\n",
              "      <td>0.040438</td>\n",
              "      <td>0.147143</td>\n",
              "      <td>0.137713</td>\n",
              "      <td>0.000546</td>\n",
              "      <td>0.056060</td>\n",
              "      <td>0.155901</td>\n",
              "      <td>-0.384825</td>\n",
              "      <td>0.263093</td>\n",
              "      <td>0.600446</td>\n",
              "      <td>1.000000</td>\n",
              "      <td>0.100084</td>\n",
              "      <td>0.288944</td>\n",
              "      <td>0.367932</td>\n",
              "    </tr>\n",
              "    <tr>\n",
              "      <th>ca</th>\n",
              "      <td>0.353728</td>\n",
              "      <td>0.095005</td>\n",
              "      <td>0.208906</td>\n",
              "      <td>0.080754</td>\n",
              "      <td>0.129764</td>\n",
              "      <td>0.117625</td>\n",
              "      <td>0.112083</td>\n",
              "      <td>-0.254544</td>\n",
              "      <td>0.151577</td>\n",
              "      <td>0.253958</td>\n",
              "      <td>0.100084</td>\n",
              "      <td>1.000000</td>\n",
              "      <td>0.246705</td>\n",
              "      <td>0.499212</td>\n",
              "    </tr>\n",
              "    <tr>\n",
              "      <th>thal</th>\n",
              "      <td>0.103751</td>\n",
              "      <td>0.389126</td>\n",
              "      <td>0.259609</td>\n",
              "      <td>0.122973</td>\n",
              "      <td>0.040570</td>\n",
              "      <td>0.064050</td>\n",
              "      <td>0.020806</td>\n",
              "      <td>-0.256681</td>\n",
              "      <td>0.334712</td>\n",
              "      <td>0.331229</td>\n",
              "      <td>0.288944</td>\n",
              "      <td>0.246705</td>\n",
              "      <td>1.000000</td>\n",
              "      <td>0.503224</td>\n",
              "    </tr>\n",
              "    <tr>\n",
              "      <th>target</th>\n",
              "      <td>0.210747</td>\n",
              "      <td>0.239516</td>\n",
              "      <td>0.383891</td>\n",
              "      <td>0.151776</td>\n",
              "      <td>0.098895</td>\n",
              "      <td>0.039690</td>\n",
              "      <td>0.187365</td>\n",
              "      <td>-0.396194</td>\n",
              "      <td>0.398880</td>\n",
              "      <td>0.487529</td>\n",
              "      <td>0.367932</td>\n",
              "      <td>0.499212</td>\n",
              "      <td>0.503224</td>\n",
              "      <td>1.000000</td>\n",
              "    </tr>\n",
              "  </tbody>\n",
              "</table>\n",
              "</div>\n",
              "    <div class=\"colab-df-buttons\">\n",
              "\n",
              "  <div class=\"colab-df-container\">\n",
              "    <button class=\"colab-df-convert\" onclick=\"convertToInteractive('df-c4c210ed-0151-4c3e-95e5-6ba1ad764816')\"\n",
              "            title=\"Convert this dataframe to an interactive table.\"\n",
              "            style=\"display:none;\">\n",
              "\n",
              "  <svg xmlns=\"http://www.w3.org/2000/svg\" height=\"24px\" viewBox=\"0 -960 960 960\">\n",
              "    <path d=\"M120-120v-720h720v720H120Zm60-500h600v-160H180v160Zm220 220h160v-160H400v160Zm0 220h160v-160H400v160ZM180-400h160v-160H180v160Zm440 0h160v-160H620v160ZM180-180h160v-160H180v160Zm440 0h160v-160H620v160Z\"/>\n",
              "  </svg>\n",
              "    </button>\n",
              "\n",
              "  <style>\n",
              "    .colab-df-container {\n",
              "      display:flex;\n",
              "      gap: 12px;\n",
              "    }\n",
              "\n",
              "    .colab-df-convert {\n",
              "      background-color: #E8F0FE;\n",
              "      border: none;\n",
              "      border-radius: 50%;\n",
              "      cursor: pointer;\n",
              "      display: none;\n",
              "      fill: #1967D2;\n",
              "      height: 32px;\n",
              "      padding: 0 0 0 0;\n",
              "      width: 32px;\n",
              "    }\n",
              "\n",
              "    .colab-df-convert:hover {\n",
              "      background-color: #E2EBFA;\n",
              "      box-shadow: 0px 1px 2px rgba(60, 64, 67, 0.3), 0px 1px 3px 1px rgba(60, 64, 67, 0.15);\n",
              "      fill: #174EA6;\n",
              "    }\n",
              "\n",
              "    .colab-df-buttons div {\n",
              "      margin-bottom: 4px;\n",
              "    }\n",
              "\n",
              "    [theme=dark] .colab-df-convert {\n",
              "      background-color: #3B4455;\n",
              "      fill: #D2E3FC;\n",
              "    }\n",
              "\n",
              "    [theme=dark] .colab-df-convert:hover {\n",
              "      background-color: #434B5C;\n",
              "      box-shadow: 0px 1px 3px 1px rgba(0, 0, 0, 0.15);\n",
              "      filter: drop-shadow(0px 1px 2px rgba(0, 0, 0, 0.3));\n",
              "      fill: #FFFFFF;\n",
              "    }\n",
              "  </style>\n",
              "\n",
              "    <script>\n",
              "      const buttonEl =\n",
              "        document.querySelector('#df-c4c210ed-0151-4c3e-95e5-6ba1ad764816 button.colab-df-convert');\n",
              "      buttonEl.style.display =\n",
              "        google.colab.kernel.accessAllowed ? 'block' : 'none';\n",
              "\n",
              "      async function convertToInteractive(key) {\n",
              "        const element = document.querySelector('#df-c4c210ed-0151-4c3e-95e5-6ba1ad764816');\n",
              "        const dataTable =\n",
              "          await google.colab.kernel.invokeFunction('convertToInteractive',\n",
              "                                                    [key], {});\n",
              "        if (!dataTable) return;\n",
              "\n",
              "        const docLinkHtml = 'Like what you see? Visit the ' +\n",
              "          '<a target=\"_blank\" href=https://colab.research.google.com/notebooks/data_table.ipynb>data table notebook</a>'\n",
              "          + ' to learn more about interactive tables.';\n",
              "        element.innerHTML = '';\n",
              "        dataTable['output_type'] = 'display_data';\n",
              "        await google.colab.output.renderOutput(dataTable, element);\n",
              "        const docLink = document.createElement('div');\n",
              "        docLink.innerHTML = docLinkHtml;\n",
              "        element.appendChild(docLink);\n",
              "      }\n",
              "    </script>\n",
              "  </div>\n",
              "\n",
              "\n",
              "<div id=\"df-6084e74f-299e-44eb-83a1-7914864896eb\">\n",
              "  <button class=\"colab-df-quickchart\" onclick=\"quickchart('df-6084e74f-299e-44eb-83a1-7914864896eb')\"\n",
              "            title=\"Suggest charts\"\n",
              "            style=\"display:none;\">\n",
              "\n",
              "<svg xmlns=\"http://www.w3.org/2000/svg\" height=\"24px\"viewBox=\"0 0 24 24\"\n",
              "     width=\"24px\">\n",
              "    <g>\n",
              "        <path d=\"M19 3H5c-1.1 0-2 .9-2 2v14c0 1.1.9 2 2 2h14c1.1 0 2-.9 2-2V5c0-1.1-.9-2-2-2zM9 17H7v-7h2v7zm4 0h-2V7h2v10zm4 0h-2v-4h2v4z\"/>\n",
              "    </g>\n",
              "</svg>\n",
              "  </button>\n",
              "\n",
              "<style>\n",
              "  .colab-df-quickchart {\n",
              "      --bg-color: #E8F0FE;\n",
              "      --fill-color: #1967D2;\n",
              "      --hover-bg-color: #E2EBFA;\n",
              "      --hover-fill-color: #174EA6;\n",
              "      --disabled-fill-color: #AAA;\n",
              "      --disabled-bg-color: #DDD;\n",
              "  }\n",
              "\n",
              "  [theme=dark] .colab-df-quickchart {\n",
              "      --bg-color: #3B4455;\n",
              "      --fill-color: #D2E3FC;\n",
              "      --hover-bg-color: #434B5C;\n",
              "      --hover-fill-color: #FFFFFF;\n",
              "      --disabled-bg-color: #3B4455;\n",
              "      --disabled-fill-color: #666;\n",
              "  }\n",
              "\n",
              "  .colab-df-quickchart {\n",
              "    background-color: var(--bg-color);\n",
              "    border: none;\n",
              "    border-radius: 50%;\n",
              "    cursor: pointer;\n",
              "    display: none;\n",
              "    fill: var(--fill-color);\n",
              "    height: 32px;\n",
              "    padding: 0;\n",
              "    width: 32px;\n",
              "  }\n",
              "\n",
              "  .colab-df-quickchart:hover {\n",
              "    background-color: var(--hover-bg-color);\n",
              "    box-shadow: 0 1px 2px rgba(60, 64, 67, 0.3), 0 1px 3px 1px rgba(60, 64, 67, 0.15);\n",
              "    fill: var(--button-hover-fill-color);\n",
              "  }\n",
              "\n",
              "  .colab-df-quickchart-complete:disabled,\n",
              "  .colab-df-quickchart-complete:disabled:hover {\n",
              "    background-color: var(--disabled-bg-color);\n",
              "    fill: var(--disabled-fill-color);\n",
              "    box-shadow: none;\n",
              "  }\n",
              "\n",
              "  .colab-df-spinner {\n",
              "    border: 2px solid var(--fill-color);\n",
              "    border-color: transparent;\n",
              "    border-bottom-color: var(--fill-color);\n",
              "    animation:\n",
              "      spin 1s steps(1) infinite;\n",
              "  }\n",
              "\n",
              "  @keyframes spin {\n",
              "    0% {\n",
              "      border-color: transparent;\n",
              "      border-bottom-color: var(--fill-color);\n",
              "      border-left-color: var(--fill-color);\n",
              "    }\n",
              "    20% {\n",
              "      border-color: transparent;\n",
              "      border-left-color: var(--fill-color);\n",
              "      border-top-color: var(--fill-color);\n",
              "    }\n",
              "    30% {\n",
              "      border-color: transparent;\n",
              "      border-left-color: var(--fill-color);\n",
              "      border-top-color: var(--fill-color);\n",
              "      border-right-color: var(--fill-color);\n",
              "    }\n",
              "    40% {\n",
              "      border-color: transparent;\n",
              "      border-right-color: var(--fill-color);\n",
              "      border-top-color: var(--fill-color);\n",
              "    }\n",
              "    60% {\n",
              "      border-color: transparent;\n",
              "      border-right-color: var(--fill-color);\n",
              "    }\n",
              "    80% {\n",
              "      border-color: transparent;\n",
              "      border-right-color: var(--fill-color);\n",
              "      border-bottom-color: var(--fill-color);\n",
              "    }\n",
              "    90% {\n",
              "      border-color: transparent;\n",
              "      border-bottom-color: var(--fill-color);\n",
              "    }\n",
              "  }\n",
              "</style>\n",
              "\n",
              "  <script>\n",
              "    async function quickchart(key) {\n",
              "      const quickchartButtonEl =\n",
              "        document.querySelector('#' + key + ' button');\n",
              "      quickchartButtonEl.disabled = true;  // To prevent multiple clicks.\n",
              "      quickchartButtonEl.classList.add('colab-df-spinner');\n",
              "      try {\n",
              "        const charts = await google.colab.kernel.invokeFunction(\n",
              "            'suggestCharts', [key], {});\n",
              "      } catch (error) {\n",
              "        console.error('Error during call to suggestCharts:', error);\n",
              "      }\n",
              "      quickchartButtonEl.classList.remove('colab-df-spinner');\n",
              "      quickchartButtonEl.classList.add('colab-df-quickchart-complete');\n",
              "    }\n",
              "    (() => {\n",
              "      let quickchartButtonEl =\n",
              "        document.querySelector('#df-6084e74f-299e-44eb-83a1-7914864896eb button');\n",
              "      quickchartButtonEl.style.display =\n",
              "        google.colab.kernel.accessAllowed ? 'block' : 'none';\n",
              "    })();\n",
              "  </script>\n",
              "</div>\n",
              "    </div>\n",
              "  </div>\n"
            ]
          },
          "metadata": {},
          "execution_count": 38
        }
      ]
    },
    {
      "cell_type": "code",
      "source": [
        "# Heat Map Visualisation\n",
        "cor_mat = df_clean.corr()\n",
        "fig, ax = plt.subplots(figsize=(15,10))\n",
        "sns.heatmap(cor_mat,annot=True,linewidths=0.5,fmt=\".3f\")"
      ],
      "metadata": {
        "colab": {
          "base_uri": "https://localhost:8080/",
          "height": 719
        },
        "id": "iNTOT7Obq9-7",
        "outputId": "725f65f1-c3d8-4304-bdd1-8d1e88145363"
      },
      "execution_count": 40,
      "outputs": [
        {
          "output_type": "execute_result",
          "data": {
            "text/plain": [
              "<Axes: >"
            ]
          },
          "metadata": {},
          "execution_count": 40
        },
        {
          "output_type": "display_data",
          "data": {
            "text/plain": [
              "<Figure size 1500x1000 with 2 Axes>"
            ],
            "image/png": "[encoded data removed]"
          },
          "metadata": {}
        }
      ]
    },
    {
      "cell_type": "markdown",
      "source": [
        "### 6) Konstruksi Data\n",
        "Pada proses ini, dikarenakan target atau class object memiliki imbalance data, maka diperlukan perbaikan pada masing masing value pada class. Perbaikan ini menggunakan teknik oversampling smote"
      ],
      "metadata": {
        "id": "c0xHVDWfrRqt"
      }
    },
    {
      "cell_type": "code",
      "source": [
        "df_clean['target'].value_counts()"
      ],
      "metadata": {
        "colab": {
          "base_uri": "https://localhost:8080/"
        },
        "id": "V7MCnu65rP9_",
        "outputId": "13616421-e8e1-4aa9-9e04-0f386099f2a9"
      },
      "execution_count": 41,
      "outputs": [
        {
          "output_type": "execute_result",
          "data": {
            "text/plain": [
              "0.0    157\n",
              "1.0     50\n",
              "3.0     32\n",
              "2.0     31\n",
              "4.0     12\n",
              "Name: target, dtype: int64"
            ]
          },
          "metadata": {},
          "execution_count": 41
        }
      ]
    },
    {
      "cell_type": "code",
      "source": [
        "# Cause of imbalanced data we should balanced it using oversample.\n",
        "# Why do we use oversample cause the gap between values 0-4 are to far. so oversample should be fit it\n",
        "X = df_clean.drop('target', axis=1).values\n",
        "y = df_clean.iloc[:, -1]"
      ],
      "metadata": {
        "id": "a8qxtd1srd-T"
      },
      "execution_count": 43,
      "outputs": []
    },
    {
      "cell_type": "code",
      "source": [
        "# Visualize the target each values\n",
        "df_clean['target'].value_counts().plot(kind='bar', figsize=(10,6),color=['green','blue'])\n",
        "plt.title(\"Count of the target\")\n",
        "plt.xticks(rotation=0);"
      ],
      "metadata": {
        "colab": {
          "base_uri": "https://localhost:8080/",
          "height": 545
        },
        "id": "a6VbNeVasAQp",
        "outputId": "fcbb5b3f-10f0-43b6-e6fc-b24b30e3e94a"
      },
      "execution_count": 44,
      "outputs": [
        {
          "output_type": "display_data",
          "data": {
            "text/plain": [
              "<Figure size 1000x600 with 1 Axes>"
            ],
            "image/png": "[encoded data removed]"
          },
          "metadata": {}
        }
      ]
    },
    {
      "cell_type": "code",
      "source": [
        "# SMOTE Oversample\n",
        "from imblearn.over_sampling import SMOTE\n",
        "\n",
        "smote = SMOTE(random_state=42)\n",
        "X_smote, y_smote = smote.fit_resample(X, y)"
      ],
      "metadata": {
        "id": "tujP0VKxsXJh"
      },
      "execution_count": 45,
      "outputs": []
    },
    {
      "cell_type": "code",
      "source": [
        "# Cek kembali persebaran data pada target\n",
        "plt.figure(figsize=(12, 4))\n",
        "\n",
        "new_df1 = pd.DataFrame(data=y)\n",
        "\n",
        "plt.subplot(1, 2, 1)\n",
        "new_df1.value_counts().plot(kind='bar',figsize=(10,6),color=['green','blue','red','yellow'])\n",
        "plt.title(\"target before over sampling with SMOTE \")\n",
        "plt.xticks(rotation=0);\n",
        "\n",
        "plt.subplot(1, 2, 2)\n",
        "new_df2 = pd.DataFrame(data=y_smote)\n",
        "\n",
        "new_df2.value_counts().plot(kind='bar',figsize=(10,6),color=['green','blue','red','yellow'])\n",
        "plt.title(\"target after over sampling with SMOTE\")\n",
        "plt.xticks(rotation=0);\n",
        "\n",
        "plt.tight_layout()\n",
        "plt.show()\n"
      ],
      "metadata": {
        "colab": {
          "base_uri": "https://localhost:8080/",
          "height": 572
        },
        "id": "cPmivSaOsqPV",
        "outputId": "d70cb8be-82c4-4e12-ae47-791f3b465f46"
      },
      "execution_count": 46,
      "outputs": [
        {
          "output_type": "display_data",
          "data": {
            "text/plain": [
              "<Figure size 1000x600 with 2 Axes>"
            ],
            "image/png": "[encoded data removed]"
          },
          "metadata": {}
        }
      ]
    },
    {
      "cell_type": "code",
      "source": [
        "# Memasukkan nilai oversampling kedalam dataframe\n",
        "df_smote = pd.DataFrame(data=y_smote)\n",
        "df_smote.value_counts()"
      ],
      "metadata": {
        "colab": {
          "base_uri": "https://localhost:8080/"
        },
        "id": "KMcbVBdfs1G_",
        "outputId": "2b57edbb-9846-4627-f65e-bef90f5bbb3e"
      },
      "execution_count": 47,
      "outputs": [
        {
          "output_type": "execute_result",
          "data": {
            "text/plain": [
              "target\n",
              "0.0       157\n",
              "1.0       157\n",
              "2.0       157\n",
              "3.0       157\n",
              "4.0       157\n",
              "dtype: int64"
            ]
          },
          "metadata": {},
          "execution_count": 47
        }
      ]
    },
    {
      "cell_type": "code",
      "source": [
        "df_clean.describe()"
      ],
      "metadata": {
        "colab": {
          "base_uri": "https://localhost:8080/",
          "height": 320
        },
        "id": "Xmt5kuNEtI1v",
        "outputId": "f5f76387-1dbe-4bb6-a63d-683b56a87eff"
      },
      "execution_count": 48,
      "outputs": [
        {
          "output_type": "execute_result",
          "data": {
            "text/plain": [
              "              age         sex          cp    trestbps        chol         fbs  \\\n",
              "count  282.000000  282.000000  282.000000  282.000000  282.000000  282.000000   \n",
              "mean    54.411348    0.677305    3.163121  131.563830  249.092199    0.148936   \n",
              "std      9.053083    0.468338    0.955405   17.757496   51.217546    0.356658   \n",
              "min     29.000000    0.000000    1.000000   94.000000  126.000000    0.000000   \n",
              "25%     48.000000    0.000000    3.000000  120.000000  213.000000    0.000000   \n",
              "50%     55.000000    1.000000    3.000000  130.000000  244.000000    0.000000   \n",
              "75%     61.000000    1.000000    4.000000  140.000000  277.000000    0.000000   \n",
              "max     77.000000    1.000000    4.000000  200.000000  564.000000    1.000000   \n",
              "\n",
              "          restecg     thalach       exang     oldpeak       slope          ca  \\\n",
              "count  282.000000  282.000000  282.000000  282.000000  282.000000  282.000000   \n",
              "mean     1.014184  149.765957    0.326241    1.026950    1.585106    0.666667   \n",
              "std      0.998118   22.923869    0.469670    1.138825    0.609700    0.933113   \n",
              "min      0.000000   71.000000    0.000000    0.000000    1.000000    0.000000   \n",
              "25%      0.000000  133.250000    0.000000    0.000000    1.000000    0.000000   \n",
              "50%      2.000000  153.500000    0.000000    0.800000    2.000000    0.000000   \n",
              "75%      2.000000  165.750000    1.000000    1.600000    2.000000    1.000000   \n",
              "max      2.000000  202.000000    1.000000    6.200000    3.000000    3.000000   \n",
              "\n",
              "             thal      target  \n",
              "count  282.000000  282.000000  \n",
              "mean     4.680851    0.907801  \n",
              "std      1.932377    1.224894  \n",
              "min      3.000000    0.000000  \n",
              "25%      3.000000    0.000000  \n",
              "50%      3.000000    0.000000  \n",
              "75%      7.000000    2.000000  \n",
              "max      7.000000    4.000000  "
            ],
            "text/html": [
              "\n",
              "  <div id=\"df-8cfcd56f-09c0-4c5b-8954-87592c32ca94\" class=\"colab-df-container\">\n",
              "    <div>\n",
              "<style scoped>\n",
              "    .dataframe tbody tr th:only-of-type {\n",
              "        vertical-align: middle;\n",
              "    }\n",
              "\n",
              "    .dataframe tbody tr th {\n",
              "        vertical-align: top;\n",
              "    }\n",
              "\n",
              "    .dataframe thead th {\n",
              "        text-align: right;\n",
              "    }\n",
              "</style>\n",
              "<table border=\"1\" class=\"dataframe\">\n",
              "  <thead>\n",
              "    <tr style=\"text-align: right;\">\n",
              "      <th></th>\n",
              "      <th>age</th>\n",
              "      <th>sex</th>\n",
              "      <th>cp</th>\n",
              "      <th>trestbps</th>\n",
              "      <th>chol</th>\n",
              "      <th>fbs</th>\n",
              "      <th>restecg</th>\n",
              "      <th>thalach</th>\n",
              "      <th>exang</th>\n",
              "      <th>oldpeak</th>\n",
              "      <th>slope</th>\n",
              "      <th>ca</th>\n",
              "      <th>thal</th>\n",
              "      <th>target</th>\n",
              "    </tr>\n",
              "  </thead>\n",
              "  <tbody>\n",
              "    <tr>\n",
              "      <th>count</th>\n",
              "      <td>282.000000</td>\n",
              "      <td>282.000000</td>\n",
              "      <td>282.000000</td>\n",
              "      <td>282.000000</td>\n",
              "      <td>282.000000</td>\n",
              "      <td>282.000000</td>\n",
              "      <td>282.000000</td>\n",
              "      <td>282.000000</td>\n",
              "      <td>282.000000</td>\n",
              "      <td>282.000000</td>\n",
              "      <td>282.000000</td>\n",
              "      <td>282.000000</td>\n",
              "      <td>282.000000</td>\n",
              "      <td>282.000000</td>\n",
              "    </tr>\n",
              "    <tr>\n",
              "      <th>mean</th>\n",
              "      <td>54.411348</td>\n",
              "      <td>0.677305</td>\n",
              "      <td>3.163121</td>\n",
              "      <td>131.563830</td>\n",
              "      <td>249.092199</td>\n",
              "      <td>0.148936</td>\n",
              "      <td>1.014184</td>\n",
              "      <td>149.765957</td>\n",
              "      <td>0.326241</td>\n",
              "      <td>1.026950</td>\n",
              "      <td>1.585106</td>\n",
              "      <td>0.666667</td>\n",
              "      <td>4.680851</td>\n",
              "      <td>0.907801</td>\n",
              "    </tr>\n",
              "    <tr>\n",
              "      <th>std</th>\n",
              "      <td>9.053083</td>\n",
              "      <td>0.468338</td>\n",
              "      <td>0.955405</td>\n",
              "      <td>17.757496</td>\n",
              "      <td>51.217546</td>\n",
              "      <td>0.356658</td>\n",
              "      <td>0.998118</td>\n",
              "      <td>22.923869</td>\n",
              "      <td>0.469670</td>\n",
              "      <td>1.138825</td>\n",
              "      <td>0.609700</td>\n",
              "      <td>0.933113</td>\n",
              "      <td>1.932377</td>\n",
              "      <td>1.224894</td>\n",
              "    </tr>\n",
              "    <tr>\n",
              "      <th>min</th>\n",
              "      <td>29.000000</td>\n",
              "      <td>0.000000</td>\n",
              "      <td>1.000000</td>\n",
              "      <td>94.000000</td>\n",
              "      <td>126.000000</td>\n",
              "      <td>0.000000</td>\n",
              "      <td>0.000000</td>\n",
              "      <td>71.000000</td>\n",
              "      <td>0.000000</td>\n",
              "      <td>0.000000</td>\n",
              "      <td>1.000000</td>\n",
              "      <td>0.000000</td>\n",
              "      <td>3.000000</td>\n",
              "      <td>0.000000</td>\n",
              "    </tr>\n",
              "    <tr>\n",
              "      <th>25%</th>\n",
              "      <td>48.000000</td>\n",
              "      <td>0.000000</td>\n",
              "      <td>3.000000</td>\n",
              "      <td>120.000000</td>\n",
              "      <td>213.000000</td>\n",
              "      <td>0.000000</td>\n",
              "      <td>0.000000</td>\n",
              "      <td>133.250000</td>\n",
              "      <td>0.000000</td>\n",
              "      <td>0.000000</td>\n",
              "      <td>1.000000</td>\n",
              "      <td>0.000000</td>\n",
              "      <td>3.000000</td>\n",
              "      <td>0.000000</td>\n",
              "    </tr>\n",
              "    <tr>\n",
              "      <th>50%</th>\n",
              "      <td>55.000000</td>\n",
              "      <td>1.000000</td>\n",
              "      <td>3.000000</td>\n",
              "      <td>130.000000</td>\n",
              "      <td>244.000000</td>\n",
              "      <td>0.000000</td>\n",
              "      <td>2.000000</td>\n",
              "      <td>153.500000</td>\n",
              "      <td>0.000000</td>\n",
              "      <td>0.800000</td>\n",
              "      <td>2.000000</td>\n",
              "      <td>0.000000</td>\n",
              "      <td>3.000000</td>\n",
              "      <td>0.000000</td>\n",
              "    </tr>\n",
              "    <tr>\n",
              "      <th>75%</th>\n",
              "      <td>61.000000</td>\n",
              "      <td>1.000000</td>\n",
              "      <td>4.000000</td>\n",
              "      <td>140.000000</td>\n",
              "      <td>277.000000</td>\n",
              "      <td>0.000000</td>\n",
              "      <td>2.000000</td>\n",
              "      <td>165.750000</td>\n",
              "      <td>1.000000</td>\n",
              "      <td>1.600000</td>\n",
              "      <td>2.000000</td>\n",
              "      <td>1.000000</td>\n",
              "      <td>7.000000</td>\n",
              "      <td>2.000000</td>\n",
              "    </tr>\n",
              "    <tr>\n",
              "      <th>max</th>\n",
              "      <td>77.000000</td>\n",
              "      <td>1.000000</td>\n",
              "      <td>4.000000</td>\n",
              "      <td>200.000000</td>\n",
              "      <td>564.000000</td>\n",
              "      <td>1.000000</td>\n",
              "      <td>2.000000</td>\n",
              "      <td>202.000000</td>\n",
              "      <td>1.000000</td>\n",
              "      <td>6.200000</td>\n",
              "      <td>3.000000</td>\n",
              "      <td>3.000000</td>\n",
              "      <td>7.000000</td>\n",
              "      <td>4.000000</td>\n",
              "    </tr>\n",
              "  </tbody>\n",
              "</table>\n",
              "</div>\n",
              "    <div class=\"colab-df-buttons\">\n",
              "\n",
              "  <div class=\"colab-df-container\">\n",
              "    <button class=\"colab-df-convert\" onclick=\"convertToInteractive('df-8cfcd56f-09c0-4c5b-8954-87592c32ca94')\"\n",
              "            title=\"Convert this dataframe to an interactive table.\"\n",
              "            style=\"display:none;\">\n",
              "\n",
              "  <svg xmlns=\"http://www.w3.org/2000/svg\" height=\"24px\" viewBox=\"0 -960 960 960\">\n",
              "    <path d=\"M120-120v-720h720v720H120Zm60-500h600v-160H180v160Zm220 220h160v-160H400v160Zm0 220h160v-160H400v160ZM180-400h160v-160H180v160Zm440 0h160v-160H620v160ZM180-180h160v-160H180v160Zm440 0h160v-160H620v160Z\"/>\n",
              "  </svg>\n",
              "    </button>\n",
              "\n",
              "  <style>\n",
              "    .colab-df-container {\n",
              "      display:flex;\n",
              "      gap: 12px;\n",
              "    }\n",
              "\n",
              "    .colab-df-convert {\n",
              "      background-color: #E8F0FE;\n",
              "      border: none;\n",
              "      border-radius: 50%;\n",
              "      cursor: pointer;\n",
              "      display: none;\n",
              "      fill: #1967D2;\n",
              "      height: 32px;\n",
              "      padding: 0 0 0 0;\n",
              "      width: 32px;\n",
              "    }\n",
              "\n",
              "    .colab-df-convert:hover {\n",
              "      background-color: #E2EBFA;\n",
              "      box-shadow: 0px 1px 2px rgba(60, 64, 67, 0.3), 0px 1px 3px 1px rgba(60, 64, 67, 0.15);\n",
              "      fill: #174EA6;\n",
              "    }\n",
              "\n",
              "    .colab-df-buttons div {\n",
              "      margin-bottom: 4px;\n",
              "    }\n",
              "\n",
              "    [theme=dark] .colab-df-convert {\n",
              "      background-color: #3B4455;\n",
              "      fill: #D2E3FC;\n",
              "    }\n",
              "\n",
              "    [theme=dark] .colab-df-convert:hover {\n",
              "      background-color: #434B5C;\n",
              "      box-shadow: 0px 1px 3px 1px rgba(0, 0, 0, 0.15);\n",
              "      filter: drop-shadow(0px 1px 2px rgba(0, 0, 0, 0.3));\n",
              "      fill: #FFFFFF;\n",
              "    }\n",
              "  </style>\n",
              "\n",
              "    <script>\n",
              "      const buttonEl =\n",
              "        document.querySelector('#df-8cfcd56f-09c0-4c5b-8954-87592c32ca94 button.colab-df-convert');\n",
              "      buttonEl.style.display =\n",
              "        google.colab.kernel.accessAllowed ? 'block' : 'none';\n",
              "\n",
              "      async function convertToInteractive(key) {\n",
              "        const element = document.querySelector('#df-8cfcd56f-09c0-4c5b-8954-87592c32ca94');\n",
              "        const dataTable =\n",
              "          await google.colab.kernel.invokeFunction('convertToInteractive',\n",
              "                                                    [key], {});\n",
              "        if (!dataTable) return;\n",
              "\n",
              "        const docLinkHtml = 'Like what you see? Visit the ' +\n",
              "          '<a target=\"_blank\" href=https://colab.research.google.com/notebooks/data_table.ipynb>data table notebook</a>'\n",
              "          + ' to learn more about interactive tables.';\n",
              "        element.innerHTML = '';\n",
              "        dataTable['output_type'] = 'display_data';\n",
              "        await google.colab.output.renderOutput(dataTable, element);\n",
              "        const docLink = document.createElement('div');\n",
              "        docLink.innerHTML = docLinkHtml;\n",
              "        element.appendChild(docLink);\n",
              "      }\n",
              "    </script>\n",
              "  </div>\n",
              "\n",
              "\n",
              "<div id=\"df-62de4add-4c8b-4f85-afca-a7d8816e4df3\">\n",
              "  <button class=\"colab-df-quickchart\" onclick=\"quickchart('df-62de4add-4c8b-4f85-afca-a7d8816e4df3')\"\n",
              "            title=\"Suggest charts\"\n",
              "            style=\"display:none;\">\n",
              "\n",
              "<svg xmlns=\"http://www.w3.org/2000/svg\" height=\"24px\"viewBox=\"0 0 24 24\"\n",
              "     width=\"24px\">\n",
              "    <g>\n",
              "        <path d=\"M19 3H5c-1.1 0-2 .9-2 2v14c0 1.1.9 2 2 2h14c1.1 0 2-.9 2-2V5c0-1.1-.9-2-2-2zM9 17H7v-7h2v7zm4 0h-2V7h2v10zm4 0h-2v-4h2v4z\"/>\n",
              "    </g>\n",
              "</svg>\n",
              "  </button>\n",
              "\n",
              "<style>\n",
              "  .colab-df-quickchart {\n",
              "      --bg-color: #E8F0FE;\n",
              "      --fill-color: #1967D2;\n",
              "      --hover-bg-color: #E2EBFA;\n",
              "      --hover-fill-color: #174EA6;\n",
              "      --disabled-fill-color: #AAA;\n",
              "      --disabled-bg-color: #DDD;\n",
              "  }\n",
              "\n",
              "  [theme=dark] .colab-df-quickchart {\n",
              "      --bg-color: #3B4455;\n",
              "      --fill-color: #D2E3FC;\n",
              "      --hover-bg-color: #434B5C;\n",
              "      --hover-fill-color: #FFFFFF;\n",
              "      --disabled-bg-color: #3B4455;\n",
              "      --disabled-fill-color: #666;\n",
              "  }\n",
              "\n",
              "  .colab-df-quickchart {\n",
              "    background-color: var(--bg-color);\n",
              "    border: none;\n",
              "    border-radius: 50%;\n",
              "    cursor: pointer;\n",
              "    display: none;\n",
              "    fill: var(--fill-color);\n",
              "    height: 32px;\n",
              "    padding: 0;\n",
              "    width: 32px;\n",
              "  }\n",
              "\n",
              "  .colab-df-quickchart:hover {\n",
              "    background-color: var(--hover-bg-color);\n",
              "    box-shadow: 0 1px 2px rgba(60, 64, 67, 0.3), 0 1px 3px 1px rgba(60, 64, 67, 0.15);\n",
              "    fill: var(--button-hover-fill-color);\n",
              "  }\n",
              "\n",
              "  .colab-df-quickchart-complete:disabled,\n",
              "  .colab-df-quickchart-complete:disabled:hover {\n",
              "    background-color: var(--disabled-bg-color);\n",
              "    fill: var(--disabled-fill-color);\n",
              "    box-shadow: none;\n",
              "  }\n",
              "\n",
              "  .colab-df-spinner {\n",
              "    border: 2px solid var(--fill-color);\n",
              "    border-color: transparent;\n",
              "    border-bottom-color: var(--fill-color);\n",
              "    animation:\n",
              "      spin 1s steps(1) infinite;\n",
              "  }\n",
              "\n",
              "  @keyframes spin {\n",
              "    0% {\n",
              "      border-color: transparent;\n",
              "      border-bottom-color: var(--fill-color);\n",
              "      border-left-color: var(--fill-color);\n",
              "    }\n",
              "    20% {\n",
              "      border-color: transparent;\n",
              "      border-left-color: var(--fill-color);\n",
              "      border-top-color: var(--fill-color);\n",
              "    }\n",
              "    30% {\n",
              "      border-color: transparent;\n",
              "      border-left-color: var(--fill-color);\n",
              "      border-top-color: var(--fill-color);\n",
              "      border-right-color: var(--fill-color);\n",
              "    }\n",
              "    40% {\n",
              "      border-color: transparent;\n",
              "      border-right-color: var(--fill-color);\n",
              "      border-top-color: var(--fill-color);\n",
              "    }\n",
              "    60% {\n",
              "      border-color: transparent;\n",
              "      border-right-color: var(--fill-color);\n",
              "    }\n",
              "    80% {\n",
              "      border-color: transparent;\n",
              "      border-right-color: var(--fill-color);\n",
              "      border-bottom-color: var(--fill-color);\n",
              "    }\n",
              "    90% {\n",
              "      border-color: transparent;\n",
              "      border-bottom-color: var(--fill-color);\n",
              "    }\n",
              "  }\n",
              "</style>\n",
              "\n",
              "  <script>\n",
              "    async function quickchart(key) {\n",
              "      const quickchartButtonEl =\n",
              "        document.querySelector('#' + key + ' button');\n",
              "      quickchartButtonEl.disabled = true;  // To prevent multiple clicks.\n",
              "      quickchartButtonEl.classList.add('colab-df-spinner');\n",
              "      try {\n",
              "        const charts = await google.colab.kernel.invokeFunction(\n",
              "            'suggestCharts', [key], {});\n",
              "      } catch (error) {\n",
              "        console.error('Error during call to suggestCharts:', error);\n",
              "      }\n",
              "      quickchartButtonEl.classList.remove('colab-df-spinner');\n",
              "      quickchartButtonEl.classList.add('colab-df-quickchart-complete');\n",
              "    }\n",
              "    (() => {\n",
              "      let quickchartButtonEl =\n",
              "        document.querySelector('#df-62de4add-4c8b-4f85-afca-a7d8816e4df3 button');\n",
              "      quickchartButtonEl.style.display =\n",
              "        google.colab.kernel.accessAllowed ? 'block' : 'none';\n",
              "    })();\n",
              "  </script>\n",
              "</div>\n",
              "    </div>\n",
              "  </div>\n"
            ]
          },
          "metadata": {},
          "execution_count": 48
        }
      ]
    },
    {
      "cell_type": "code",
      "source": [
        "# Due to gap between value of std and the other we should normalization to avoid bad performance on model\n",
        "from sklearn.preprocessing import MinMaxScaler\n",
        "\n",
        "scaler = MinMaxScaler()\n",
        "\n",
        "X_smote_normal = scaler.fit_transform(X_smote)\n",
        "\n",
        "len(X_smote_normal)"
      ],
      "metadata": {
        "colab": {
          "base_uri": "https://localhost:8080/"
        },
        "id": "16108KUwtQDX",
        "outputId": "4a53574e-07b2-4e97-9fa0-63a8440c31f5"
      },
      "execution_count": 51,
      "outputs": [
        {
          "output_type": "execute_result",
          "data": {
            "text/plain": [
              "785"
            ]
          },
          "metadata": {},
          "execution_count": 51
        }
      ]
    },
    {
      "cell_type": "code",
      "source": [
        "dfcek1 = pd.DataFrame(X_smote_normal)\n",
        "dfcek1.describe()"
      ],
      "metadata": {
        "colab": {
          "base_uri": "https://localhost:8080/",
          "height": 320
        },
        "id": "QTTooLpHtr7i",
        "outputId": "d6f91d1e-1b76-4a2b-cf79-9566d683cd83"
      },
      "execution_count": 52,
      "outputs": [
        {
          "output_type": "execute_result",
          "data": {
            "text/plain": [
              "               0           1           2           3           4           5   \\\n",
              "count  785.000000  785.000000  785.000000  785.000000  785.000000  785.000000   \n",
              "mean     0.559445    0.780664    0.811789    0.374596    0.285383    0.140162   \n",
              "std      0.168570    0.374983    0.283246    0.149340    0.111147    0.310030   \n",
              "min      0.000000    0.000000    0.000000    0.000000    0.000000    0.000000   \n",
              "25%      0.458333    0.659984    0.666667    0.264151    0.207870    0.000000   \n",
              "50%      0.583333    1.000000    1.000000    0.358491    0.280822    0.000000   \n",
              "75%      0.678864    1.000000    1.000000    0.469468    0.356164    0.000000   \n",
              "max      1.000000    1.000000    1.000000    1.000000    1.000000    1.000000   \n",
              "\n",
              "               6           7           8           9           10          11  \\\n",
              "count  785.000000  785.000000  785.000000  785.000000  785.000000  785.000000   \n",
              "mean     0.602946    0.542237    0.456058    0.238072    0.381666    0.349198   \n",
              "std      0.440893    0.161073    0.443026    0.180516    0.258547    0.323277   \n",
              "min      0.000000    0.000000    0.000000    0.000000    0.000000    0.000000   \n",
              "25%      0.000000    0.422710    0.000000    0.091628    0.097991    0.000000   \n",
              "50%      0.887086    0.543578    0.348039    0.225806    0.500000    0.333333   \n",
              "75%      1.000000    0.668935    1.000000    0.368408    0.500000    0.657261   \n",
              "max      1.000000    1.000000    1.000000    1.000000    1.000000    1.000000   \n",
              "\n",
              "               12  \n",
              "count  785.000000  \n",
              "mean     0.639917  \n",
              "std      0.423356  \n",
              "min      0.000000  \n",
              "25%      0.119594  \n",
              "50%      0.892559  \n",
              "75%      1.000000  \n",
              "max      1.000000  "
            ],
            "text/html": [
              "\n",
              "  <div id=\"df-2a7038b7-e536-4346-9ad4-d6a7b209e1e8\" class=\"colab-df-container\">\n",
              "    <div>\n",
              "<style scoped>\n",
              "    .dataframe tbody tr th:only-of-type {\n",
              "        vertical-align: middle;\n",
              "    }\n",
              "\n",
              "    .dataframe tbody tr th {\n",
              "        vertical-align: top;\n",
              "    }\n",
              "\n",
              "    .dataframe thead th {\n",
              "        text-align: right;\n",
              "    }\n",
              "</style>\n",
              "<table border=\"1\" class=\"dataframe\">\n",
              "  <thead>\n",
              "    <tr style=\"text-align: right;\">\n",
              "      <th></th>\n",
              "      <th>0</th>\n",
              "      <th>1</th>\n",
              "      <th>2</th>\n",
              "      <th>3</th>\n",
              "      <th>4</th>\n",
              "      <th>5</th>\n",
              "      <th>6</th>\n",
              "      <th>7</th>\n",
              "      <th>8</th>\n",
              "      <th>9</th>\n",
              "      <th>10</th>\n",
              "      <th>11</th>\n",
              "      <th>12</th>\n",
              "    </tr>\n",
              "  </thead>\n",
              "  <tbody>\n",
              "    <tr>\n",
              "      <th>count</th>\n",
              "      <td>785.000000</td>\n",
              "      <td>785.000000</td>\n",
              "      <td>785.000000</td>\n",
              "      <td>785.000000</td>\n",
              "      <td>785.000000</td>\n",
              "      <td>785.000000</td>\n",
              "      <td>785.000000</td>\n",
              "      <td>785.000000</td>\n",
              "      <td>785.000000</td>\n",
              "      <td>785.000000</td>\n",
              "      <td>785.000000</td>\n",
              "      <td>785.000000</td>\n",
              "      <td>785.000000</td>\n",
              "    </tr>\n",
              "    <tr>\n",
              "      <th>mean</th>\n",
              "      <td>0.559445</td>\n",
              "      <td>0.780664</td>\n",
              "      <td>0.811789</td>\n",
              "      <td>0.374596</td>\n",
              "      <td>0.285383</td>\n",
              "      <td>0.140162</td>\n",
              "      <td>0.602946</td>\n",
              "      <td>0.542237</td>\n",
              "      <td>0.456058</td>\n",
              "      <td>0.238072</td>\n",
              "      <td>0.381666</td>\n",
              "      <td>0.349198</td>\n",
              "      <td>0.639917</td>\n",
              "    </tr>\n",
              "    <tr>\n",
              "      <th>std</th>\n",
              "      <td>0.168570</td>\n",
              "      <td>0.374983</td>\n",
              "      <td>0.283246</td>\n",
              "      <td>0.149340</td>\n",
              "      <td>0.111147</td>\n",
              "      <td>0.310030</td>\n",
              "      <td>0.440893</td>\n",
              "      <td>0.161073</td>\n",
              "      <td>0.443026</td>\n",
              "      <td>0.180516</td>\n",
              "      <td>0.258547</td>\n",
              "      <td>0.323277</td>\n",
              "      <td>0.423356</td>\n",
              "    </tr>\n",
              "    <tr>\n",
              "      <th>min</th>\n",
              "      <td>0.000000</td>\n",
              "      <td>0.000000</td>\n",
              "      <td>0.000000</td>\n",
              "      <td>0.000000</td>\n",
              "      <td>0.000000</td>\n",
              "      <td>0.000000</td>\n",
              "      <td>0.000000</td>\n",
              "      <td>0.000000</td>\n",
              "      <td>0.000000</td>\n",
              "      <td>0.000000</td>\n",
              "      <td>0.000000</td>\n",
              "      <td>0.000000</td>\n",
              "      <td>0.000000</td>\n",
              "    </tr>\n",
              "    <tr>\n",
              "      <th>25%</th>\n",
              "      <td>0.458333</td>\n",
              "      <td>0.659984</td>\n",
              "      <td>0.666667</td>\n",
              "      <td>0.264151</td>\n",
              "      <td>0.207870</td>\n",
              "      <td>0.000000</td>\n",
              "      <td>0.000000</td>\n",
              "      <td>0.422710</td>\n",
              "      <td>0.000000</td>\n",
              "      <td>0.091628</td>\n",
              "      <td>0.097991</td>\n",
              "      <td>0.000000</td>\n",
              "      <td>0.119594</td>\n",
              "    </tr>\n",
              "    <tr>\n",
              "      <th>50%</th>\n",
              "      <td>0.583333</td>\n",
              "      <td>1.000000</td>\n",
              "      <td>1.000000</td>\n",
              "      <td>0.358491</td>\n",
              "      <td>0.280822</td>\n",
              "      <td>0.000000</td>\n",
              "      <td>0.887086</td>\n",
              "      <td>0.543578</td>\n",
              "      <td>0.348039</td>\n",
              "      <td>0.225806</td>\n",
              "      <td>0.500000</td>\n",
              "      <td>0.333333</td>\n",
              "      <td>0.892559</td>\n",
              "    </tr>\n",
              "    <tr>\n",
              "      <th>75%</th>\n",
              "      <td>0.678864</td>\n",
              "      <td>1.000000</td>\n",
              "      <td>1.000000</td>\n",
              "      <td>0.469468</td>\n",
              "      <td>0.356164</td>\n",
              "      <td>0.000000</td>\n",
              "      <td>1.000000</td>\n",
              "      <td>0.668935</td>\n",
              "      <td>1.000000</td>\n",
              "      <td>0.368408</td>\n",
              "      <td>0.500000</td>\n",
              "      <td>0.657261</td>\n",
              "      <td>1.000000</td>\n",
              "    </tr>\n",
              "    <tr>\n",
              "      <th>max</th>\n",
              "      <td>1.000000</td>\n",
              "      <td>1.000000</td>\n",
              "      <td>1.000000</td>\n",
              "      <td>1.000000</td>\n",
              "      <td>1.000000</td>\n",
              "      <td>1.000000</td>\n",
              "      <td>1.000000</td>\n",
              "      <td>1.000000</td>\n",
              "      <td>1.000000</td>\n",
              "      <td>1.000000</td>\n",
              "      <td>1.000000</td>\n",
              "      <td>1.000000</td>\n",
              "      <td>1.000000</td>\n",
              "    </tr>\n",
              "  </tbody>\n",
              "</table>\n",
              "</div>\n",
              "    <div class=\"colab-df-buttons\">\n",
              "\n",
              "  <div class=\"colab-df-container\">\n",
              "    <button class=\"colab-df-convert\" onclick=\"convertToInteractive('df-2a7038b7-e536-4346-9ad4-d6a7b209e1e8')\"\n",
              "            title=\"Convert this dataframe to an interactive table.\"\n",
              "            style=\"display:none;\">\n",
              "\n",
              "  <svg xmlns=\"http://www.w3.org/2000/svg\" height=\"24px\" viewBox=\"0 -960 960 960\">\n",
              "    <path d=\"M120-120v-720h720v720H120Zm60-500h600v-160H180v160Zm220 220h160v-160H400v160Zm0 220h160v-160H400v160ZM180-400h160v-160H180v160Zm440 0h160v-160H620v160ZM180-180h160v-160H180v160Zm440 0h160v-160H620v160Z\"/>\n",
              "  </svg>\n",
              "    </button>\n",
              "\n",
              "  <style>\n",
              "    .colab-df-container {\n",
              "      display:flex;\n",
              "      gap: 12px;\n",
              "    }\n",
              "\n",
              "    .colab-df-convert {\n",
              "      background-color: #E8F0FE;\n",
              "      border: none;\n",
              "      border-radius: 50%;\n",
              "      cursor: pointer;\n",
              "      display: none;\n",
              "      fill: #1967D2;\n",
              "      height: 32px;\n",
              "      padding: 0 0 0 0;\n",
              "      width: 32px;\n",
              "    }\n",
              "\n",
              "    .colab-df-convert:hover {\n",
              "      background-color: #E2EBFA;\n",
              "      box-shadow: 0px 1px 2px rgba(60, 64, 67, 0.3), 0px 1px 3px 1px rgba(60, 64, 67, 0.15);\n",
              "      fill: #174EA6;\n",
              "    }\n",
              "\n",
              "    .colab-df-buttons div {\n",
              "      margin-bottom: 4px;\n",
              "    }\n",
              "\n",
              "    [theme=dark] .colab-df-convert {\n",
              "      background-color: #3B4455;\n",
              "      fill: #D2E3FC;\n",
              "    }\n",
              "\n",
              "    [theme=dark] .colab-df-convert:hover {\n",
              "      background-color: #434B5C;\n",
              "      box-shadow: 0px 1px 3px 1px rgba(0, 0, 0, 0.15);\n",
              "      filter: drop-shadow(0px 1px 2px rgba(0, 0, 0, 0.3));\n",
              "      fill: #FFFFFF;\n",
              "    }\n",
              "  </style>\n",
              "\n",
              "    <script>\n",
              "      const buttonEl =\n",
              "        document.querySelector('#df-2a7038b7-e536-4346-9ad4-d6a7b209e1e8 button.colab-df-convert');\n",
              "      buttonEl.style.display =\n",
              "        google.colab.kernel.accessAllowed ? 'block' : 'none';\n",
              "\n",
              "      async function convertToInteractive(key) {\n",
              "        const element = document.querySelector('#df-2a7038b7-e536-4346-9ad4-d6a7b209e1e8');\n",
              "        const dataTable =\n",
              "          await google.colab.kernel.invokeFunction('convertToInteractive',\n",
              "                                                    [key], {});\n",
              "        if (!dataTable) return;\n",
              "\n",
              "        const docLinkHtml = 'Like what you see? Visit the ' +\n",
              "          '<a target=\"_blank\" href=https://colab.research.google.com/notebooks/data_table.ipynb>data table notebook</a>'\n",
              "          + ' to learn more about interactive tables.';\n",
              "        element.innerHTML = '';\n",
              "        dataTable['output_type'] = 'display_data';\n",
              "        await google.colab.output.renderOutput(dataTable, element);\n",
              "        const docLink = document.createElement('div');\n",
              "        docLink.innerHTML = docLinkHtml;\n",
              "        element.appendChild(docLink);\n",
              "      }\n",
              "    </script>\n",
              "  </div>\n",
              "\n",
              "\n",
              "<div id=\"df-3bb45e91-03b8-4ea4-bcba-2c11811c04ba\">\n",
              "  <button class=\"colab-df-quickchart\" onclick=\"quickchart('df-3bb45e91-03b8-4ea4-bcba-2c11811c04ba')\"\n",
              "            title=\"Suggest charts\"\n",
              "            style=\"display:none;\">\n",
              "\n",
              "<svg xmlns=\"http://www.w3.org/2000/svg\" height=\"24px\"viewBox=\"0 0 24 24\"\n",
              "     width=\"24px\">\n",
              "    <g>\n",
              "        <path d=\"M19 3H5c-1.1 0-2 .9-2 2v14c0 1.1.9 2 2 2h14c1.1 0 2-.9 2-2V5c0-1.1-.9-2-2-2zM9 17H7v-7h2v7zm4 0h-2V7h2v10zm4 0h-2v-4h2v4z\"/>\n",
              "    </g>\n",
              "</svg>\n",
              "  </button>\n",
              "\n",
              "<style>\n",
              "  .colab-df-quickchart {\n",
              "      --bg-color: #E8F0FE;\n",
              "      --fill-color: #1967D2;\n",
              "      --hover-bg-color: #E2EBFA;\n",
              "      --hover-fill-color: #174EA6;\n",
              "      --disabled-fill-color: #AAA;\n",
              "      --disabled-bg-color: #DDD;\n",
              "  }\n",
              "\n",
              "  [theme=dark] .colab-df-quickchart {\n",
              "      --bg-color: #3B4455;\n",
              "      --fill-color: #D2E3FC;\n",
              "      --hover-bg-color: #434B5C;\n",
              "      --hover-fill-color: #FFFFFF;\n",
              "      --disabled-bg-color: #3B4455;\n",
              "      --disabled-fill-color: #666;\n",
              "  }\n",
              "\n",
              "  .colab-df-quickchart {\n",
              "    background-color: var(--bg-color);\n",
              "    border: none;\n",
              "    border-radius: 50%;\n",
              "    cursor: pointer;\n",
              "    display: none;\n",
              "    fill: var(--fill-color);\n",
              "    height: 32px;\n",
              "    padding: 0;\n",
              "    width: 32px;\n",
              "  }\n",
              "\n",
              "  .colab-df-quickchart:hover {\n",
              "    background-color: var(--hover-bg-color);\n",
              "    box-shadow: 0 1px 2px rgba(60, 64, 67, 0.3), 0 1px 3px 1px rgba(60, 64, 67, 0.15);\n",
              "    fill: var(--button-hover-fill-color);\n",
              "  }\n",
              "\n",
              "  .colab-df-quickchart-complete:disabled,\n",
              "  .colab-df-quickchart-complete:disabled:hover {\n",
              "    background-color: var(--disabled-bg-color);\n",
              "    fill: var(--disabled-fill-color);\n",
              "    box-shadow: none;\n",
              "  }\n",
              "\n",
              "  .colab-df-spinner {\n",
              "    border: 2px solid var(--fill-color);\n",
              "    border-color: transparent;\n",
              "    border-bottom-color: var(--fill-color);\n",
              "    animation:\n",
              "      spin 1s steps(1) infinite;\n",
              "  }\n",
              "\n",
              "  @keyframes spin {\n",
              "    0% {\n",
              "      border-color: transparent;\n",
              "      border-bottom-color: var(--fill-color);\n",
              "      border-left-color: var(--fill-color);\n",
              "    }\n",
              "    20% {\n",
              "      border-color: transparent;\n",
              "      border-left-color: var(--fill-color);\n",
              "      border-top-color: var(--fill-color);\n",
              "    }\n",
              "    30% {\n",
              "      border-color: transparent;\n",
              "      border-left-color: var(--fill-color);\n",
              "      border-top-color: var(--fill-color);\n",
              "      border-right-color: var(--fill-color);\n",
              "    }\n",
              "    40% {\n",
              "      border-color: transparent;\n",
              "      border-right-color: var(--fill-color);\n",
              "      border-top-color: var(--fill-color);\n",
              "    }\n",
              "    60% {\n",
              "      border-color: transparent;\n",
              "      border-right-color: var(--fill-color);\n",
              "    }\n",
              "    80% {\n",
              "      border-color: transparent;\n",
              "      border-right-color: var(--fill-color);\n",
              "      border-bottom-color: var(--fill-color);\n",
              "    }\n",
              "    90% {\n",
              "      border-color: transparent;\n",
              "      border-bottom-color: var(--fill-color);\n",
              "    }\n",
              "  }\n",
              "</style>\n",
              "\n",
              "  <script>\n",
              "    async function quickchart(key) {\n",
              "      const quickchartButtonEl =\n",
              "        document.querySelector('#' + key + ' button');\n",
              "      quickchartButtonEl.disabled = true;  // To prevent multiple clicks.\n",
              "      quickchartButtonEl.classList.add('colab-df-spinner');\n",
              "      try {\n",
              "        const charts = await google.colab.kernel.invokeFunction(\n",
              "            'suggestCharts', [key], {});\n",
              "      } catch (error) {\n",
              "        console.error('Error during call to suggestCharts:', error);\n",
              "      }\n",
              "      quickchartButtonEl.classList.remove('colab-df-spinner');\n",
              "      quickchartButtonEl.classList.add('colab-df-quickchart-complete');\n",
              "    }\n",
              "    (() => {\n",
              "      let quickchartButtonEl =\n",
              "        document.querySelector('#df-3bb45e91-03b8-4ea4-bcba-2c11811c04ba button');\n",
              "      quickchartButtonEl.style.display =\n",
              "        google.colab.kernel.accessAllowed ? 'block' : 'none';\n",
              "    })();\n",
              "  </script>\n",
              "</div>\n",
              "    </div>\n",
              "  </div>\n"
            ]
          },
          "metadata": {},
          "execution_count": 52
        }
      ]
    },
    {
      "cell_type": "markdown",
      "source": [
        "### 7) Model\n",
        "Model algoritma yang digunakan pada penelitian ini yakni XGBoost, KNN, dan Random Forest. Dikarenakan studi kasus merupakan permaslahan klasifikasi sehingga ketiga algoritma ini diharapkan dapat menghasilkan performa yang terbaik"
      ],
      "metadata": {
        "id": "UpFWu-c-uB5e"
      }
    },
    {
      "cell_type": "code",
      "source": [
        "from sklearn.model_selection import train_test_split\n",
        "\n",
        "# membagi fitur dan target menjadi data train dan test (untuk yang oversample saja)\n",
        "X_train, X_test, y_train, y_test = train_test_split(X_smote, y_smote, test_size=0.2, random_state=42,stratify=y_smote)\n",
        "\n",
        "# membagi fitur dan target menjadi data train dan test (untuk yang oversample + normalization)\n",
        "X_train_normal, X_test_normal, y_train_normal, y_test_normal = train_test_split(X_smote_normal, y_smote,\n",
        "                                                                                test_size=0.2, random_state=42, stratify=y_smote)"
      ],
      "metadata": {
        "id": "NyyHZqoJuDWZ"
      },
      "execution_count": 53,
      "outputs": []
    },
    {
      "cell_type": "code",
      "source": [
        "from sklearn.metrics import accuracy_score,recall_score,f1_score,precision_score,confusion_matrix,precision_score\n",
        "\n",
        "def evaluation(Y_test,Y_pred):\n",
        "    acc = accuracy_score(Y_test,Y_pred)\n",
        "    rcl = recall_score(Y_test,Y_pred,average = 'weighted')\n",
        "    f1 = f1_score(Y_test,Y_pred,average = 'weighted')\n",
        "    ps = precision_score(Y_test,Y_pred,average = 'weighted')\n",
        "\n",
        "    metric_dict={'accuracy': round(acc,3),\n",
        "                'recall': round(rcl,3),\n",
        "                'F1 score': round(f1,3),\n",
        "                'Precision score': round(ps,3)\n",
        "                }\n",
        "\n",
        "    return print(metric_dict)"
      ],
      "metadata": {
        "id": "b0nGxvGIvHCk"
      },
      "execution_count": 54,
      "outputs": []
    },
    {
      "cell_type": "markdown",
      "source": [
        "Oversample Testing"
      ],
      "metadata": {
        "id": "W2Vad2yjvz0t"
      }
    },
    {
      "cell_type": "code",
      "source": [
        "from sklearn.ensemble import RandomForestClassifier\n",
        "from sklearn.neighbors import KNeighborsClassifier\n",
        "from xgboost import XGBClassifier\n",
        "from sklearn.metrics import classification_report\n",
        "\n",
        "knn_model = KNeighborsClassifier(n_neighbors = 3)\n",
        "knn_model.fit(X_train, y_train)"
      ],
      "metadata": {
        "colab": {
          "base_uri": "https://localhost:8080/",
          "height": 75
        },
        "id": "BSRhsuFtvV65",
        "outputId": "5476ac15-1aca-4a0d-d16c-f4983c28d624"
      },
      "execution_count": 56,
      "outputs": [
        {
          "output_type": "execute_result",
          "data": {
            "text/plain": [
              "KNeighborsClassifier(n_neighbors=3)"
            ],
            "text/html": [
              "<style>#sk-container-id-1 {color: black;background-color: white;}#sk-container-id-1 pre{padding: 0;}#sk-container-id-1 div.sk-toggleable {background-color: white;}#sk-container-id-1 label.sk-toggleable__label {cursor: pointer;display: block;width: 100%;margin-bottom: 0;padding: 0.3em;box-sizing: border-box;text-align: center;}#sk-container-id-1 label.sk-toggleable__label-arrow:before {content: \"▸\";float: left;margin-right: 0.25em;color: #696969;}#sk-container-id-1 label.sk-toggleable__label-arrow:hover:before {color: black;}#sk-container-id-1 div.sk-estimator:hover label.sk-toggleable__label-arrow:before {color: black;}#sk-container-id-1 div.sk-toggleable__content {max-height: 0;max-width: 0;overflow: hidden;text-align: left;background-color: #f0f8ff;}#sk-container-id-1 div.sk-toggleable__content pre {margin: 0.2em;color: black;border-radius: 0.25em;background-color: #f0f8ff;}#sk-container-id-1 input.sk-toggleable__control:checked~div.sk-toggleable__content {max-height: 200px;max-width: 100%;overflow: auto;}#sk-container-id-1 input.sk-toggleable__control:checked~label.sk-toggleable__label-arrow:before {content: \"▾\";}#sk-container-id-1 div.sk-estimator input.sk-toggleable__control:checked~label.sk-toggleable__label {background-color: #d4ebff;}#sk-container-id-1 div.sk-label input.sk-toggleable__control:checked~label.sk-toggleable__label {background-color: #d4ebff;}#sk-container-id-1 input.sk-hidden--visually {border: 0;clip: rect(1px 1px 1px 1px);clip: rect(1px, 1px, 1px, 1px);height: 1px;margin: -1px;overflow: hidden;padding: 0;position: absolute;width: 1px;}#sk-container-id-1 div.sk-estimator {font-family: monospace;background-color: #f0f8ff;border: 1px dotted black;border-radius: 0.25em;box-sizing: border-box;margin-bottom: 0.5em;}#sk-container-id-1 div.sk-estimator:hover {background-color: #d4ebff;}#sk-container-id-1 div.sk-parallel-item::after {content: \"\";width: 100%;border-bottom: 1px solid gray;flex-grow: 1;}#sk-container-id-1 div.sk-label:hover label.sk-toggleable__label {background-color: #d4ebff;}#sk-container-id-1 div.sk-serial::before {content: \"\";position: absolute;border-left: 1px solid gray;box-sizing: border-box;top: 0;bottom: 0;left: 50%;z-index: 0;}#sk-container-id-1 div.sk-serial {display: flex;flex-direction: column;align-items: center;background-color: white;padding-right: 0.2em;padding-left: 0.2em;position: relative;}#sk-container-id-1 div.sk-item {position: relative;z-index: 1;}#sk-container-id-1 div.sk-parallel {display: flex;align-items: stretch;justify-content: center;background-color: white;position: relative;}#sk-container-id-1 div.sk-item::before, #sk-container-id-1 div.sk-parallel-item::before {content: \"\";position: absolute;border-left: 1px solid gray;box-sizing: border-box;top: 0;bottom: 0;left: 50%;z-index: -1;}#sk-container-id-1 div.sk-parallel-item {display: flex;flex-direction: column;z-index: 1;position: relative;background-color: white;}#sk-container-id-1 div.sk-parallel-item:first-child::after {align-self: flex-end;width: 50%;}#sk-container-id-1 div.sk-parallel-item:last-child::after {align-self: flex-start;width: 50%;}#sk-container-id-1 div.sk-parallel-item:only-child::after {width: 0;}#sk-container-id-1 div.sk-dashed-wrapped {border: 1px dashed gray;margin: 0 0.4em 0.5em 0.4em;box-sizing: border-box;padding-bottom: 0.4em;background-color: white;}#sk-container-id-1 div.sk-label label {font-family: monospace;font-weight: bold;display: inline-block;line-height: 1.2em;}#sk-container-id-1 div.sk-label-container {text-align: center;}#sk-container-id-1 div.sk-container {/* jupyter's `normalize.less` sets `[hidden] { display: none; }` but bootstrap.min.css set `[hidden] { display: none !important; }` so we also need the `!important` here to be able to override the default hidden behavior on the sphinx rendered scikit-learn.org. See: https://github.com/scikit-learn/scikit-learn/issues/21755 */display: inline-block !important;position: relative;}#sk-container-id-1 div.sk-text-repr-fallback {display: none;}</style><div id=\"sk-container-id-1\" class=\"sk-top-container\"><div class=\"sk-text-repr-fallback\"><pre>KNeighborsClassifier(n_neighbors=3)</pre><b>In a Jupyter environment, please rerun this cell to show the HTML representation or trust the notebook. <br />On GitHub, the HTML representation is unable to render, please try loading this page with nbviewer.org.</b></div><div class=\"sk-container\" hidden><div class=\"sk-item\"><div class=\"sk-estimator sk-toggleable\"><input class=\"sk-toggleable__control sk-hidden--visually\" id=\"sk-estimator-id-1\" type=\"checkbox\" checked><label for=\"sk-estimator-id-1\" class=\"sk-toggleable__label sk-toggleable__label-arrow\">KNeighborsClassifier</label><div class=\"sk-toggleable__content\"><pre>KNeighborsClassifier(n_neighbors=3)</pre></div></div></div></div></div>"
            ]
          },
          "metadata": {},
          "execution_count": 56
        }
      ]
    },
    {
      "cell_type": "code",
      "source": [
        "y_pred_knn = knn_model.predict(X_test)\n",
        "\n",
        "# Evaluate the KNN model\n",
        "print(\"K-Nearest Neighbors (KNN) Model:\")\n",
        "accuracy_knn_smote = round(accuracy_score(y_test,y_pred_knn),3)\n",
        "print(\"Accuracy:\", accuracy_knn_smote)\n",
        "print(\"Classification Report:\")\n",
        "print(classification_report(y_test, y_pred_knn))"
      ],
      "metadata": {
        "colab": {
          "base_uri": "https://localhost:8080/"
        },
        "id": "5bBILAdsvpqr",
        "outputId": "875fa1e0-feb3-4ad8-bafe-9cf984179959"
      },
      "execution_count": 57,
      "outputs": [
        {
          "output_type": "stream",
          "name": "stdout",
          "text": [
            "K-Nearest Neighbors (KNN) Model:\n",
            "Accuracy: 0.701\n",
            "Classification Report:\n",
            "              precision    recall  f1-score   support\n",
            "\n",
            "         0.0       0.56      0.56      0.56        32\n",
            "         1.0       0.61      0.74      0.67        31\n",
            "         2.0       0.79      0.84      0.81        31\n",
            "         3.0       0.76      0.69      0.72        32\n",
            "         4.0       0.84      0.68      0.75        31\n",
            "\n",
            "    accuracy                           0.70       157\n",
            "   macro avg       0.71      0.70      0.70       157\n",
            "weighted avg       0.71      0.70      0.70       157\n",
            "\n"
          ]
        }
      ]
    },
    {
      "cell_type": "code",
      "source": [
        "evaluation(y_test,y_pred_knn)"
      ],
      "metadata": {
        "colab": {
          "base_uri": "https://localhost:8080/"
        },
        "id": "6m1pTGWvv6Sw",
        "outputId": "dd083cc6-c4dc-4d2a-8c1c-2e181f4a7b7c"
      },
      "execution_count": 58,
      "outputs": [
        {
          "output_type": "stream",
          "name": "stdout",
          "text": [
            "{'accuracy': 0.701, 'recall': 0.701, 'F1 score': 0.702, 'Precision score': 0.71}\n"
          ]
        }
      ]
    },
    {
      "cell_type": "code",
      "source": [
        "# Confusion matrix pada knn\n",
        "cm = confusion_matrix(y_test, y_pred_knn)\n",
        "plt.figure(figsize=(8, 6))\n",
        "sns.heatmap(cm, annot=True, fmt=\"d\", cmap=\"Blues\")\n",
        "plt.title('Confusion Matrix')\n",
        "plt.xlabel('True')\n",
        "plt.ylabel('Predict')\n",
        "plt.show()"
      ],
      "metadata": {
        "colab": {
          "base_uri": "https://localhost:8080/",
          "height": 564
        },
        "id": "JNivOLcSv9Tu",
        "outputId": "524d052b-8981-4ad8-db2c-08d55b9aa348"
      },
      "execution_count": 59,
      "outputs": [
        {
          "output_type": "display_data",
          "data": {
            "text/plain": [
              "<Figure size 800x600 with 2 Axes>"
            ],
            "image/png": "[encoded data removed]"
          },
          "metadata": {}
        }
      ]
    },
    {
      "cell_type": "code",
      "source": [
        "# Random Forest\n",
        "rf_model = RandomForestClassifier(n_estimators=100, random_state=42)\n",
        "rf_model.fit(X_train, y_train)\n",
        "y_pred_rf = rf_model.predict(X_test)\n",
        "\n",
        "# Evaluate the Random Forest model\n",
        "print(\"\\nRandom Forest Model:\")\n",
        "accuracy_rf_smote = round(accuracy_score(y_test, y_pred_rf),3)\n",
        "print(\"Accuracy:\",accuracy_rf_smote)\n",
        "print(\"Classification Report:\")\n",
        "print(classification_report(y_test, y_pred_rf))"
      ],
      "metadata": {
        "colab": {
          "base_uri": "https://localhost:8080/"
        },
        "id": "1A5lRgE4wBS6",
        "outputId": "e41ad0a9-f494-4826-ec85-206e3c9446f6"
      },
      "execution_count": 60,
      "outputs": [
        {
          "output_type": "stream",
          "name": "stdout",
          "text": [
            "\n",
            "Random Forest Model:\n",
            "Accuracy: 0.949\n",
            "Classification Report:\n",
            "              precision    recall  f1-score   support\n",
            "\n",
            "         0.0       0.89      0.97      0.93        32\n",
            "         1.0       1.00      0.87      0.93        31\n",
            "         2.0       0.91      0.94      0.92        31\n",
            "         3.0       0.97      0.97      0.97        32\n",
            "         4.0       1.00      1.00      1.00        31\n",
            "\n",
            "    accuracy                           0.95       157\n",
            "   macro avg       0.95      0.95      0.95       157\n",
            "weighted avg       0.95      0.95      0.95       157\n",
            "\n"
          ]
        }
      ]
    },
    {
      "cell_type": "code",
      "source": [
        "evaluation(y_test,y_pred_rf)"
      ],
      "metadata": {
        "colab": {
          "base_uri": "https://localhost:8080/"
        },
        "id": "R3snjBXgwEyx",
        "outputId": "4f395bf1-8813-40fb-aa7e-9009216247ed"
      },
      "execution_count": 61,
      "outputs": [
        {
          "output_type": "stream",
          "name": "stdout",
          "text": [
            "{'accuracy': 0.949, 'recall': 0.949, 'F1 score': 0.949, 'Precision score': 0.952}\n"
          ]
        }
      ]
    },
    {
      "cell_type": "code",
      "source": [
        "# Confusion Matrix Random Forest\n",
        "cm = confusion_matrix(y_test, y_pred_rf)\n",
        "plt.figure(figsize=(8, 6))\n",
        "sns.heatmap(cm, annot=True, fmt=\"d\", cmap=\"Blues\")\n",
        "plt.title('Confusion Matrix')\n",
        "plt.xlabel('True')\n",
        "plt.ylabel('Predict')\n",
        "plt.show()"
      ],
      "metadata": {
        "colab": {
          "base_uri": "https://localhost:8080/",
          "height": 564
        },
        "id": "_J1KPpgewG03",
        "outputId": "a2d1f272-7214-42a2-a4d7-47de8781e03f"
      },
      "execution_count": 62,
      "outputs": [
        {
          "output_type": "display_data",
          "data": {
            "text/plain": [
              "<Figure size 800x600 with 2 Axes>"
            ],
            "image/png": "[encoded data removed]"
          },
          "metadata": {}
        }
      ]
    },
    {
      "cell_type": "code",
      "source": [
        "# XGBoost\n",
        "xgb_model = XGBClassifier(learning_rate=0.1, n_estimators=100, random_state=42)\n",
        "xgb_model.fit(X_train, y_train)"
      ],
      "metadata": {
        "colab": {
          "base_uri": "https://localhost:8080/",
          "height": 248
        },
        "id": "ncB_U48JwMpW",
        "outputId": "c88e322e-da70-4659-b454-5a502b165f7f"
      },
      "execution_count": 63,
      "outputs": [
        {
          "output_type": "execute_result",
          "data": {
            "text/plain": [
              "XGBClassifier(base_score=None, booster=None, callbacks=None,\n",
              "              colsample_bylevel=None, colsample_bynode=None,\n",
              "              colsample_bytree=None, device=None, early_stopping_rounds=None,\n",
              "              enable_categorical=False, eval_metric=None, feature_types=None,\n",
              "              gamma=None, grow_policy=None, importance_type=None,\n",
              "              interaction_constraints=None, learning_rate=0.1, max_bin=None,\n",
              "              max_cat_threshold=None, max_cat_to_onehot=None,\n",
              "              max_delta_step=None, max_depth=None, max_leaves=None,\n",
              "              min_child_weight=None, missing=nan, monotone_constraints=None,\n",
              "              multi_strategy=None, n_estimators=100, n_jobs=None,\n",
              "              num_parallel_tree=None, objective='multi:softprob', ...)"
            ],
            "text/html": [
              "<style>#sk-container-id-2 {color: black;background-color: white;}#sk-container-id-2 pre{padding: 0;}#sk-container-id-2 div.sk-toggleable {background-color: white;}#sk-container-id-2 label.sk-toggleable__label {cursor: pointer;display: block;width: 100%;margin-bottom: 0;padding: 0.3em;box-sizing: border-box;text-align: center;}#sk-container-id-2 label.sk-toggleable__label-arrow:before {content: \"▸\";float: left;margin-right: 0.25em;color: #696969;}#sk-container-id-2 label.sk-toggleable__label-arrow:hover:before {color: black;}#sk-container-id-2 div.sk-estimator:hover label.sk-toggleable__label-arrow:before {color: black;}#sk-container-id-2 div.sk-toggleable__content {max-height: 0;max-width: 0;overflow: hidden;text-align: left;background-color: #f0f8ff;}#sk-container-id-2 div.sk-toggleable__content pre {margin: 0.2em;color: black;border-radius: 0.25em;background-color: #f0f8ff;}#sk-container-id-2 input.sk-toggleable__control:checked~div.sk-toggleable__content {max-height: 200px;max-width: 100%;overflow: auto;}#sk-container-id-2 input.sk-toggleable__control:checked~label.sk-toggleable__label-arrow:before {content: \"▾\";}#sk-container-id-2 div.sk-estimator input.sk-toggleable__control:checked~label.sk-toggleable__label {background-color: #d4ebff;}#sk-container-id-2 div.sk-label input.sk-toggleable__control:checked~label.sk-toggleable__label {background-color: #d4ebff;}#sk-container-id-2 input.sk-hidden--visually {border: 0;clip: rect(1px 1px 1px 1px);clip: rect(1px, 1px, 1px, 1px);height: 1px;margin: -1px;overflow: hidden;padding: 0;position: absolute;width: 1px;}#sk-container-id-2 div.sk-estimator {font-family: monospace;background-color: #f0f8ff;border: 1px dotted black;border-radius: 0.25em;box-sizing: border-box;margin-bottom: 0.5em;}#sk-container-id-2 div.sk-estimator:hover {background-color: #d4ebff;}#sk-container-id-2 div.sk-parallel-item::after {content: \"\";width: 100%;border-bottom: 1px solid gray;flex-grow: 1;}#sk-container-id-2 div.sk-label:hover label.sk-toggleable__label {background-color: #d4ebff;}#sk-container-id-2 div.sk-serial::before {content: \"\";position: absolute;border-left: 1px solid gray;box-sizing: border-box;top: 0;bottom: 0;left: 50%;z-index: 0;}#sk-container-id-2 div.sk-serial {display: flex;flex-direction: column;align-items: center;background-color: white;padding-right: 0.2em;padding-left: 0.2em;position: relative;}#sk-container-id-2 div.sk-item {position: relative;z-index: 1;}#sk-container-id-2 div.sk-parallel {display: flex;align-items: stretch;justify-content: center;background-color: white;position: relative;}#sk-container-id-2 div.sk-item::before, #sk-container-id-2 div.sk-parallel-item::before {content: \"\";position: absolute;border-left: 1px solid gray;box-sizing: border-box;top: 0;bottom: 0;left: 50%;z-index: -1;}#sk-container-id-2 div.sk-parallel-item {display: flex;flex-direction: column;z-index: 1;position: relative;background-color: white;}#sk-container-id-2 div.sk-parallel-item:first-child::after {align-self: flex-end;width: 50%;}#sk-container-id-2 div.sk-parallel-item:last-child::after {align-self: flex-start;width: 50%;}#sk-container-id-2 div.sk-parallel-item:only-child::after {width: 0;}#sk-container-id-2 div.sk-dashed-wrapped {border: 1px dashed gray;margin: 0 0.4em 0.5em 0.4em;box-sizing: border-box;padding-bottom: 0.4em;background-color: white;}#sk-container-id-2 div.sk-label label {font-family: monospace;font-weight: bold;display: inline-block;line-height: 1.2em;}#sk-container-id-2 div.sk-label-container {text-align: center;}#sk-container-id-2 div.sk-container {/* jupyter's `normalize.less` sets `[hidden] { display: none; }` but bootstrap.min.css set `[hidden] { display: none !important; }` so we also need the `!important` here to be able to override the default hidden behavior on the sphinx rendered scikit-learn.org. See: https://github.com/scikit-learn/scikit-learn/issues/21755 */display: inline-block !important;position: relative;}#sk-container-id-2 div.sk-text-repr-fallback {display: none;}</style><div id=\"sk-container-id-2\" class=\"sk-top-container\"><div class=\"sk-text-repr-fallback\"><pre>XGBClassifier(base_score=None, booster=None, callbacks=None,\n",
              "              colsample_bylevel=None, colsample_bynode=None,\n",
              "              colsample_bytree=None, device=None, early_stopping_rounds=None,\n",
              "              enable_categorical=False, eval_metric=None, feature_types=None,\n",
              "              gamma=None, grow_policy=None, importance_type=None,\n",
              "              interaction_constraints=None, learning_rate=0.1, max_bin=None,\n",
              "              max_cat_threshold=None, max_cat_to_onehot=None,\n",
              "              max_delta_step=None, max_depth=None, max_leaves=None,\n",
              "              min_child_weight=None, missing=nan, monotone_constraints=None,\n",
              "              multi_strategy=None, n_estimators=100, n_jobs=None,\n",
              "              num_parallel_tree=None, objective=&#x27;multi:softprob&#x27;, ...)</pre><b>In a Jupyter environment, please rerun this cell to show the HTML representation or trust the notebook. <br />On GitHub, the HTML representation is unable to render, please try loading this page with nbviewer.org.</b></div><div class=\"sk-container\" hidden><div class=\"sk-item\"><div class=\"sk-estimator sk-toggleable\"><input class=\"sk-toggleable__control sk-hidden--visually\" id=\"sk-estimator-id-2\" type=\"checkbox\" checked><label for=\"sk-estimator-id-2\" class=\"sk-toggleable__label sk-toggleable__label-arrow\">XGBClassifier</label><div class=\"sk-toggleable__content\"><pre>XGBClassifier(base_score=None, booster=None, callbacks=None,\n",
              "              colsample_bylevel=None, colsample_bynode=None,\n",
              "              colsample_bytree=None, device=None, early_stopping_rounds=None,\n",
              "              enable_categorical=False, eval_metric=None, feature_types=None,\n",
              "              gamma=None, grow_policy=None, importance_type=None,\n",
              "              interaction_constraints=None, learning_rate=0.1, max_bin=None,\n",
              "              max_cat_threshold=None, max_cat_to_onehot=None,\n",
              "              max_delta_step=None, max_depth=None, max_leaves=None,\n",
              "              min_child_weight=None, missing=nan, monotone_constraints=None,\n",
              "              multi_strategy=None, n_estimators=100, n_jobs=None,\n",
              "              num_parallel_tree=None, objective=&#x27;multi:softprob&#x27;, ...)</pre></div></div></div></div></div>"
            ]
          },
          "metadata": {},
          "execution_count": 63
        }
      ]
    },
    {
      "cell_type": "code",
      "source": [
        "y_pred_xgb = xgb_model.predict(X_test)\n",
        "\n",
        "# Evaluate the XGBoost model\n",
        "print(\"\\nXGBoost Model:\")\n",
        "accuracy_xgb_smote = round(accuracy_score(y_test, y_pred_xgb),3)\n",
        "print(\"Accuracy:\",accuracy_xgb_smote)\n",
        "print(\"Classification Report:\")\n",
        "print(classification_report(y_test, y_pred_xgb))"
      ],
      "metadata": {
        "colab": {
          "base_uri": "https://localhost:8080/"
        },
        "id": "R-3wirLLwQjY",
        "outputId": "52ce8cdf-71bf-4051-bc5c-121f1e7439c2"
      },
      "execution_count": 64,
      "outputs": [
        {
          "output_type": "stream",
          "name": "stdout",
          "text": [
            "\n",
            "XGBoost Model:\n",
            "Accuracy: 0.885\n",
            "Classification Report:\n",
            "              precision    recall  f1-score   support\n",
            "\n",
            "         0.0       0.83      0.94      0.88        32\n",
            "         1.0       0.89      0.77      0.83        31\n",
            "         2.0       0.87      0.87      0.87        31\n",
            "         3.0       0.88      0.88      0.88        32\n",
            "         4.0       0.97      0.97      0.97        31\n",
            "\n",
            "    accuracy                           0.89       157\n",
            "   macro avg       0.89      0.89      0.88       157\n",
            "weighted avg       0.89      0.89      0.88       157\n",
            "\n"
          ]
        }
      ]
    },
    {
      "cell_type": "code",
      "source": [
        "evaluation(y_test,y_pred_xgb)"
      ],
      "metadata": {
        "colab": {
          "base_uri": "https://localhost:8080/"
        },
        "id": "zsSb4o5LwRta",
        "outputId": "2abd204f-5372-40ca-beb0-b78bb24e8e93"
      },
      "execution_count": 65,
      "outputs": [
        {
          "output_type": "stream",
          "name": "stdout",
          "text": [
            "{'accuracy': 0.885, 'recall': 0.885, 'F1 score': 0.885, 'Precision score': 0.887}\n"
          ]
        }
      ]
    },
    {
      "cell_type": "code",
      "source": [
        "# Confusion Matrix on XGBoost\n",
        "cm = confusion_matrix(y_test, y_pred_xgb)\n",
        "plt.figure(figsize=(8, 6))\n",
        "sns.heatmap(cm, annot=True, fmt=\"d\", cmap=\"Blues\")\n",
        "plt.title('Confusion Matrix')\n",
        "plt.xlabel('True')\n",
        "plt.ylabel('Predict')\n",
        "plt.show()"
      ],
      "metadata": {
        "colab": {
          "base_uri": "https://localhost:8080/",
          "height": 564
        },
        "id": "QYarYn7GwYXn",
        "outputId": "b9877d55-b57c-41d6-a19d-24c3d88daa4d"
      },
      "execution_count": 66,
      "outputs": [
        {
          "output_type": "display_data",
          "data": {
            "text/plain": [
              "<Figure size 800x600 with 2 Axes>"
            ],
            "image/png": "[encoded data removed]"
          },
          "metadata": {}
        }
      ]
    },
    {
      "cell_type": "markdown",
      "source": [
        "Model Oversample + Normalisasi pada dataset"
      ],
      "metadata": {
        "id": "d52ROSdVwbuh"
      }
    },
    {
      "cell_type": "code",
      "source": [
        "# KNN\n",
        "knn_model = KNeighborsClassifier(n_neighbors=3)\n",
        "knn_model.fit(X_train_normal, y_train_normal)"
      ],
      "metadata": {
        "colab": {
          "base_uri": "https://localhost:8080/",
          "height": 75
        },
        "id": "QI_API8vwYhq",
        "outputId": "5a054702-3208-4d9e-8870-2fee923f7969"
      },
      "execution_count": 67,
      "outputs": [
        {
          "output_type": "execute_result",
          "data": {
            "text/plain": [
              "KNeighborsClassifier(n_neighbors=3)"
            ],
            "text/html": [
              "<style>#sk-container-id-3 {color: black;background-color: white;}#sk-container-id-3 pre{padding: 0;}#sk-container-id-3 div.sk-toggleable {background-color: white;}#sk-container-id-3 label.sk-toggleable__label {cursor: pointer;display: block;width: 100%;margin-bottom: 0;padding: 0.3em;box-sizing: border-box;text-align: center;}#sk-container-id-3 label.sk-toggleable__label-arrow:before {content: \"▸\";float: left;margin-right: 0.25em;color: #696969;}#sk-container-id-3 label.sk-toggleable__label-arrow:hover:before {color: black;}#sk-container-id-3 div.sk-estimator:hover label.sk-toggleable__label-arrow:before {color: black;}#sk-container-id-3 div.sk-toggleable__content {max-height: 0;max-width: 0;overflow: hidden;text-align: left;background-color: #f0f8ff;}#sk-container-id-3 div.sk-toggleable__content pre {margin: 0.2em;color: black;border-radius: 0.25em;background-color: #f0f8ff;}#sk-container-id-3 input.sk-toggleable__control:checked~div.sk-toggleable__content {max-height: 200px;max-width: 100%;overflow: auto;}#sk-container-id-3 input.sk-toggleable__control:checked~label.sk-toggleable__label-arrow:before {content: \"▾\";}#sk-container-id-3 div.sk-estimator input.sk-toggleable__control:checked~label.sk-toggleable__label {background-color: #d4ebff;}#sk-container-id-3 div.sk-label input.sk-toggleable__control:checked~label.sk-toggleable__label {background-color: #d4ebff;}#sk-container-id-3 input.sk-hidden--visually {border: 0;clip: rect(1px 1px 1px 1px);clip: rect(1px, 1px, 1px, 1px);height: 1px;margin: -1px;overflow: hidden;padding: 0;position: absolute;width: 1px;}#sk-container-id-3 div.sk-estimator {font-family: monospace;background-color: #f0f8ff;border: 1px dotted black;border-radius: 0.25em;box-sizing: border-box;margin-bottom: 0.5em;}#sk-container-id-3 div.sk-estimator:hover {background-color: #d4ebff;}#sk-container-id-3 div.sk-parallel-item::after {content: \"\";width: 100%;border-bottom: 1px solid gray;flex-grow: 1;}#sk-container-id-3 div.sk-label:hover label.sk-toggleable__label {background-color: #d4ebff;}#sk-container-id-3 div.sk-serial::before {content: \"\";position: absolute;border-left: 1px solid gray;box-sizing: border-box;top: 0;bottom: 0;left: 50%;z-index: 0;}#sk-container-id-3 div.sk-serial {display: flex;flex-direction: column;align-items: center;background-color: white;padding-right: 0.2em;padding-left: 0.2em;position: relative;}#sk-container-id-3 div.sk-item {position: relative;z-index: 1;}#sk-container-id-3 div.sk-parallel {display: flex;align-items: stretch;justify-content: center;background-color: white;position: relative;}#sk-container-id-3 div.sk-item::before, #sk-container-id-3 div.sk-parallel-item::before {content: \"\";position: absolute;border-left: 1px solid gray;box-sizing: border-box;top: 0;bottom: 0;left: 50%;z-index: -1;}#sk-container-id-3 div.sk-parallel-item {display: flex;flex-direction: column;z-index: 1;position: relative;background-color: white;}#sk-container-id-3 div.sk-parallel-item:first-child::after {align-self: flex-end;width: 50%;}#sk-container-id-3 div.sk-parallel-item:last-child::after {align-self: flex-start;width: 50%;}#sk-container-id-3 div.sk-parallel-item:only-child::after {width: 0;}#sk-container-id-3 div.sk-dashed-wrapped {border: 1px dashed gray;margin: 0 0.4em 0.5em 0.4em;box-sizing: border-box;padding-bottom: 0.4em;background-color: white;}#sk-container-id-3 div.sk-label label {font-family: monospace;font-weight: bold;display: inline-block;line-height: 1.2em;}#sk-container-id-3 div.sk-label-container {text-align: center;}#sk-container-id-3 div.sk-container {/* jupyter's `normalize.less` sets `[hidden] { display: none; }` but bootstrap.min.css set `[hidden] { display: none !important; }` so we also need the `!important` here to be able to override the default hidden behavior on the sphinx rendered scikit-learn.org. See: https://github.com/scikit-learn/scikit-learn/issues/21755 */display: inline-block !important;position: relative;}#sk-container-id-3 div.sk-text-repr-fallback {display: none;}</style><div id=\"sk-container-id-3\" class=\"sk-top-container\"><div class=\"sk-text-repr-fallback\"><pre>KNeighborsClassifier(n_neighbors=3)</pre><b>In a Jupyter environment, please rerun this cell to show the HTML representation or trust the notebook. <br />On GitHub, the HTML representation is unable to render, please try loading this page with nbviewer.org.</b></div><div class=\"sk-container\" hidden><div class=\"sk-item\"><div class=\"sk-estimator sk-toggleable\"><input class=\"sk-toggleable__control sk-hidden--visually\" id=\"sk-estimator-id-3\" type=\"checkbox\" checked><label for=\"sk-estimator-id-3\" class=\"sk-toggleable__label sk-toggleable__label-arrow\">KNeighborsClassifier</label><div class=\"sk-toggleable__content\"><pre>KNeighborsClassifier(n_neighbors=3)</pre></div></div></div></div></div>"
            ]
          },
          "metadata": {},
          "execution_count": 67
        }
      ]
    },
    {
      "cell_type": "code",
      "source": [
        "y_pred_knn = knn_model.predict(X_test_normal)\n",
        "# Evaluate the KNN model\n",
        "print(\"K-Nearest Neighbors (KNN) Model:\")\n",
        "accuracy_knn_smote_normal = round(accuracy_score(y_test_normal,y_pred_knn),3)\n",
        "print(\"Accuracy:\", accuracy_knn_smote_normal)\n",
        "print(\"Classification Report:\")\n",
        "print(classification_report(y_test_normal, y_pred_knn))"
      ],
      "metadata": {
        "colab": {
          "base_uri": "https://localhost:8080/"
        },
        "id": "Z0AVRoCcwhII",
        "outputId": "77846409-f3ac-4f01-fa5d-b2bdfc5905aa"
      },
      "execution_count": 68,
      "outputs": [
        {
          "output_type": "stream",
          "name": "stdout",
          "text": [
            "K-Nearest Neighbors (KNN) Model:\n",
            "Accuracy: 0.822\n",
            "Classification Report:\n",
            "              precision    recall  f1-score   support\n",
            "\n",
            "         0.0       0.92      0.75      0.83        32\n",
            "         1.0       0.72      0.74      0.73        31\n",
            "         2.0       0.74      0.84      0.79        31\n",
            "         3.0       0.84      0.81      0.83        32\n",
            "         4.0       0.91      0.97      0.94        31\n",
            "\n",
            "    accuracy                           0.82       157\n",
            "   macro avg       0.83      0.82      0.82       157\n",
            "weighted avg       0.83      0.82      0.82       157\n",
            "\n"
          ]
        }
      ]
    },
    {
      "cell_type": "code",
      "source": [
        "evaluation(y_test_normal,y_pred_knn)"
      ],
      "metadata": {
        "colab": {
          "base_uri": "https://localhost:8080/"
        },
        "id": "3tS5dvCiwlsG",
        "outputId": "05e29075-5cc2-4587-f701-a6ccbe399f8d"
      },
      "execution_count": 70,
      "outputs": [
        {
          "output_type": "stream",
          "name": "stdout",
          "text": [
            "{'accuracy': 0.822, 'recall': 0.822, 'F1 score': 0.822, 'Precision score': 0.827}\n"
          ]
        }
      ]
    },
    {
      "cell_type": "code",
      "source": [
        "# Confusion Matrix on KNN Oversampled and Normalization\n",
        "cm = confusion_matrix(y_test_normal, y_pred_knn)\n",
        "plt.figure(figsize=(8, 6))\n",
        "sns.heatmap(cm, annot=True, fmt=\"d\", cmap=\"Blues\")\n",
        "plt.title('Confusion Matrix')\n",
        "plt.xlabel('True')\n",
        "plt.ylabel('Predict')\n",
        "plt.show()"
      ],
      "metadata": {
        "colab": {
          "base_uri": "https://localhost:8080/",
          "height": 564
        },
        "id": "YMQ99jNdwoUC",
        "outputId": "50adaac3-2b97-422e-ee1b-e5c4a57b294c"
      },
      "execution_count": 69,
      "outputs": [
        {
          "output_type": "display_data",
          "data": {
            "text/plain": [
              "<Figure size 800x600 with 2 Axes>"
            ],
            "image/png": "[encoded data removed]"
          },
          "metadata": {}
        }
      ]
    },
    {
      "cell_type": "code",
      "source": [
        "# RF\n",
        "rf_model = RandomForestClassifier(n_estimators=100, random_state=42)\n",
        "rf_model.fit(X_train_normal, y_train_normal)"
      ],
      "metadata": {
        "colab": {
          "base_uri": "https://localhost:8080/",
          "height": 75
        },
        "id": "gmPDFJDJwrBA",
        "outputId": "63507ab3-ca06-4fd4-c358-c51431ccd771"
      },
      "execution_count": 71,
      "outputs": [
        {
          "output_type": "execute_result",
          "data": {
            "text/plain": [
              "RandomForestClassifier(random_state=42)"
            ],
            "text/html": [
              "<style>#sk-container-id-4 {color: black;background-color: white;}#sk-container-id-4 pre{padding: 0;}#sk-container-id-4 div.sk-toggleable {background-color: white;}#sk-container-id-4 label.sk-toggleable__label {cursor: pointer;display: block;width: 100%;margin-bottom: 0;padding: 0.3em;box-sizing: border-box;text-align: center;}#sk-container-id-4 label.sk-toggleable__label-arrow:before {content: \"▸\";float: left;margin-right: 0.25em;color: #696969;}#sk-container-id-4 label.sk-toggleable__label-arrow:hover:before {color: black;}#sk-container-id-4 div.sk-estimator:hover label.sk-toggleable__label-arrow:before {color: black;}#sk-container-id-4 div.sk-toggleable__content {max-height: 0;max-width: 0;overflow: hidden;text-align: left;background-color: #f0f8ff;}#sk-container-id-4 div.sk-toggleable__content pre {margin: 0.2em;color: black;border-radius: 0.25em;background-color: #f0f8ff;}#sk-container-id-4 input.sk-toggleable__control:checked~div.sk-toggleable__content {max-height: 200px;max-width: 100%;overflow: auto;}#sk-container-id-4 input.sk-toggleable__control:checked~label.sk-toggleable__label-arrow:before {content: \"▾\";}#sk-container-id-4 div.sk-estimator input.sk-toggleable__control:checked~label.sk-toggleable__label {background-color: #d4ebff;}#sk-container-id-4 div.sk-label input.sk-toggleable__control:checked~label.sk-toggleable__label {background-color: #d4ebff;}#sk-container-id-4 input.sk-hidden--visually {border: 0;clip: rect(1px 1px 1px 1px);clip: rect(1px, 1px, 1px, 1px);height: 1px;margin: -1px;overflow: hidden;padding: 0;position: absolute;width: 1px;}#sk-container-id-4 div.sk-estimator {font-family: monospace;background-color: #f0f8ff;border: 1px dotted black;border-radius: 0.25em;box-sizing: border-box;margin-bottom: 0.5em;}#sk-container-id-4 div.sk-estimator:hover {background-color: #d4ebff;}#sk-container-id-4 div.sk-parallel-item::after {content: \"\";width: 100%;border-bottom: 1px solid gray;flex-grow: 1;}#sk-container-id-4 div.sk-label:hover label.sk-toggleable__label {background-color: #d4ebff;}#sk-container-id-4 div.sk-serial::before {content: \"\";position: absolute;border-left: 1px solid gray;box-sizing: border-box;top: 0;bottom: 0;left: 50%;z-index: 0;}#sk-container-id-4 div.sk-serial {display: flex;flex-direction: column;align-items: center;background-color: white;padding-right: 0.2em;padding-left: 0.2em;position: relative;}#sk-container-id-4 div.sk-item {position: relative;z-index: 1;}#sk-container-id-4 div.sk-parallel {display: flex;align-items: stretch;justify-content: center;background-color: white;position: relative;}#sk-container-id-4 div.sk-item::before, #sk-container-id-4 div.sk-parallel-item::before {content: \"\";position: absolute;border-left: 1px solid gray;box-sizing: border-box;top: 0;bottom: 0;left: 50%;z-index: -1;}#sk-container-id-4 div.sk-parallel-item {display: flex;flex-direction: column;z-index: 1;position: relative;background-color: white;}#sk-container-id-4 div.sk-parallel-item:first-child::after {align-self: flex-end;width: 50%;}#sk-container-id-4 div.sk-parallel-item:last-child::after {align-self: flex-start;width: 50%;}#sk-container-id-4 div.sk-parallel-item:only-child::after {width: 0;}#sk-container-id-4 div.sk-dashed-wrapped {border: 1px dashed gray;margin: 0 0.4em 0.5em 0.4em;box-sizing: border-box;padding-bottom: 0.4em;background-color: white;}#sk-container-id-4 div.sk-label label {font-family: monospace;font-weight: bold;display: inline-block;line-height: 1.2em;}#sk-container-id-4 div.sk-label-container {text-align: center;}#sk-container-id-4 div.sk-container {/* jupyter's `normalize.less` sets `[hidden] { display: none; }` but bootstrap.min.css set `[hidden] { display: none !important; }` so we also need the `!important` here to be able to override the default hidden behavior on the sphinx rendered scikit-learn.org. See: https://github.com/scikit-learn/scikit-learn/issues/21755 */display: inline-block !important;position: relative;}#sk-container-id-4 div.sk-text-repr-fallback {display: none;}</style><div id=\"sk-container-id-4\" class=\"sk-top-container\"><div class=\"sk-text-repr-fallback\"><pre>RandomForestClassifier(random_state=42)</pre><b>In a Jupyter environment, please rerun this cell to show the HTML representation or trust the notebook. <br />On GitHub, the HTML representation is unable to render, please try loading this page with nbviewer.org.</b></div><div class=\"sk-container\" hidden><div class=\"sk-item\"><div class=\"sk-estimator sk-toggleable\"><input class=\"sk-toggleable__control sk-hidden--visually\" id=\"sk-estimator-id-4\" type=\"checkbox\" checked><label for=\"sk-estimator-id-4\" class=\"sk-toggleable__label sk-toggleable__label-arrow\">RandomForestClassifier</label><div class=\"sk-toggleable__content\"><pre>RandomForestClassifier(random_state=42)</pre></div></div></div></div></div>"
            ]
          },
          "metadata": {},
          "execution_count": 71
        }
      ]
    },
    {
      "cell_type": "code",
      "source": [
        "y_pred_rf = rf_model.predict(X_test_normal)\n",
        "\n",
        "# Evaluate the Random Forest model\n",
        "print(\"\\nRandom Forest Model:\")\n",
        "accuracy_rf_smote_normal = round(accuracy_score(y_test_normal, y_pred_rf),3)\n",
        "print(\"Accuracy:\",accuracy_rf_smote_normal )\n",
        "print(\"Classification Report:\")\n",
        "print(classification_report(y_test_normal, y_pred_rf))"
      ],
      "metadata": {
        "colab": {
          "base_uri": "https://localhost:8080/"
        },
        "id": "w13Yjpm6wuj0",
        "outputId": "c203e1c0-77bc-4a08-b245-bade639975a0"
      },
      "execution_count": 72,
      "outputs": [
        {
          "output_type": "stream",
          "name": "stdout",
          "text": [
            "\n",
            "Random Forest Model:\n",
            "Accuracy: 0.949\n",
            "Classification Report:\n",
            "              precision    recall  f1-score   support\n",
            "\n",
            "         0.0       0.89      0.97      0.93        32\n",
            "         1.0       1.00      0.87      0.93        31\n",
            "         2.0       0.91      0.94      0.92        31\n",
            "         3.0       0.97      0.97      0.97        32\n",
            "         4.0       1.00      1.00      1.00        31\n",
            "\n",
            "    accuracy                           0.95       157\n",
            "   macro avg       0.95      0.95      0.95       157\n",
            "weighted avg       0.95      0.95      0.95       157\n",
            "\n"
          ]
        }
      ]
    },
    {
      "cell_type": "code",
      "source": [
        "evaluation(y_test_normal,y_pred_rf)"
      ],
      "metadata": {
        "colab": {
          "base_uri": "https://localhost:8080/"
        },
        "id": "ryjgA_btww5I",
        "outputId": "12aed664-274b-44fc-c23b-ac0e2906b321"
      },
      "execution_count": 73,
      "outputs": [
        {
          "output_type": "stream",
          "name": "stdout",
          "text": [
            "{'accuracy': 0.949, 'recall': 0.949, 'F1 score': 0.949, 'Precision score': 0.952}\n"
          ]
        }
      ]
    },
    {
      "cell_type": "code",
      "source": [
        "cm = confusion_matrix(y_test_normal, y_pred_rf)\n",
        "plt.figure(figsize=(8, 6))\n",
        "sns.heatmap(cm, annot=True, fmt=\"d\", cmap=\"Blues\")\n",
        "plt.title('Confusion Matrix')\n",
        "plt.xlabel('True')\n",
        "plt.ylabel('Predict')\n",
        "plt.show()"
      ],
      "metadata": {
        "colab": {
          "base_uri": "https://localhost:8080/",
          "height": 564
        },
        "id": "NZFbPLVUwy-n",
        "outputId": "78706358-198b-4a74-f3e1-89d659781049"
      },
      "execution_count": 74,
      "outputs": [
        {
          "output_type": "display_data",
          "data": {
            "text/plain": [
              "<Figure size 800x600 with 2 Axes>"
            ],
            "image/png": "[encoded data removed]"
          },
          "metadata": {}
        }
      ]
    },
    {
      "cell_type": "code",
      "source": [
        "# XGBoost\n",
        "xgb_model = XGBClassifier(learning_rate=0.1, n_estimators=100, random_state=42)\n",
        "xgb_model.fit(X_train_normal, y_train_normal)"
      ],
      "metadata": {
        "colab": {
          "base_uri": "https://localhost:8080/",
          "height": 248
        },
        "id": "8B8IzXaxw8AD",
        "outputId": "163f8d45-fcba-4c57-d7a6-92887bdd1f81"
      },
      "execution_count": 92,
      "outputs": [
        {
          "output_type": "execute_result",
          "data": {
            "text/plain": [
              "XGBClassifier(base_score=None, booster=None, callbacks=None,\n",
              "              colsample_bylevel=None, colsample_bynode=None,\n",
              "              colsample_bytree=None, device=None, early_stopping_rounds=None,\n",
              "              enable_categorical=False, eval_metric=None, feature_types=None,\n",
              "              gamma=None, grow_policy=None, importance_type=None,\n",
              "              interaction_constraints=None, learning_rate=0.1, max_bin=None,\n",
              "              max_cat_threshold=None, max_cat_to_onehot=None,\n",
              "              max_delta_step=None, max_depth=None, max_leaves=None,\n",
              "              min_child_weight=None, missing=nan, monotone_constraints=None,\n",
              "              multi_strategy=None, n_estimators=100, n_jobs=None,\n",
              "              num_parallel_tree=None, objective='multi:softprob', ...)"
            ],
            "text/html": [
              "<style>#sk-container-id-6 {color: black;background-color: white;}#sk-container-id-6 pre{padding: 0;}#sk-container-id-6 div.sk-toggleable {background-color: white;}#sk-container-id-6 label.sk-toggleable__label {cursor: pointer;display: block;width: 100%;margin-bottom: 0;padding: 0.3em;box-sizing: border-box;text-align: center;}#sk-container-id-6 label.sk-toggleable__label-arrow:before {content: \"▸\";float: left;margin-right: 0.25em;color: #696969;}#sk-container-id-6 label.sk-toggleable__label-arrow:hover:before {color: black;}#sk-container-id-6 div.sk-estimator:hover label.sk-toggleable__label-arrow:before {color: black;}#sk-container-id-6 div.sk-toggleable__content {max-height: 0;max-width: 0;overflow: hidden;text-align: left;background-color: #f0f8ff;}#sk-container-id-6 div.sk-toggleable__content pre {margin: 0.2em;color: black;border-radius: 0.25em;background-color: #f0f8ff;}#sk-container-id-6 input.sk-toggleable__control:checked~div.sk-toggleable__content {max-height: 200px;max-width: 100%;overflow: auto;}#sk-container-id-6 input.sk-toggleable__control:checked~label.sk-toggleable__label-arrow:before {content: \"▾\";}#sk-container-id-6 div.sk-estimator input.sk-toggleable__control:checked~label.sk-toggleable__label {background-color: #d4ebff;}#sk-container-id-6 div.sk-label input.sk-toggleable__control:checked~label.sk-toggleable__label {background-color: #d4ebff;}#sk-container-id-6 input.sk-hidden--visually {border: 0;clip: rect(1px 1px 1px 1px);clip: rect(1px, 1px, 1px, 1px);height: 1px;margin: -1px;overflow: hidden;padding: 0;position: absolute;width: 1px;}#sk-container-id-6 div.sk-estimator {font-family: monospace;background-color: #f0f8ff;border: 1px dotted black;border-radius: 0.25em;box-sizing: border-box;margin-bottom: 0.5em;}#sk-container-id-6 div.sk-estimator:hover {background-color: #d4ebff;}#sk-container-id-6 div.sk-parallel-item::after {content: \"\";width: 100%;border-bottom: 1px solid gray;flex-grow: 1;}#sk-container-id-6 div.sk-label:hover label.sk-toggleable__label {background-color: #d4ebff;}#sk-container-id-6 div.sk-serial::before {content: \"\";position: absolute;border-left: 1px solid gray;box-sizing: border-box;top: 0;bottom: 0;left: 50%;z-index: 0;}#sk-container-id-6 div.sk-serial {display: flex;flex-direction: column;align-items: center;background-color: white;padding-right: 0.2em;padding-left: 0.2em;position: relative;}#sk-container-id-6 div.sk-item {position: relative;z-index: 1;}#sk-container-id-6 div.sk-parallel {display: flex;align-items: stretch;justify-content: center;background-color: white;position: relative;}#sk-container-id-6 div.sk-item::before, #sk-container-id-6 div.sk-parallel-item::before {content: \"\";position: absolute;border-left: 1px solid gray;box-sizing: border-box;top: 0;bottom: 0;left: 50%;z-index: -1;}#sk-container-id-6 div.sk-parallel-item {display: flex;flex-direction: column;z-index: 1;position: relative;background-color: white;}#sk-container-id-6 div.sk-parallel-item:first-child::after {align-self: flex-end;width: 50%;}#sk-container-id-6 div.sk-parallel-item:last-child::after {align-self: flex-start;width: 50%;}#sk-container-id-6 div.sk-parallel-item:only-child::after {width: 0;}#sk-container-id-6 div.sk-dashed-wrapped {border: 1px dashed gray;margin: 0 0.4em 0.5em 0.4em;box-sizing: border-box;padding-bottom: 0.4em;background-color: white;}#sk-container-id-6 div.sk-label label {font-family: monospace;font-weight: bold;display: inline-block;line-height: 1.2em;}#sk-container-id-6 div.sk-label-container {text-align: center;}#sk-container-id-6 div.sk-container {/* jupyter's `normalize.less` sets `[hidden] { display: none; }` but bootstrap.min.css set `[hidden] { display: none !important; }` so we also need the `!important` here to be able to override the default hidden behavior on the sphinx rendered scikit-learn.org. See: https://github.com/scikit-learn/scikit-learn/issues/21755 */display: inline-block !important;position: relative;}#sk-container-id-6 div.sk-text-repr-fallback {display: none;}</style><div id=\"sk-container-id-6\" class=\"sk-top-container\"><div class=\"sk-text-repr-fallback\"><pre>XGBClassifier(base_score=None, booster=None, callbacks=None,\n",
              "              colsample_bylevel=None, colsample_bynode=None,\n",
              "              colsample_bytree=None, device=None, early_stopping_rounds=None,\n",
              "              enable_categorical=False, eval_metric=None, feature_types=None,\n",
              "              gamma=None, grow_policy=None, importance_type=None,\n",
              "              interaction_constraints=None, learning_rate=0.1, max_bin=None,\n",
              "              max_cat_threshold=None, max_cat_to_onehot=None,\n",
              "              max_delta_step=None, max_depth=None, max_leaves=None,\n",
              "              min_child_weight=None, missing=nan, monotone_constraints=None,\n",
              "              multi_strategy=None, n_estimators=100, n_jobs=None,\n",
              "              num_parallel_tree=None, objective=&#x27;multi:softprob&#x27;, ...)</pre><b>In a Jupyter environment, please rerun this cell to show the HTML representation or trust the notebook. <br />On GitHub, the HTML representation is unable to render, please try loading this page with nbviewer.org.</b></div><div class=\"sk-container\" hidden><div class=\"sk-item\"><div class=\"sk-estimator sk-toggleable\"><input class=\"sk-toggleable__control sk-hidden--visually\" id=\"sk-estimator-id-6\" type=\"checkbox\" checked><label for=\"sk-estimator-id-6\" class=\"sk-toggleable__label sk-toggleable__label-arrow\">XGBClassifier</label><div class=\"sk-toggleable__content\"><pre>XGBClassifier(base_score=None, booster=None, callbacks=None,\n",
              "              colsample_bylevel=None, colsample_bynode=None,\n",
              "              colsample_bytree=None, device=None, early_stopping_rounds=None,\n",
              "              enable_categorical=False, eval_metric=None, feature_types=None,\n",
              "              gamma=None, grow_policy=None, importance_type=None,\n",
              "              interaction_constraints=None, learning_rate=0.1, max_bin=None,\n",
              "              max_cat_threshold=None, max_cat_to_onehot=None,\n",
              "              max_delta_step=None, max_depth=None, max_leaves=None,\n",
              "              min_child_weight=None, missing=nan, monotone_constraints=None,\n",
              "              multi_strategy=None, n_estimators=100, n_jobs=None,\n",
              "              num_parallel_tree=None, objective=&#x27;multi:softprob&#x27;, ...)</pre></div></div></div></div></div>"
            ]
          },
          "metadata": {},
          "execution_count": 92
        }
      ]
    },
    {
      "cell_type": "code",
      "source": [
        "y_pred_xgb = xgb_model.predict(X_test_normal)\n",
        "\n",
        "# Evaluate the XGBoost model\n",
        "print(\"\\nXGBoost Model:\")\n",
        "accuracy_xgb_smote_normal = round(accuracy_score(y_test_normal, y_pred_xgb),3)\n",
        "print(\"Accuracy:\",accuracy_xgb_smote_normal)\n",
        "print(\"Classification Report:\")\n",
        "print(classification_report(y_test_normal, y_pred_xgb))\n",
        "\n",
        "evaluation(y_test_normal,y_pred_xgb)"
      ],
      "metadata": {
        "colab": {
          "base_uri": "https://localhost:8080/"
        },
        "id": "v-azSIo1xANB",
        "outputId": "873846d0-085d-4503-ce93-14e01b2d7ddb"
      },
      "execution_count": 93,
      "outputs": [
        {
          "output_type": "stream",
          "name": "stdout",
          "text": [
            "\n",
            "XGBoost Model:\n",
            "Accuracy: 0.885\n",
            "Classification Report:\n",
            "              precision    recall  f1-score   support\n",
            "\n",
            "         0.0       0.83      0.94      0.88        32\n",
            "         1.0       0.89      0.77      0.83        31\n",
            "         2.0       0.87      0.87      0.87        31\n",
            "         3.0       0.88      0.88      0.88        32\n",
            "         4.0       0.97      0.97      0.97        31\n",
            "\n",
            "    accuracy                           0.89       157\n",
            "   macro avg       0.89      0.89      0.88       157\n",
            "weighted avg       0.89      0.89      0.88       157\n",
            "\n",
            "{'accuracy': 0.885, 'recall': 0.885, 'F1 score': 0.885, 'Precision score': 0.887}\n"
          ]
        }
      ]
    },
    {
      "cell_type": "code",
      "source": [
        "cm = confusion_matrix(y_test_normal, y_pred_xgb)\n",
        "plt.figure(figsize=(8, 6))\n",
        "sns.heatmap(cm, annot=True, fmt=\"d\", cmap=\"Blues\")\n",
        "plt.title('Confusion Matrix')\n",
        "plt.xlabel('True')\n",
        "plt.ylabel('Predict')\n",
        "plt.show()"
      ],
      "metadata": {
        "colab": {
          "base_uri": "https://localhost:8080/",
          "height": 564
        },
        "id": "_gmAK4H7xEcJ",
        "outputId": "4577fcf8-bc2a-4207-ddc8-0437981e927b"
      },
      "execution_count": 77,
      "outputs": [
        {
          "output_type": "display_data",
          "data": {
            "text/plain": [
              "<Figure size 800x600 with 2 Axes>"
            ],
            "image/png": "[encoded data removed]"
          },
          "metadata": {}
        }
      ]
    },
    {
      "cell_type": "markdown",
      "source": [
        "Tunning + Normalization + Oversample"
      ],
      "metadata": {
        "id": "3LFOBgD_xJRo"
      }
    },
    {
      "cell_type": "code",
      "source": [
        "from sklearn.model_selection import RandomizedSearchCV\n",
        "\n",
        "# KNN\n",
        "knn_model = KNeighborsClassifier()\n",
        "\n",
        "param_grid = {\n",
        "\"n_neighbors\": range(3, 21),\n",
        "\"metric\": [\"euclidean\", \"manhattan\", \"chebyshev\"],\n",
        "\"weights\": [\"uniform\", \"distance\"],\n",
        "\"algorithm\": [\"auto\", \"ball_tree\", \"kd_tree\"],\n",
        "\"leaf_size\": range(10, 61),\n",
        "}\n",
        "knn_model = RandomizedSearchCV(estimator=knn_model, param_distributions=param_grid,\n",
        "                               n_iter=100, scoring=\"accuracy\", cv=5)\n",
        "\n",
        "knn_model.fit(X_train_normal, y_train_normal)\n",
        "\n",
        "best_params = knn_model.best_params_\n",
        "print(f\"Best parameters: {best_params}\")"
      ],
      "metadata": {
        "colab": {
          "base_uri": "https://localhost:8080/"
        },
        "id": "HZHn1TdpxLgi",
        "outputId": "f48c4c65-1d11-4cc4-8837-8ca617c51be4"
      },
      "execution_count": 78,
      "outputs": [
        {
          "output_type": "stream",
          "name": "stdout",
          "text": [
            "Best parameters: {'weights': 'distance', 'n_neighbors': 4, 'metric': 'manhattan', 'leaf_size': 49, 'algorithm': 'ball_tree'}\n"
          ]
        }
      ]
    },
    {
      "cell_type": "code",
      "source": [
        "y_pred_knn = knn_model.predict(X_test_normal)\n",
        "\n",
        "# Evaluate the KNN model\n",
        "print(\"K-Nearest Neighbors (KNN) Model:\")\n",
        "accuracy_knn_smote_normal_Tun = round(accuracy_score(y_test_normal,y_pred_knn),3)\n",
        "print(\"Accuracy:\", accuracy_knn_smote_normal_Tun)\n",
        "print(\"Classification Report:\")\n",
        "print(classification_report(y_test_normal, y_pred_knn))\n",
        "\n",
        "evaluation(y_test_normal,y_pred_knn)"
      ],
      "metadata": {
        "colab": {
          "base_uri": "https://localhost:8080/"
        },
        "id": "GUzlPLHHxSbH",
        "outputId": "3907e8d9-9bf3-40ef-80a3-eb3801057f9a"
      },
      "execution_count": 94,
      "outputs": [
        {
          "output_type": "stream",
          "name": "stdout",
          "text": [
            "K-Nearest Neighbors (KNN) Model:\n",
            "Accuracy: 0.879\n",
            "Classification Report:\n",
            "              precision    recall  f1-score   support\n",
            "\n",
            "         0.0       0.96      0.81      0.88        32\n",
            "         1.0       0.86      0.77      0.81        31\n",
            "         2.0       0.85      0.90      0.88        31\n",
            "         3.0       0.83      0.94      0.88        32\n",
            "         4.0       0.91      0.97      0.94        31\n",
            "\n",
            "    accuracy                           0.88       157\n",
            "   macro avg       0.88      0.88      0.88       157\n",
            "weighted avg       0.88      0.88      0.88       157\n",
            "\n",
            "{'accuracy': 0.879, 'recall': 0.879, 'F1 score': 0.878, 'Precision score': 0.882}\n"
          ]
        }
      ]
    },
    {
      "cell_type": "code",
      "source": [
        "cm = confusion_matrix(y_test_normal, y_pred_knn)\n",
        "plt.figure(figsize=(8, 6))\n",
        "sns.heatmap(cm, annot=True, fmt=\"d\", cmap=\"Blues\")\n",
        "plt.title('Confusion Matrix')\n",
        "plt.xlabel('True')\n",
        "plt.ylabel('Predict')\n",
        "plt.show()"
      ],
      "metadata": {
        "colab": {
          "base_uri": "https://localhost:8080/",
          "height": 564
        },
        "id": "bWHJUoSJxZpl",
        "outputId": "2cbab9c5-0394-44a7-f89d-d467ab0a6c68"
      },
      "execution_count": 80,
      "outputs": [
        {
          "output_type": "display_data",
          "data": {
            "text/plain": [
              "<Figure size 800x600 with 2 Axes>"
            ],
            "image/png": "[encoded data removed]"
          },
          "metadata": {}
        }
      ]
    },
    {
      "cell_type": "code",
      "source": [
        "# Random Forest\n",
        "rf_model = RandomForestClassifier()\n",
        "\n",
        "param_grid = {\n",
        "\"n_estimators\": [100, 200],\n",
        "\"max_depth\": [ 10, 15],\n",
        "\"min_samples_leaf\": [1, 2],\n",
        "\"min_samples_split\": [2, 5],\n",
        "\"max_features\": [\"sqrt\", \"log2\"],\n",
        "# \"random_state\": [42, 100, 200]\n",
        "}\n",
        "\n",
        "rf_model = RandomizedSearchCV(rf_model, param_grid, n_iter=100, cv=5, n_jobs=-1)\n",
        "\n",
        "rf_model.fit(X_train_normal, y_train_normal)\n",
        "\n",
        "best_params = rf_model.best_params_\n",
        "print(f\"Best parameters: {best_params}\")"
      ],
      "metadata": {
        "colab": {
          "base_uri": "https://localhost:8080/"
        },
        "id": "AtX_IY7KxuJ0",
        "outputId": "581ccbc7-b0ad-4c27-d300-0ecbe8eed749"
      },
      "execution_count": 81,
      "outputs": [
        {
          "output_type": "stream",
          "name": "stderr",
          "text": [
            "/usr/local/lib/python3.10/dist-packages/sklearn/model_selection/_search.py:305: UserWarning: The total space of parameters 32 is smaller than n_iter=100. Running 32 iterations. For exhaustive searches, use GridSearchCV.\n",
            "  warnings.warn(\n"
          ]
        },
        {
          "output_type": "stream",
          "name": "stdout",
          "text": [
            "Best parameters: {'n_estimators': 100, 'min_samples_split': 2, 'min_samples_leaf': 1, 'max_features': 'log2', 'max_depth': 15}\n"
          ]
        }
      ]
    },
    {
      "cell_type": "code",
      "source": [
        "y_pred_rf = rf_model.predict(X_test_normal)\n",
        "\n",
        "# Evaluate the Random Forest model\n",
        "print(\"\\nRandom Forest Model:\")\n",
        "accuracy_rf_smote_normal_Tun = round(accuracy_score(y_test_normal, y_pred_rf),3)\n",
        "print(\"Accuracy:\",accuracy_rf_smote_normal_Tun)\n",
        "print(\"Classification Report:\")\n",
        "print(classification_report(y_test_normal, y_pred_rf))\n",
        "\n",
        "evaluation(y_test_normal,y_pred_rf)"
      ],
      "metadata": {
        "colab": {
          "base_uri": "https://localhost:8080/"
        },
        "id": "5ERKPyU2xv0T",
        "outputId": "725c4e2c-2ca3-4f97-c832-a343031afe3d"
      },
      "execution_count": 95,
      "outputs": [
        {
          "output_type": "stream",
          "name": "stdout",
          "text": [
            "\n",
            "Random Forest Model:\n",
            "Accuracy: 0.936\n",
            "Classification Report:\n",
            "              precision    recall  f1-score   support\n",
            "\n",
            "         0.0       0.89      0.97      0.93        32\n",
            "         1.0       1.00      0.87      0.93        31\n",
            "         2.0       0.91      0.94      0.92        31\n",
            "         3.0       0.94      0.91      0.92        32\n",
            "         4.0       0.97      1.00      0.98        31\n",
            "\n",
            "    accuracy                           0.94       157\n",
            "   macro avg       0.94      0.94      0.94       157\n",
            "weighted avg       0.94      0.94      0.94       157\n",
            "\n",
            "{'accuracy': 0.936, 'recall': 0.936, 'F1 score': 0.936, 'Precision score': 0.939}\n"
          ]
        }
      ]
    },
    {
      "cell_type": "code",
      "source": [
        "cm = confusion_matrix(y_test_normal, y_pred_knn)\n",
        "plt.figure(figsize=(8, 6))\n",
        "sns.heatmap(cm, annot=True, fmt=\"d\", cmap=\"Blues\")\n",
        "plt.title('Confusion Matrix')\n",
        "plt.xlabel('True')\n",
        "plt.ylabel('Predict')\n",
        "plt.show()"
      ],
      "metadata": {
        "colab": {
          "base_uri": "https://localhost:8080/",
          "height": 564
        },
        "id": "zrm2rhctyE6u",
        "outputId": "80117bf4-02db-4117-c055-5bf0dc8bc5ef"
      },
      "execution_count": 83,
      "outputs": [
        {
          "output_type": "display_data",
          "data": {
            "text/plain": [
              "<Figure size 800x600 with 2 Axes>"
            ],
            "image/png": "[encoded data removed]"
          },
          "metadata": {}
        }
      ]
    },
    {
      "cell_type": "code",
      "source": [
        "# XGBoost\n",
        "xgb_model = XGBClassifier()\n",
        "\n",
        "param_grid = {\n",
        "\"max_depth\": [3, 5, 7],\n",
        "\"learning_rate\": [0.01, 0.1],\n",
        "\"n_estimators\": [100, 200],\n",
        "\"gamma\": [0, 0.1],\n",
        "\"colsample_bytree\": [0.7, 0.8],\n",
        "}\n",
        "xgb_model = RandomizedSearchCV(xgb_model, param_grid, n_iter=10, cv=5, n_jobs=-1)\n",
        "\n",
        "xgb_model.fit(X_train_normal, y_train_normal)\n",
        "\n",
        "best_params = xgb_model.best_params_\n",
        "print(f\"Best parameters: {best_params}\")"
      ],
      "metadata": {
        "colab": {
          "base_uri": "https://localhost:8080/"
        },
        "id": "BGIIE2LQyPRi",
        "outputId": "4b1aa32f-4e8f-420c-f259-22cc8fe317a4"
      },
      "execution_count": 84,
      "outputs": [
        {
          "output_type": "stream",
          "name": "stdout",
          "text": [
            "Best parameters: {'n_estimators': 100, 'max_depth': 5, 'learning_rate': 0.1, 'gamma': 0, 'colsample_bytree': 0.7}\n"
          ]
        }
      ]
    },
    {
      "cell_type": "code",
      "source": [
        "y_pred_xgb = xgb_model.predict(X_test_normal)\n",
        "\n",
        "# Evaluate the XGBoost model\n",
        "print(\"\\nXGBoost Model:\")\n",
        "accuracy_xgb_smote_normal_Tun = round(accuracy_score(y_test_normal, y_pred_xgb),3)\n",
        "print(\"Accuracy:\",accuracy_xgb_smote_normal_Tun)\n",
        "print(\"Classification Report:\")\n",
        "print(classification_report(y_test_normal, y_pred_xgb))\n",
        "\n",
        "evaluation(y_test_normal,y_pred_xgb)"
      ],
      "metadata": {
        "colab": {
          "base_uri": "https://localhost:8080/"
        },
        "id": "8r_yrF_EyZP8",
        "outputId": "ae3c4fda-d09e-4967-bd0d-0dc2a26fef1a"
      },
      "execution_count": 96,
      "outputs": [
        {
          "output_type": "stream",
          "name": "stdout",
          "text": [
            "\n",
            "XGBoost Model:\n",
            "Accuracy: 0.885\n",
            "Classification Report:\n",
            "              precision    recall  f1-score   support\n",
            "\n",
            "         0.0       0.83      0.94      0.88        32\n",
            "         1.0       0.89      0.77      0.83        31\n",
            "         2.0       0.87      0.87      0.87        31\n",
            "         3.0       0.88      0.88      0.88        32\n",
            "         4.0       0.97      0.97      0.97        31\n",
            "\n",
            "    accuracy                           0.89       157\n",
            "   macro avg       0.89      0.89      0.88       157\n",
            "weighted avg       0.89      0.89      0.88       157\n",
            "\n",
            "{'accuracy': 0.885, 'recall': 0.885, 'F1 score': 0.885, 'Precision score': 0.887}\n"
          ]
        }
      ]
    },
    {
      "cell_type": "code",
      "source": [
        "cm = confusion_matrix(y_test_normal, y_pred_xgb)\n",
        "plt.figure(figsize=(8, 6))\n",
        "sns.heatmap(cm, annot=True, fmt=\"d\", cmap=\"Blues\")\n",
        "plt.title('Confusion Matrix')\n",
        "plt.xlabel('True')\n",
        "plt.ylabel('Predict')\n",
        "plt.show()"
      ],
      "metadata": {
        "colab": {
          "base_uri": "https://localhost:8080/",
          "height": 564
        },
        "id": "NqPVQjLRypUd",
        "outputId": "7ea46b1c-fb9b-4318-f5a2-7104b367a0cd"
      },
      "execution_count": 86,
      "outputs": [
        {
          "output_type": "display_data",
          "data": {
            "text/plain": [
              "<Figure size 800x600 with 2 Axes>"
            ],
            "image/png": "[encoded data removed]"
          },
          "metadata": {}
        }
      ]
    },
    {
      "cell_type": "markdown",
      "source": [
        "### 8) Evaluasi"
      ],
      "metadata": {
        "id": "CEvjL-G1y1eK"
      }
    },
    {
      "cell_type": "code",
      "source": [
        "model_comp1 = pd.DataFrame({'Model': ['K-Nearest Neighbour','Random Forest',\n",
        "'XGBoost'], 'Accuracy': [accuracy_knn_smote*100,\n",
        "accuracy_rf_smote*100,accuracy_xgb_smote*100]})\n",
        "\n",
        "# Membuat bar plot dengan keterangan jumlah\n",
        "fig, ax = plt.subplots()\n",
        "bars = plt.bar(model_comp1['Model'], model_comp1['Accuracy'], color=['red', 'green', 'blue'])\n",
        "plt.xlabel('Model')\n",
        "plt.ylabel('Accuracy (%)')\n",
        "plt.title('Oversample')\n",
        "plt.xticks(rotation=45, ha='right') # Untuk memutar label sumbu x agar lebih mudah dibaca\n",
        "\n",
        "# Menambahkan keterangan jumlah di atas setiap bar\n",
        "for bar in bars:\n",
        "    yval = bar.get_height()\n",
        "    plt.text(bar.get_x() + bar.get_width()/2, yval, round(yval, 2), ha='center', va='bottom')\n",
        "\n",
        "plt.show()"
      ],
      "metadata": {
        "colab": {
          "base_uri": "https://localhost:8080/",
          "height": 569
        },
        "id": "SpRmZKMTy5J8",
        "outputId": "4d24395e-aba2-45e6-a556-26dcbd2e9251"
      },
      "execution_count": 87,
      "outputs": [
        {
          "output_type": "display_data",
          "data": {
            "text/plain": [
              "<Figure size 640x480 with 1 Axes>"
            ],
            "image/png": "[encoded data removed]"
          },
          "metadata": {}
        }
      ]
    },
    {
      "cell_type": "code",
      "source": [
        "model_comp2 = pd.DataFrame({'Model': ['K-Nearest Neighbour','Random Forest',\n",
        "'XGBoost'], 'Accuracy': [accuracy_knn_smote_normal*100,\n",
        "accuracy_rf_smote_normal*100,accuracy_xgb_smote_normal*100]})\n",
        "\n",
        "# Membuat bar plot dengan keterangan jumlah\n",
        "fig, ax = plt.subplots()\n",
        "bars = plt.bar(model_comp2['Model'], model_comp2['Accuracy'], color=['red', 'green', 'blue'])\n",
        "plt.xlabel('Model')\n",
        "plt.ylabel('Accuracy (%)')\n",
        "plt.title('Normalization + Oversampling')\n",
        "plt.xticks(rotation=45, ha='right') # Untuk memutar label sumbu x agar lebih mudah dibaca\n",
        "\n",
        "# Menambahkan keterangan jumlah di atas setiap bar\n",
        "for bar in bars:\n",
        "    yval = bar.get_height()\n",
        "    plt.text(bar.get_x() + bar.get_width()/2, yval, round(yval, 2), ha='center', va='bottom')\n",
        "\n",
        "plt.show()"
      ],
      "metadata": {
        "colab": {
          "base_uri": "https://localhost:8080/",
          "height": 569
        },
        "id": "vIRs68M5zHzA",
        "outputId": "e57e2ac5-8f6d-4c87-d595-44fb3e01aa0a"
      },
      "execution_count": 97,
      "outputs": [
        {
          "output_type": "display_data",
          "data": {
            "text/plain": [
              "<Figure size 640x480 with 1 Axes>"
            ],
            "image/png": "[encoded data removed]"
          },
          "metadata": {}
        }
      ]
    },
    {
      "cell_type": "code",
      "source": [
        "model_comp3 = pd.DataFrame({'Model': ['K-Nearest Neighbour','Random Forest',\n",
        "'XGBoost'], 'Accuracy': [accuracy_knn_smote_normal_Tun*100,\n",
        "accuracy_rf_smote_normal_Tun*100,accuracy_xgb_smote_normal_Tun*100]})\n",
        "\n",
        "# Membuat bar plot dengan keterangan jumlah\n",
        "fig, ax = plt.subplots()\n",
        "bars = plt.bar(model_comp3['Model'], model_comp3['Accuracy'], color=['red', 'green', 'blue'])\n",
        "plt.xlabel('Model')\n",
        "plt.ylabel('Accuracy (%)')\n",
        "plt.title('Normalization + Oversampling + Tunning')\n",
        "plt.xticks(rotation=45, ha='right') # Untuk memutar label sumbu x agar lebih mudah dibaca\n",
        "\n",
        "# Menambahkan keterangan jumlah di atas setiap bar\n",
        "for bar in bars:\n",
        "    yval = bar.get_height()\n",
        "    plt.text(bar.get_x() + bar.get_width()/2, yval, round(yval, 2), ha='center', va='bottom')\n",
        "\n",
        "plt.show()"
      ],
      "metadata": {
        "colab": {
          "base_uri": "https://localhost:8080/",
          "height": 569
        },
        "id": "TzGaKgAxzpEQ",
        "outputId": "7967072d-845e-4b71-f865-e924caa8b34a"
      },
      "execution_count": 98,
      "outputs": [
        {
          "output_type": "display_data",
          "data": {
            "text/plain": [
              "<Figure size 640x480 with 1 Axes>"
            ],
            "image/png": "[encoded data removed]"
          },
          "metadata": {}
        }
      ]
    },
    {
      "cell_type": "markdown",
      "source": [
        "### 9) Kesimpulan\n",
        "\n",
        "Setelah melakukan penelitian yang melibatkan pemodelan menggunakan algoritma KNN, Random Forest, dan XGBoost serta menerapkan berbagai strategi penanganan data seperti random over sampling SMOTE untuk menangani ketidakseimbangan data, penggunaan RandomSearchCV untuk penyetelan model, dan normalisasi data, hasil penelitian menunjukkan bahwa:\n",
        "\n",
        "    Dalam klasifikasi menggunakan Random Over Sampling SMOTE, model KNN mencapai akurasi sebesar 70.1%, model Random Forest mencapai 94.9%, dan model XGBoost mencapai 88.5%.\n",
        "    Selain itu, jika menggunakan data yang sudah dinormalisasi dan menerapkan Random Over Sampling SMOTE, model KNN mencapai akurasi sebesar 82.2%, model Random Forest tetap pada 94.9%, dan model XGBoost pada 88.5%.\n",
        "    Ketika menggunakan data yang telah disesuaikan melalui proses tunning RandomSearchCV, normalisasi, dan Random Over Sampling SMOTE, model KNN mencapai akurasi 87.6%, model Random Forest mengalami penurunan menjadi 93.6%, dan model XGBoost tetap pada 88.5%.\n",
        "\n",
        "Secara keseluruhan, penanganan ketidakseimbangan data melalui tunning parameter, normalisasi, dan oversampling memberikan dampak signifikan terhadap performa model klasifikasi. Meskipun metode ini meningkatkan akurasi pada model KNN dan XGBoost, model Random Forest justru mengalami penurunan akurasi yang cukup mencolok. Namun demikian, pemilihan model terbaik dan parameter optimal masih tetap berperan penting dalam meningkatkan akurasi dan kinerja model secara keseluruhan."
      ],
      "metadata": {
        "id": "lPxBVxj50tKu"
      }
    },
    {
      "cell_type": "code",
      "source": [
        "import pickle\n",
        "\n",
        ".info()"
      ],
      "metadata": {
        "colab": {
          "base_uri": "https://localhost:8080/",
          "height": 215
        },
        "id": "TjfqsCXR2MoT",
        "outputId": "800bcb04-6431-4565-cccd-5f8cb7aba9b2"
      },
      "execution_count": 101,
      "outputs": [
        {
          "output_type": "error",
          "ename": "AttributeError",
          "evalue": "'numpy.ndarray' object has no attribute 'info'",
          "traceback": [
            "\u001b[0;31m---------------------------------------------------------------------------\u001b[0m",
            "\u001b[0;31mAttributeError\u001b[0m                            Traceback (most recent call last)",
            "\u001b[0;32m<ipython-input-101-1e3818fc5e8d>\u001b[0m in \u001b[0;36m<cell line: 3>\u001b[0;34m()\u001b[0m\n\u001b[1;32m      1\u001b[0m \u001b[0;32mimport\u001b[0m \u001b[0mpickle\u001b[0m\u001b[0;34m\u001b[0m\u001b[0;34m\u001b[0m\u001b[0m\n\u001b[1;32m      2\u001b[0m \u001b[0;34m\u001b[0m\u001b[0m\n\u001b[0;32m----> 3\u001b[0;31m \u001b[0mX\u001b[0m\u001b[0;34m.\u001b[0m\u001b[0minfo\u001b[0m\u001b[0;34m(\u001b[0m\u001b[0;34m)\u001b[0m\u001b[0;34m\u001b[0m\u001b[0;34m\u001b[0m\u001b[0m\n\u001b[0m",
            "\u001b[0;31mAttributeError\u001b[0m: 'numpy.ndarray' object has no attribute 'info'"
          ]
        }
      ]
    },
    {
      "cell_type": "markdown",
      "source": [
        "### 10) Streamlit Link"
      ],
      "metadata": {
        "id": "j3lJ82nK1Yft"
      }
    }
  ]
}